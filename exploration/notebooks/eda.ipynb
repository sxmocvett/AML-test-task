{
 "cells": [
  {
   "cell_type": "markdown",
   "id": "4cd229d5",
   "metadata": {
    "pycharm": {
     "name": "#%% md\n"
    }
   },
   "source": [
    "# Constants & Libs"
   ]
  },
  {
   "cell_type": "code",
   "execution_count": 1,
   "id": "84ae9d4a",
   "metadata": {
    "ExecuteTime": {
     "end_time": "2023-01-10T10:07:32.932727Z",
     "start_time": "2023-01-10T10:07:32.908719Z"
    },
    "pycharm": {
     "name": "#%%\n"
    }
   },
   "outputs": [],
   "source": [
    "from pathlib import Path\n",
    "import os\n",
    "from tqdm import tqdm"
   ]
  },
  {
   "cell_type": "code",
   "execution_count": 2,
   "id": "89276bb2",
   "metadata": {
    "ExecuteTime": {
     "end_time": "2023-01-10T10:07:32.948729Z",
     "start_time": "2023-01-10T10:07:32.933722Z"
    },
    "pycharm": {
     "name": "#%%\n"
    }
   },
   "outputs": [
    {
     "data": {
      "text/plain": [
       "'D:\\\\PythonProjects\\\\AML_test_task\\\\exploration\\\\notebooks'"
      ]
     },
     "execution_count": 2,
     "metadata": {},
     "output_type": "execute_result"
    }
   ],
   "source": [
    "os.getcwd()"
   ]
  },
  {
   "cell_type": "code",
   "execution_count": 3,
   "id": "b2bfaa8b",
   "metadata": {
    "ExecuteTime": {
     "end_time": "2023-01-10T10:07:32.964720Z",
     "start_time": "2023-01-10T10:07:32.949720Z"
    },
    "pycharm": {
     "name": "#%%\n"
    }
   },
   "outputs": [],
   "source": [
    "PATH_TO_PROJECT = Path(os.getcwd()).parent.parent"
   ]
  },
  {
   "cell_type": "code",
   "execution_count": 4,
   "id": "e6a6ca18",
   "metadata": {
    "ExecuteTime": {
     "end_time": "2023-01-10T10:07:32.980721Z",
     "start_time": "2023-01-10T10:07:32.966733Z"
    },
    "pycharm": {
     "name": "#%%\n"
    }
   },
   "outputs": [],
   "source": [
    "os.chdir(PATH_TO_PROJECT)"
   ]
  },
  {
   "cell_type": "code",
   "execution_count": 5,
   "id": "c50725b7",
   "metadata": {
    "ExecuteTime": {
     "end_time": "2023-01-10T10:07:32.996723Z",
     "start_time": "2023-01-10T10:07:32.981725Z"
    },
    "pycharm": {
     "name": "#%%\n"
    }
   },
   "outputs": [
    {
     "data": {
      "text/plain": [
       "WindowsPath('D:/PythonProjects/AML_test_task')"
      ]
     },
     "execution_count": 5,
     "metadata": {},
     "output_type": "execute_result"
    }
   ],
   "source": [
    "PATH_TO_PROJECT"
   ]
  },
  {
   "cell_type": "code",
   "execution_count": 6,
   "id": "e097f373",
   "metadata": {
    "ExecuteTime": {
     "end_time": "2023-01-10T10:07:33.011719Z",
     "start_time": "2023-01-10T10:07:32.997721Z"
    },
    "pycharm": {
     "name": "#%%\n"
    }
   },
   "outputs": [],
   "source": [
    "import warnings\n",
    "warnings.filterwarnings('ignore')"
   ]
  },
  {
   "cell_type": "code",
   "execution_count": 7,
   "id": "9ab750da",
   "metadata": {
    "ExecuteTime": {
     "end_time": "2023-01-10T10:07:37.784237Z",
     "start_time": "2023-01-10T10:07:33.013720Z"
    },
    "pycharm": {
     "name": "#%%\n"
    }
   },
   "outputs": [],
   "source": [
    "import pandas as pd\n",
    "pd.set_option('display.max_columns', 500)\n",
    "import numpy as np\n",
    "import re\n",
    "\n",
    "from exploration.Modules.CheckerClass import Checker\n",
    "from exploration.Modules.VisualisationClass import Vizualization\n",
    "\n",
    "from feature_engine.encoding import MeanEncoder\n",
    "\n",
    "from sklearn.preprocessing import StandardScaler\n",
    "\n",
    "from sklearn.impute import SimpleImputer\n",
    "from catboost import CatBoostClassifier\n",
    "from sklearn.metrics import roc_auc_score\n",
    "from feature_engine.imputation import ArbitraryNumberImputer\n",
    "from sklearn.pipeline import Pipeline\n",
    "from sklearn.model_selection import StratifiedKFold\n",
    "from sklearn.linear_model import LogisticRegression\n",
    "from sklearn.calibration import calibration_curve\n",
    "from sklearn.calibration import CalibratedClassifierCV\n",
    "from matplotlib import pyplot\n",
    "from sklearn import cluster\n",
    "from sklearn.preprocessing import MinMaxScaler"
   ]
  },
  {
   "cell_type": "code",
   "execution_count": 8,
   "id": "dad40e75",
   "metadata": {
    "ExecuteTime": {
     "end_time": "2023-01-10T10:07:37.800228Z",
     "start_time": "2023-01-10T10:07:37.785241Z"
    },
    "pycharm": {
     "name": "#%%\n"
    }
   },
   "outputs": [],
   "source": [
    "from boruta import BorutaPy"
   ]
  },
  {
   "cell_type": "code",
   "execution_count": 9,
   "id": "0de6f0ed",
   "metadata": {
    "ExecuteTime": {
     "end_time": "2023-01-10T10:07:37.958913Z",
     "start_time": "2023-01-10T10:07:37.801229Z"
    },
    "pycharm": {
     "name": "#%%\n"
    }
   },
   "outputs": [],
   "source": [
    "from sklearn.ensemble import IsolationForest"
   ]
  },
  {
   "cell_type": "code",
   "execution_count": 10,
   "id": "06c292f7",
   "metadata": {
    "ExecuteTime": {
     "end_time": "2023-01-10T10:07:37.974913Z",
     "start_time": "2023-01-10T10:07:37.960914Z"
    },
    "pycharm": {
     "name": "#%%\n"
    }
   },
   "outputs": [],
   "source": [
    "from feature_engine.imputation import AddMissingIndicator"
   ]
  },
  {
   "cell_type": "code",
   "execution_count": 11,
   "id": "9431d218",
   "metadata": {
    "ExecuteTime": {
     "end_time": "2023-01-10T10:07:37.990913Z",
     "start_time": "2023-01-10T10:07:37.975915Z"
    },
    "pycharm": {
     "name": "#%%\n"
    }
   },
   "outputs": [],
   "source": [
    "from sklearn.model_selection import GridSearchCV\n",
    "import joblib"
   ]
  },
  {
   "cell_type": "code",
   "execution_count": 12,
   "id": "e8e2a4b5",
   "metadata": {
    "ExecuteTime": {
     "end_time": "2023-01-10T10:07:38.006913Z",
     "start_time": "2023-01-10T10:07:37.991916Z"
    },
    "pycharm": {
     "name": "#%%\n"
    }
   },
   "outputs": [],
   "source": [
    "# Imports from LightAutoML package\n",
    "# from lightautoml.automl.presets.tabular_presets import TabularAutoML\n",
    "# from lightautoml.tasks import Task"
   ]
  },
  {
   "cell_type": "code",
   "execution_count": 13,
   "id": "5b8a56fa",
   "metadata": {
    "ExecuteTime": {
     "end_time": "2023-01-10T10:07:38.022438Z",
     "start_time": "2023-01-10T10:07:38.007915Z"
    },
    "pycharm": {
     "name": "#%%\n"
    }
   },
   "outputs": [],
   "source": [
    "from sklearn.ensemble import RandomForestClassifier, GradientBoostingClassifier,VotingClassifier"
   ]
  },
  {
   "cell_type": "code",
   "execution_count": 14,
   "id": "6d1bf8f3",
   "metadata": {
    "ExecuteTime": {
     "end_time": "2023-01-10T10:07:38.386554Z",
     "start_time": "2023-01-10T10:07:38.023480Z"
    },
    "pycharm": {
     "name": "#%%\n"
    }
   },
   "outputs": [],
   "source": [
    "import lightgbm as lgb\n",
    "import xgboost as xgb"
   ]
  },
  {
   "cell_type": "code",
   "execution_count": 15,
   "id": "20d3badc",
   "metadata": {
    "ExecuteTime": {
     "end_time": "2023-01-10T10:07:38.402590Z",
     "start_time": "2023-01-10T10:07:38.387550Z"
    },
    "pycharm": {
     "name": "#%%\n"
    }
   },
   "outputs": [],
   "source": [
    "PATH_TO_TRAIN_DATA = PATH_TO_PROJECT.joinpath('data/raw_data/train.csv')\n",
    "PATH_TO_TEST_DATA = PATH_TO_PROJECT.joinpath('data/raw_data/test.csv')"
   ]
  },
  {
   "cell_type": "code",
   "execution_count": 16,
   "id": "9bbccbba",
   "metadata": {
    "ExecuteTime": {
     "end_time": "2023-01-10T10:07:38.418101Z",
     "start_time": "2023-01-10T10:07:38.403549Z"
    },
    "pycharm": {
     "name": "#%%\n"
    }
   },
   "outputs": [],
   "source": [
    "PATH_TO_ARTEFACTS = PATH_TO_PROJECT.joinpath('exploration/artefacts')"
   ]
  },
  {
   "cell_type": "code",
   "execution_count": 17,
   "id": "10bc94ac",
   "metadata": {
    "ExecuteTime": {
     "end_time": "2023-01-10T10:07:38.434145Z",
     "start_time": "2023-01-10T10:07:38.419094Z"
    },
    "pycharm": {
     "name": "#%%\n"
    }
   },
   "outputs": [],
   "source": [
    "PATH_TO_PREPARED_DATA = PATH_TO_PROJECT.joinpath('data/prepared_data')"
   ]
  },
  {
   "cell_type": "markdown",
   "id": "1d9ce9f7",
   "metadata": {
    "pycharm": {
     "name": "#%% md\n"
    }
   },
   "source": [
    "# Read file"
   ]
  },
  {
   "cell_type": "code",
   "execution_count": null,
   "id": "5b73db72",
   "metadata": {
    "pycharm": {
     "name": "#%%\n"
    }
   },
   "outputs": [],
   "source": [
    "train_data = pd.read_csv(PATH_TO_TRAIN_DATA)"
   ]
  },
  {
   "cell_type": "code",
   "execution_count": null,
   "id": "bbffd6d2",
   "metadata": {
    "pycharm": {
     "name": "#%%\n"
    }
   },
   "outputs": [],
   "source": [
    "test_data = pd.read_csv(PATH_TO_TEST_DATA)"
   ]
  },
  {
   "cell_type": "markdown",
   "id": "f84c22bb",
   "metadata": {
    "pycharm": {
     "name": "#%% md\n"
    }
   },
   "source": [
    "# EDA Train data"
   ]
  },
  {
   "cell_type": "code",
   "execution_count": null,
   "id": "61c96a7e",
   "metadata": {
    "pycharm": {
     "name": "#%%\n"
    }
   },
   "outputs": [],
   "source": [
    "train_data"
   ]
  },
  {
   "cell_type": "code",
   "execution_count": null,
   "id": "5e57485f",
   "metadata": {
    "pycharm": {
     "name": "#%%\n"
    }
   },
   "outputs": [],
   "source": [
    "test_data"
   ]
  },
  {
   "cell_type": "code",
   "execution_count": null,
   "id": "a8fbae49",
   "metadata": {
    "pycharm": {
     "name": "#%%\n"
    }
   },
   "outputs": [],
   "source": [
    "# совпадает ли Id с индексом\n",
    "sum(test_data['Id'].values != test_data.index.values)"
   ]
  },
  {
   "cell_type": "code",
   "execution_count": null,
   "id": "3b917bdf",
   "metadata": {
    "pycharm": {
     "name": "#%%\n"
    }
   },
   "outputs": [],
   "source": [
    "# удаление столбца Id\n",
    "test_data.drop(columns='Id', inplace=True)"
   ]
  },
  {
   "cell_type": "markdown",
   "id": "9bd0b3ef",
   "metadata": {
    "pycharm": {
     "name": "#%% md\n"
    }
   },
   "source": [
    "## watch types, NaNs and etc."
   ]
  },
  {
   "cell_type": "code",
   "execution_count": null,
   "id": "57c804fa",
   "metadata": {
    "pycharm": {
     "name": "#%%\n"
    }
   },
   "outputs": [],
   "source": [
    "train_data.info()"
   ]
  },
  {
   "cell_type": "code",
   "execution_count": null,
   "id": "176fe5c3",
   "metadata": {
    "pycharm": {
     "name": "#%%\n"
    }
   },
   "outputs": [],
   "source": [
    "test_data.info()"
   ]
  },
  {
   "cell_type": "markdown",
   "id": "8a5a0d43",
   "metadata": {
    "pycharm": {
     "name": "#%% md\n"
    }
   },
   "source": [
    "### types"
   ]
  },
  {
   "cell_type": "code",
   "execution_count": null,
   "id": "098dd0f5",
   "metadata": {
    "pycharm": {
     "name": "#%%\n"
    }
   },
   "outputs": [],
   "source": [
    "for col in train_data.columns:\n",
    "    print(col)\n",
    "    print(train_data[col].map(type).unique(), '\\n')"
   ]
  },
  {
   "cell_type": "code",
   "execution_count": null,
   "id": "ab9c7282",
   "metadata": {
    "pycharm": {
     "name": "#%%\n"
    }
   },
   "outputs": [],
   "source": [
    "for col in test_data.columns:\n",
    "    print(col)\n",
    "    print(test_data[col].map(type).unique(), '\\n')"
   ]
  },
  {
   "cell_type": "markdown",
   "id": "5130669d",
   "metadata": {
    "pycharm": {
     "name": "#%% md\n"
    }
   },
   "source": [
    "fact_dt только строковый тип, необходимо получить числа"
   ]
  },
  {
   "cell_type": "markdown",
   "id": "3b71867b",
   "metadata": {
    "pycharm": {
     "name": "#%% md\n"
    }
   },
   "source": [
    "столбцы в train и test в одинаковых форматах"
   ]
  },
  {
   "cell_type": "markdown",
   "id": "4b017200",
   "metadata": {
    "pycharm": {
     "name": "#%% md\n"
    }
   },
   "source": [
    "### get days from fact_dt"
   ]
  },
  {
   "cell_type": "code",
   "execution_count": null,
   "id": "650ceacc",
   "metadata": {
    "pycharm": {
     "name": "#%%\n"
    }
   },
   "outputs": [],
   "source": [
    "train_data"
   ]
  },
  {
   "cell_type": "markdown",
   "id": "97965a0c",
   "metadata": {
    "pycharm": {
     "name": "#%% md\n"
    }
   },
   "source": [
    "выделяем количество дней из строк в fact_dt"
   ]
  },
  {
   "cell_type": "code",
   "execution_count": null,
   "id": "9af7d381",
   "metadata": {
    "pycharm": {
     "name": "#%%\n"
    }
   },
   "outputs": [],
   "source": [
    "def get_days(data: pd.DataFrame, col: str):\n",
    "    day_numbers = []\n",
    "    for amount_days in data[col]:\n",
    "        days = int(re.search(r'[0-9]+', amount_days)[0])\n",
    "        day_numbers.append(days)\n",
    "    data[col] = day_numbers\n",
    "    return data"
   ]
  },
  {
   "cell_type": "code",
   "execution_count": null,
   "id": "4737a196",
   "metadata": {
    "pycharm": {
     "name": "#%%\n"
    }
   },
   "outputs": [],
   "source": [
    "train_data = get_days(train_data, 'fact_dt')\n",
    "test_data = get_days(test_data, 'fact_dt')"
   ]
  },
  {
   "cell_type": "markdown",
   "id": "08f1dcf7",
   "metadata": {
    "pycharm": {
     "name": "#%% md\n"
    }
   },
   "source": [
    "### describe features"
   ]
  },
  {
   "cell_type": "code",
   "execution_count": null,
   "id": "01739db5",
   "metadata": {
    "pycharm": {
     "name": "#%%\n"
    }
   },
   "outputs": [],
   "source": [
    "train_data.describe()"
   ]
  },
  {
   "cell_type": "code",
   "execution_count": null,
   "id": "00aefd50",
   "metadata": {
    "pycharm": {
     "name": "#%%\n"
    }
   },
   "outputs": [],
   "source": [
    "test_data.describe()"
   ]
  },
  {
   "cell_type": "markdown",
   "id": "e948cc4a",
   "metadata": {
    "pycharm": {
     "name": "#%% md\n"
    }
   },
   "source": [
    "макс. значения у entity_0015_ct, entity_0008_ct, entity_0001_ct  разлицаются в несколько раз, возможно выбросы"
   ]
  },
  {
   "cell_type": "code",
   "execution_count": null,
   "id": "28ffd333",
   "metadata": {
    "pycharm": {
     "name": "#%%\n"
    }
   },
   "outputs": [],
   "source": [
    "train_data.groupby('target').agg(['mean', 'min', 'max'])"
   ]
  },
  {
   "cell_type": "markdown",
   "id": "877bfce3",
   "metadata": {
    "pycharm": {
     "name": "#%% md\n"
    }
   },
   "source": [
    "cтолбец entity_0016_rt полностью разделяет таргет"
   ]
  },
  {
   "cell_type": "markdown",
   "id": "be142718",
   "metadata": {
    "pycharm": {
     "name": "#%% md\n"
    }
   },
   "source": [
    "столбцы с rt видимо должны быть >= 0, но entity_0016_rt < 0, cкорее всего выброс"
   ]
  },
  {
   "cell_type": "markdown",
   "id": "1923e99c",
   "metadata": {
    "pycharm": {
     "name": "#%% md\n"
    }
   },
   "source": [
    "столбец entity_0007_ct есть только для таргета 1"
   ]
  },
  {
   "cell_type": "code",
   "execution_count": null,
   "id": "f30b4162",
   "metadata": {
    "pycharm": {
     "name": "#%%\n"
    }
   },
   "outputs": [],
   "source": [
    "# сделаем идентификатор, чтобы посмотреть различия в значениях train и test\n",
    "train_data['train_or_test'] = 'train'\n",
    "test_data['train_or_test'] = 'test'"
   ]
  },
  {
   "cell_type": "code",
   "execution_count": null,
   "id": "7947aca7",
   "metadata": {
    "pycharm": {
     "name": "#%%\n"
    }
   },
   "outputs": [],
   "source": [
    "pd.concat([train_data, test_data]).groupby('train_or_test').agg(['mean', 'min', 'max'])"
   ]
  },
  {
   "cell_type": "markdown",
   "id": "3d43124f",
   "metadata": {
    "pycharm": {
     "name": "#%% md\n"
    }
   },
   "source": [
    "cтолбец entity_0016_rt имеет абсолютно разные значение на train и test\n",
    "возможно, стоит его вообще убрать или как-то преобразовать"
   ]
  },
  {
   "cell_type": "markdown",
   "id": "5f26ec16",
   "metadata": {
    "pycharm": {
     "name": "#%% md\n"
    }
   },
   "source": [
    "часть фичей из эмбедингов могут полностью лежать в области < 0 (например emb_0020) на train, но при этом могут иметь значения > 0 на test, возможно выбросы"
   ]
  },
  {
   "cell_type": "code",
   "execution_count": null,
   "id": "d5aa2d41",
   "metadata": {
    "pycharm": {
     "name": "#%%\n"
    }
   },
   "outputs": [],
   "source": [
    "# Vizualization(train_data).numTargetHist(target='target', \n",
    "#                                         save_folder=f'{PATH_TO_ARTEFACTS}/train_features_target.png')"
   ]
  },
  {
   "cell_type": "code",
   "execution_count": null,
   "id": "25fe56fd",
   "metadata": {
    "pycharm": {
     "name": "#%%\n"
    }
   },
   "outputs": [],
   "source": [
    "# Vizualization(pd.concat([train_data, test_data])).numTargetHist(\n",
    "#     target='train_or_test', \n",
    "#     save_folder=f'{PATH_TO_ARTEFACTS}/train_test_features.png'\n",
    "# )"
   ]
  },
  {
   "cell_type": "markdown",
   "id": "89715e72",
   "metadata": {
    "pycharm": {
     "name": "#%% md\n"
    }
   },
   "source": [
    "небольшая доля user_id повторяется в train и test"
   ]
  },
  {
   "cell_type": "markdown",
   "id": "7bb3c4b2",
   "metadata": {
    "pycharm": {
     "name": "#%% md\n"
    }
   },
   "source": [
    "небольшая доля fact_dt повторяется в train и test, но в целом в test значения больше (возможно там более новые значения)"
   ]
  },
  {
   "cell_type": "code",
   "execution_count": null,
   "id": "f6bfc77f",
   "metadata": {
    "pycharm": {
     "name": "#%%\n"
    }
   },
   "outputs": [],
   "source": [
    "for col in train_data.columns:\n",
    "    print(col)\n",
    "    print(train_data[col].value_counts().iloc[:15], '\\n')"
   ]
  },
  {
   "cell_type": "markdown",
   "id": "0ab16235",
   "metadata": {
    "pycharm": {
     "name": "#%% md\n"
    }
   },
   "source": [
    "таргет несбалансирован"
   ]
  },
  {
   "cell_type": "code",
   "execution_count": null,
   "id": "33563364",
   "metadata": {
    "pycharm": {
     "name": "#%%\n"
    }
   },
   "outputs": [],
   "source": [
    "for col in test_data.columns:\n",
    "    print(col)\n",
    "    print(test_data[col].value_counts().iloc[:10], '\\n')"
   ]
  },
  {
   "cell_type": "markdown",
   "id": "c709b720",
   "metadata": {
    "pycharm": {
     "name": "#%% md\n"
    }
   },
   "source": [
    "категориальная переменная одна, категории одинаковые для train и test"
   ]
  },
  {
   "cell_type": "markdown",
   "id": "ee14b398",
   "metadata": {
    "pycharm": {
     "name": "#%% md\n"
    }
   },
   "source": [
    "#### change values"
   ]
  },
  {
   "cell_type": "markdown",
   "id": "e8f92b9d",
   "metadata": {
    "pycharm": {
     "name": "#%% md\n"
    }
   },
   "source": [
    "возможно допущена ошибка в данных entity_0016_rt, необходимо преобразовать, иначе невозможно использовать"
   ]
  },
  {
   "cell_type": "code",
   "execution_count": null,
   "id": "7ca8b009",
   "metadata": {
    "pycharm": {
     "name": "#%%\n"
    }
   },
   "outputs": [],
   "source": [
    "train_data['entity_0016_rt'] = np.where(train_data['entity_0016_rt'] < 0.5, \n",
    "                                        train_data['entity_0016_rt']+1,\n",
    "                                        train_data['entity_0016_rt'])"
   ]
  },
  {
   "cell_type": "code",
   "execution_count": null,
   "id": "09471cd4",
   "metadata": {
    "pycharm": {
     "name": "#%%\n"
    }
   },
   "outputs": [],
   "source": [
    "test_data['entity_0016_rt'] = np.where(test_data['entity_0016_rt'] < 0.5, \n",
    "                                       test_data['entity_0016_rt']+1,\n",
    "                                       test_data['entity_0016_rt'])"
   ]
  },
  {
   "cell_type": "markdown",
   "id": "0f2db83c",
   "metadata": {
    "pycharm": {
     "name": "#%% md\n"
    }
   },
   "source": [
    "преобразовываем категориальные переменные"
   ]
  },
  {
   "cell_type": "code",
   "execution_count": null,
   "id": "aea7e351",
   "metadata": {
    "pycharm": {
     "name": "#%%\n"
    }
   },
   "outputs": [],
   "source": [
    "train_data = pd.get_dummies(train_data)\n",
    "test_data = pd.get_dummies(test_data)"
   ]
  },
  {
   "cell_type": "code",
   "execution_count": null,
   "id": "56a72e97",
   "metadata": {
    "pycharm": {
     "name": "#%%\n"
    }
   },
   "outputs": [],
   "source": [
    "train_data.shape, test_data.shape"
   ]
  },
  {
   "cell_type": "markdown",
   "id": "0b53a588",
   "metadata": {
    "pycharm": {
     "name": "#%% md\n"
    }
   },
   "source": [
    "#### drop features"
   ]
  },
  {
   "cell_type": "code",
   "execution_count": null,
   "id": "ec2300db",
   "metadata": {
    "pycharm": {
     "name": "#%%\n"
    }
   },
   "outputs": [],
   "source": [
    "# убираем лишнюю колонку\n",
    "train_data.drop(columns=['train_or_test_train'], inplace=True)\n",
    "test_data.drop(columns=['train_or_test_test'], inplace=True)"
   ]
  },
  {
   "cell_type": "markdown",
   "id": "d7bea72f",
   "metadata": {
    "pycharm": {
     "name": "#%% md\n"
    }
   },
   "source": [
    "### check duplicates"
   ]
  },
  {
   "cell_type": "code",
   "execution_count": null,
   "id": "ed4d2a14",
   "metadata": {
    "pycharm": {
     "name": "#%%\n"
    }
   },
   "outputs": [],
   "source": [
    "# проверка на повторяющиеся строки\n",
    "len(train_data[train_data.duplicated()]), len(test_data[test_data.duplicated()])"
   ]
  },
  {
   "cell_type": "code",
   "execution_count": null,
   "id": "67a7885f",
   "metadata": {
    "pycharm": {
     "name": "#%%\n"
    }
   },
   "outputs": [],
   "source": [
    "# проверка на повторяющихся юзеров\n",
    "train_data[train_data.duplicated(subset='user_id', keep=False)]"
   ]
  },
  {
   "cell_type": "code",
   "execution_count": null,
   "id": "3a0686ba",
   "metadata": {
    "pycharm": {
     "name": "#%%\n"
    }
   },
   "outputs": [],
   "source": [
    "# величина таргета для повторяющихся юзеров\n",
    "train_data[train_data.duplicated(subset='user_id', keep=False)].mean()['target']"
   ]
  },
  {
   "cell_type": "code",
   "execution_count": null,
   "id": "8a7662cc",
   "metadata": {
    "pycharm": {
     "name": "#%%\n"
    }
   },
   "outputs": [],
   "source": [
    "test_data[test_data.duplicated(subset='user_id', keep=False)]"
   ]
  },
  {
   "cell_type": "markdown",
   "id": "d9070d61",
   "metadata": {
    "pycharm": {
     "name": "#%% md\n"
    }
   },
   "source": [
    "#### generate features"
   ]
  },
  {
   "cell_type": "code",
   "execution_count": null,
   "id": "ef064648",
   "metadata": {
    "pycharm": {
     "name": "#%%\n"
    }
   },
   "outputs": [],
   "source": [
    "train_data[train_data.duplicated(subset='user_id', keep=False)].mean()"
   ]
  },
  {
   "cell_type": "markdown",
   "id": "c7aca1b0",
   "metadata": {
    "pycharm": {
     "name": "#%% md\n"
    }
   },
   "source": [
    "повторяющихся юзеров можно использовать как допю фичу"
   ]
  },
  {
   "cell_type": "code",
   "execution_count": null,
   "id": "604363b9",
   "metadata": {
    "pycharm": {
     "name": "#%%\n"
    }
   },
   "outputs": [],
   "source": [
    "# определение списка повторяющихся юзеров\n",
    "duplicated_users_train = train_data[train_data.duplicated(subset='user_id', keep=False)]['user_id'].unique()\n",
    "duplicated_users_test = test_data[test_data.duplicated(subset='user_id', keep=False)]['user_id'].unique()"
   ]
  },
  {
   "cell_type": "code",
   "execution_count": null,
   "id": "fe689da0",
   "metadata": {
    "pycharm": {
     "name": "#%%\n"
    }
   },
   "outputs": [],
   "source": [
    "# создание доп фичи repeat_user\n",
    "train_data['repeat_user'] = np.where(train_data['user_id'].isin(duplicated_users_train), \n",
    "                                    1, \n",
    "                                    0)\n",
    "\n",
    "test_data['repeat_user'] = np.where(test_data['user_id'].isin(duplicated_users_test), \n",
    "                                    1, \n",
    "                                    0)"
   ]
  },
  {
   "cell_type": "code",
   "execution_count": null,
   "id": "7c018b8d",
   "metadata": {
    "pycharm": {
     "name": "#%%\n"
    }
   },
   "outputs": [],
   "source": [
    "# определение уникальных пользователей в train и test\n",
    "unique_id_train = set(train_data['user_id'].unique())\n",
    "unique_id_test = set(test_data['user_id'].unique())                      "
   ]
  },
  {
   "cell_type": "code",
   "execution_count": null,
   "id": "0111dbf8",
   "metadata": {
    "pycharm": {
     "name": "#%%\n"
    }
   },
   "outputs": [],
   "source": [
    "# кол-во одинаковых пользователей в train и test\n",
    "len(unique_id_train & unique_id_test)"
   ]
  },
  {
   "cell_type": "code",
   "execution_count": null,
   "id": "e1739737",
   "metadata": {
    "pycharm": {
     "name": "#%%\n"
    }
   },
   "outputs": [],
   "source": [
    "train_data[train_data['user_id'].isin(unique_id_test)]"
   ]
  },
  {
   "cell_type": "markdown",
   "id": "40e87031",
   "metadata": {
    "pycharm": {
     "name": "#%% md\n"
    }
   },
   "source": [
    "#### drop features"
   ]
  },
  {
   "cell_type": "code",
   "execution_count": null,
   "id": "83c22207",
   "metadata": {
    "pycharm": {
     "name": "#%%\n"
    }
   },
   "outputs": [],
   "source": [
    "# удаление признака user_id\n",
    "train_data.drop(columns='user_id', inplace=True)\n",
    "test_data.drop(columns='user_id', inplace=True)"
   ]
  },
  {
   "cell_type": "markdown",
   "id": "1a1e6581",
   "metadata": {
    "pycharm": {
     "name": "#%% md\n"
    }
   },
   "source": [
    "### check NaNs"
   ]
  },
  {
   "cell_type": "code",
   "execution_count": null,
   "id": "981ac131",
   "metadata": {
    "pycharm": {
     "name": "#%%\n"
    }
   },
   "outputs": [],
   "source": [
    "# определение процента пропусков в столбцах train\n",
    "Checker(train_data).check_missing()"
   ]
  },
  {
   "cell_type": "code",
   "execution_count": null,
   "id": "1e4325ee",
   "metadata": {
    "pycharm": {
     "name": "#%%\n"
    }
   },
   "outputs": [],
   "source": [
    "# определение процента пропусков в столбцах test\n",
    "Checker(test_data).check_missing()"
   ]
  },
  {
   "cell_type": "markdown",
   "id": "f65539e0",
   "metadata": {
    "pycharm": {
     "name": "#%% md\n"
    }
   },
   "source": [
    "видно, что пропуски в одних и тех же колонках, при чем у одних и тех же колонках процент пропусков одинаковый, в качестве доп. признаков можно использовать индикаторы пропусков"
   ]
  },
  {
   "cell_type": "markdown",
   "id": "feb51772",
   "metadata": {
    "pycharm": {
     "name": "#%% md\n"
    }
   },
   "source": [
    "#### generate new features"
   ]
  },
  {
   "cell_type": "code",
   "execution_count": null,
   "id": "928354ec",
   "metadata": {
    "pycharm": {
     "name": "#%%\n"
    }
   },
   "outputs": [],
   "source": [
    "ami = AddMissingIndicator()"
   ]
  },
  {
   "cell_type": "code",
   "execution_count": null,
   "id": "cdabad7c",
   "metadata": {
    "pycharm": {
     "name": "#%%\n"
    }
   },
   "outputs": [],
   "source": [
    "train_data = ami.fit_transform(train_data)"
   ]
  },
  {
   "cell_type": "code",
   "execution_count": null,
   "id": "b20f3780",
   "metadata": {
    "pycharm": {
     "name": "#%%\n"
    }
   },
   "outputs": [],
   "source": [
    "test_data = ami.fit_transform(test_data)"
   ]
  },
  {
   "cell_type": "code",
   "execution_count": null,
   "id": "b3d4bd4e",
   "metadata": {
    "pycharm": {
     "name": "#%%\n"
    }
   },
   "outputs": [],
   "source": [
    "train_data"
   ]
  },
  {
   "cell_type": "markdown",
   "id": "0f4eec6d",
   "metadata": {
    "pycharm": {
     "name": "#%% md\n"
    }
   },
   "source": [
    "проверим, на одних ли и тех же местах находятся пропуски, если да, то такие фичи одинаковы, часть из них надо удалить"
   ]
  },
  {
   "cell_type": "code",
   "execution_count": null,
   "id": "97138ff1",
   "metadata": {
    "pycharm": {
     "name": "#%%\n"
    }
   },
   "outputs": [],
   "source": [
    "(train_data['entity_0015_ct_na'] == train_data['entity_0008_ct_na']).sum()"
   ]
  },
  {
   "cell_type": "code",
   "execution_count": null,
   "id": "49c9b02f",
   "metadata": {
    "pycharm": {
     "name": "#%%\n"
    }
   },
   "outputs": [],
   "source": [
    "(train_data['entity_0006_rt_na'] == train_data['entity_0012_ct_na']).sum()"
   ]
  },
  {
   "cell_type": "markdown",
   "id": "efd69081",
   "metadata": {
    "pycharm": {
     "name": "#%% md\n"
    }
   },
   "source": [
    "#### drop features"
   ]
  },
  {
   "cell_type": "code",
   "execution_count": null,
   "id": "6c0a2701",
   "metadata": {
    "pycharm": {
     "name": "#%%\n"
    }
   },
   "outputs": [],
   "source": [
    "train_data.drop(columns=['entity_0008_ct_na', 'entity_0012_ct_na', 'entity_0014_rt_na'], inplace=True)\n",
    "test_data.drop(columns=['entity_0008_ct_na', 'entity_0012_ct_na', 'entity_0014_rt_na'], inplace=True)"
   ]
  },
  {
   "cell_type": "markdown",
   "id": "034ef066",
   "metadata": {
    "pycharm": {
     "name": "#%% md\n"
    }
   },
   "source": [
    "### correlations"
   ]
  },
  {
   "cell_type": "markdown",
   "source": [
    "оценим степень корреляции признаков между собой"
   ],
   "metadata": {
    "collapsed": false,
    "pycharm": {
     "name": "#%% md\n"
    }
   }
  },
  {
   "cell_type": "code",
   "execution_count": null,
   "outputs": [],
   "source": [
    "corr_data = Checker(train_data).featureCorrelation(target='target', corr_edge=0.7)"
   ],
   "metadata": {
    "collapsed": false,
    "pycharm": {
     "name": "#%%\n"
    }
   }
  },
  {
   "cell_type": "code",
   "execution_count": null,
   "outputs": [],
   "source": [
    "corr_data['negativeCorr']"
   ],
   "metadata": {
    "collapsed": false,
    "pycharm": {
     "name": "#%%\n"
    }
   }
  },
  {
   "cell_type": "code",
   "execution_count": null,
   "outputs": [],
   "source": [
    "corr_data['positiveCorr']"
   ],
   "metadata": {
    "collapsed": false,
    "pycharm": {
     "name": "#%%\n"
    }
   }
  },
  {
   "cell_type": "markdown",
   "source": [
    "### find outliers"
   ],
   "metadata": {
    "collapsed": false,
    "pycharm": {
     "name": "#%% md\n"
    }
   }
  },
  {
   "cell_type": "markdown",
   "source": [
    "добавим в качестве признаков индикаторы выбросов"
   ],
   "metadata": {
    "collapsed": false,
    "pycharm": {
     "name": "#%% md\n"
    }
   }
  },
  {
   "cell_type": "code",
   "execution_count": null,
   "outputs": [],
   "source": [
    "train_data.columns"
   ],
   "metadata": {
    "collapsed": false,
    "pycharm": {
     "name": "#%%\n"
    }
   }
  },
  {
   "cell_type": "code",
   "execution_count": null,
   "outputs": [],
   "source": [
    "cols_to_drop=['target', 'entity_0017_cd_a', 'entity_0017_cd_b', 'entity_0017_cd_c',\n",
    "       'entity_0017_cd_d', 'repeat_user', 'entity_0006_rt_na',\n",
    "       'entity_0007_ct_na', 'entity_0009_rt_na', 'entity_0010_rt_na',\n",
    "       'entity_0015_ct_na']"
   ],
   "metadata": {
    "collapsed": false,
    "pycharm": {
     "name": "#%%\n"
    }
   }
  },
  {
   "cell_type": "code",
   "execution_count": null,
   "outputs": [],
   "source": [
    "features_train_for_outliers = train_data.drop(columns=cols_to_drop).copy()\n",
    "features_test_for_outliers = test_data.drop(columns=cols_to_drop[1:]).copy()"
   ],
   "metadata": {
    "collapsed": false,
    "pycharm": {
     "name": "#%%\n"
    }
   }
  },
  {
   "cell_type": "code",
   "execution_count": null,
   "outputs": [],
   "source": [
    "features_train_for_outliers.fillna(-9999, inplace=True)\n",
    "features_test_for_outliers.fillna(-9999, inplace=True)"
   ],
   "metadata": {
    "collapsed": false,
    "pycharm": {
     "name": "#%%\n"
    }
   }
  },
  {
   "cell_type": "code",
   "execution_count": null,
   "outputs": [],
   "source": [
    "features_train_for_outliers"
   ],
   "metadata": {
    "collapsed": false,
    "pycharm": {
     "name": "#%%\n"
    }
   }
  },
  {
   "cell_type": "code",
   "execution_count": null,
   "outputs": [],
   "source": [
    "features_test_for_outliers"
   ],
   "metadata": {
    "collapsed": false,
    "pycharm": {
     "name": "#%%\n"
    }
   }
  },
  {
   "cell_type": "code",
   "execution_count": null,
   "outputs": [],
   "source": [
    "outliers_finder=IsolationForest(random_state=42, verbose=0)"
   ],
   "metadata": {
    "collapsed": false,
    "pycharm": {
     "name": "#%%\n"
    }
   }
  },
  {
   "cell_type": "code",
   "execution_count": null,
   "outputs": [],
   "source": [
    "for col in tqdm(features_train_for_outliers.columns):\n",
    "    outliers_finder.fit(features_train_for_outliers[[col]])\n",
    "    anomalies_detected_train = outliers_finder.predict(features_train_for_outliers[[col]])\n",
    "    anomalies_detected_test = outliers_finder.predict(features_test_for_outliers[[col]])\n",
    "    train_data[f'{col}_outlier'] = anomalies_detected_train\n",
    "    test_data[f'{col}_outlier'] = anomalies_detected_test"
   ],
   "metadata": {
    "collapsed": false,
    "pycharm": {
     "name": "#%%\n"
    }
   }
  },
  {
   "cell_type": "code",
   "execution_count": null,
   "outputs": [],
   "source": [
    "train_data"
   ],
   "metadata": {
    "collapsed": false,
    "pycharm": {
     "name": "#%%\n"
    }
   }
  },
  {
   "cell_type": "code",
   "execution_count": null,
   "outputs": [],
   "source": [
    "test_data"
   ],
   "metadata": {
    "collapsed": false,
    "pycharm": {
     "name": "#%%\n"
    }
   }
  },
  {
   "cell_type": "markdown",
   "source": [
    "### generate math features"
   ],
   "metadata": {
    "collapsed": false,
    "pycharm": {
     "name": "#%% md\n"
    }
   }
  },
  {
   "cell_type": "markdown",
   "source": [
    "генерирование параметров на основе мат функций"
   ],
   "metadata": {
    "collapsed": false,
    "pycharm": {
     "name": "#%% md\n"
    }
   }
  },
  {
   "cell_type": "code",
   "execution_count": null,
   "outputs": [],
   "source": [
    "embeding_columns = [col for col in train_data.columns if 'emb' in col and 'outlier' not in col]\n",
    "embeding_columns"
   ],
   "metadata": {
    "collapsed": false,
    "pycharm": {
     "name": "#%%\n"
    }
   }
  },
  {
   "cell_type": "code",
   "execution_count": null,
   "outputs": [],
   "source": [
    "count_columns = [col for col in train_data.columns if 'ct' in col]\n",
    "count_columns"
   ],
   "metadata": {
    "collapsed": false,
    "pycharm": {
     "name": "#%%\n"
    }
   }
  },
  {
   "cell_type": "code",
   "execution_count": null,
   "outputs": [],
   "source": [
    "ratio_columns = [col for col in train_data.columns if 'rt' in col]\n",
    "ratio_columns"
   ],
   "metadata": {
    "collapsed": false,
    "pycharm": {
     "name": "#%%\n"
    }
   }
  },
  {
   "cell_type": "code",
   "execution_count": null,
   "outputs": [],
   "source": [
    "def math_embeding_columns(data, columns):\n",
    "    embedings_features = data[columns].copy()\n",
    "    embedings_features['mul_emb'] = embedings_features.prod(axis=1)\n",
    "    embedings_features['sum_emb'] = embedings_features.sum(axis=1)\n",
    "    embedings_features['sum_abs_emb'] = abs(embedings_features).sum(axis=1)\n",
    "    embedings_features.drop(columns=columns, inplace=True)\n",
    "    return embedings_features"
   ],
   "metadata": {
    "collapsed": false,
    "pycharm": {
     "name": "#%%\n"
    }
   }
  },
  {
   "cell_type": "code",
   "execution_count": null,
   "outputs": [],
   "source": [
    "def math_count_columns(data, columns):\n",
    "    count_features = data[columns].copy()\n",
    "    count_features['mul_ct'] = count_features.fillna(1).prod(axis=1)\n",
    "    count_features['sum_ct'] = count_features.fillna(0).sum(axis=1)\n",
    "    count_features.drop(columns=columns, inplace=True)\n",
    "    return count_features"
   ],
   "metadata": {
    "collapsed": false,
    "pycharm": {
     "name": "#%%\n"
    }
   }
  },
  {
   "cell_type": "code",
   "execution_count": null,
   "outputs": [],
   "source": [
    "def math_ratio_columns(data, columns):\n",
    "    ratio_features = data[columns].copy()\n",
    "    ratio_features['mul_rt'] = ratio_features.fillna(1).prod(axis=1)\n",
    "    ratio_features['sum_rt'] = ratio_features.fillna(0).sum(axis=1)\n",
    "    ratio_features.drop(columns=columns, inplace=True)\n",
    "    return ratio_features"
   ],
   "metadata": {
    "collapsed": false,
    "pycharm": {
     "name": "#%%\n"
    }
   }
  },
  {
   "cell_type": "code",
   "execution_count": null,
   "outputs": [],
   "source": [
    "train_data[ratio_columns]"
   ],
   "metadata": {
    "collapsed": false,
    "pycharm": {
     "name": "#%%\n"
    }
   }
  },
  {
   "cell_type": "code",
   "execution_count": null,
   "outputs": [],
   "source": [
    "train_data_ratio = math_ratio_columns(train_data, ratio_columns)\n",
    "test_data_ratio = math_ratio_columns(test_data, ratio_columns)"
   ],
   "metadata": {
    "collapsed": false,
    "pycharm": {
     "name": "#%%\n"
    }
   }
  },
  {
   "cell_type": "code",
   "execution_count": null,
   "outputs": [],
   "source": [
    "train_data_math = math_count_columns(train_data, count_columns)\n",
    "test_data_math = math_count_columns(test_data, count_columns)"
   ],
   "metadata": {
    "collapsed": false,
    "pycharm": {
     "name": "#%%\n"
    }
   }
  },
  {
   "cell_type": "code",
   "execution_count": null,
   "outputs": [],
   "source": [
    "train_data_embeding = math_embeding_columns(train_data, embeding_columns)\n",
    "test_data_embeding = math_embeding_columns(test_data, embeding_columns)"
   ],
   "metadata": {
    "collapsed": false,
    "pycharm": {
     "name": "#%%\n"
    }
   }
  },
  {
   "cell_type": "code",
   "execution_count": null,
   "outputs": [],
   "source": [
    "train_data = pd.concat([train_data, train_data_ratio, train_data_math, train_data_embeding], axis=1)\n",
    "test_data = pd.concat([test_data, test_data_ratio, test_data_math, test_data_embeding], axis=1)"
   ],
   "metadata": {
    "collapsed": false,
    "pycharm": {
     "name": "#%%\n"
    }
   }
  },
  {
   "cell_type": "code",
   "execution_count": null,
   "outputs": [],
   "source": [
    "test_data"
   ],
   "metadata": {
    "collapsed": false,
    "pycharm": {
     "name": "#%%\n"
    }
   }
  },
  {
   "cell_type": "markdown",
   "source": [
    "### feature selection"
   ],
   "metadata": {
    "collapsed": false,
    "pycharm": {
     "name": "#%% md\n"
    }
   }
  },
  {
   "cell_type": "markdown",
   "source": [
    "через алгоритм boruta отберем важные признаки"
   ],
   "metadata": {
    "collapsed": false,
    "pycharm": {
     "name": "#%% md\n"
    }
   }
  },
  {
   "cell_type": "code",
   "execution_count": null,
   "outputs": [],
   "source": [
    "features_train_for_feature_selection = train_data.drop(columns='target').copy()\n",
    "target_train_for_feature_selection = train_data['target']"
   ],
   "metadata": {
    "collapsed": false,
    "pycharm": {
     "name": "#%%\n"
    }
   }
  },
  {
   "cell_type": "code",
   "execution_count": null,
   "outputs": [],
   "source": [
    "features_train_for_feature_selection"
   ],
   "metadata": {
    "collapsed": false,
    "pycharm": {
     "name": "#%%\n"
    }
   }
  },
  {
   "cell_type": "code",
   "execution_count": null,
   "outputs": [],
   "source": [
    "features_train_for_feature_selection.fillna(-9999, inplace=True)"
   ],
   "metadata": {
    "collapsed": false,
    "pycharm": {
     "name": "#%%\n"
    }
   }
  },
  {
   "cell_type": "code",
   "execution_count": null,
   "outputs": [],
   "source": [
    "rf = RandomForestClassifier(n_jobs=-1, class_weight='balanced', max_depth=10)"
   ],
   "metadata": {
    "collapsed": false,
    "pycharm": {
     "name": "#%%\n"
    }
   }
  },
  {
   "cell_type": "code",
   "execution_count": null,
   "outputs": [],
   "source": [
    "feature_selector = BorutaPy(rf, n_estimators='auto', verbose=2, random_state=1)"
   ],
   "metadata": {
    "collapsed": false,
    "pycharm": {
     "name": "#%%\n"
    }
   }
  },
  {
   "cell_type": "code",
   "execution_count": null,
   "outputs": [],
   "source": [
    "feature_selector.fit(features_train_for_feature_selection.values, \n",
    "                     target_train_for_feature_selection.values)"
   ],
   "metadata": {
    "collapsed": false,
    "pycharm": {
     "name": "#%%\n"
    }
   }
  },
  {
   "cell_type": "code",
   "execution_count": null,
   "outputs": [],
   "source": [
    "feature_selector.support_"
   ],
   "metadata": {
    "collapsed": false,
    "pycharm": {
     "name": "#%%\n"
    }
   }
  },
  {
   "cell_type": "code",
   "execution_count": null,
   "outputs": [],
   "source": [
    "len(feature_selector.support_)"
   ],
   "metadata": {
    "collapsed": false,
    "pycharm": {
     "name": "#%%\n"
    }
   }
  },
  {
   "cell_type": "code",
   "execution_count": null,
   "outputs": [],
   "source": [
    "need_cols = []\n",
    "for col, status in zip(features_train_for_feature_selection.columns, feature_selector.support_):\n",
    "    if status==True:\n",
    "        need_cols.append(col)"
   ],
   "metadata": {
    "collapsed": false,
    "pycharm": {
     "name": "#%%\n"
    }
   }
  },
  {
   "cell_type": "code",
   "execution_count": null,
   "outputs": [],
   "source": [
    "# check ranking of features\n",
    "feature_selector.ranking_"
   ],
   "metadata": {
    "collapsed": false,
    "pycharm": {
     "name": "#%%\n"
    }
   }
  },
  {
   "cell_type": "code",
   "execution_count": null,
   "outputs": [],
   "source": [
    "need_cols"
   ],
   "metadata": {
    "collapsed": false,
    "pycharm": {
     "name": "#%%\n"
    }
   }
  },
  {
   "cell_type": "markdown",
   "source": [
    "### make features_train, features_test, target_train and save"
   ],
   "metadata": {
    "collapsed": false,
    "pycharm": {
     "name": "#%% md\n"
    }
   }
  },
  {
   "cell_type": "code",
   "execution_count": null,
   "outputs": [],
   "source": [
    "features_train = train_data[need_cols]\n",
    "target_train = train_data['target']"
   ],
   "metadata": {
    "collapsed": false,
    "pycharm": {
     "name": "#%%\n"
    }
   }
  },
  {
   "cell_type": "code",
   "execution_count": null,
   "outputs": [],
   "source": [
    "features_test = test_data[need_cols]"
   ],
   "metadata": {
    "collapsed": false,
    "pycharm": {
     "name": "#%%\n"
    }
   }
  },
  {
   "cell_type": "code",
   "execution_count": null,
   "outputs": [],
   "source": [
    "features_train.to_pickle(f'{PATH_TO_PREPARED_DATA}/features_train.pickle')\n",
    "features_test.to_pickle(f'{PATH_TO_PREPARED_DATA}/features_test.pickle')\n",
    "target_train.to_pickle(f'{PATH_TO_PREPARED_DATA}/target_train.pickle')"
   ],
   "metadata": {
    "collapsed": false,
    "pycharm": {
     "name": "#%%\n"
    }
   }
  },
  {
   "cell_type": "markdown",
   "source": [
    "# Models"
   ],
   "metadata": {
    "collapsed": false,
    "pycharm": {
     "name": "#%% md\n"
    }
   }
  },
  {
   "cell_type": "markdown",
   "source": [
    "## load existing model"
   ],
   "metadata": {
    "collapsed": false,
    "pycharm": {
     "name": "#%% md\n"
    }
   }
  },
  {
   "cell_type": "code",
   "execution_count": null,
   "outputs": [],
   "source": [
    "best_model = joblib.load(f'{PATH_TO_ARTEFACTS}/model.pickle')"
   ],
   "metadata": {
    "collapsed": false,
    "pycharm": {
     "name": "#%%\n"
    }
   }
  },
  {
   "cell_type": "code",
   "execution_count": null,
   "outputs": [],
   "source": [
    "best_model.get_params()"
   ],
   "metadata": {
    "collapsed": false,
    "pycharm": {
     "name": "#%%\n"
    }
   }
  },
  {
   "cell_type": "markdown",
   "source": [
    "## read prepared files"
   ],
   "metadata": {
    "collapsed": false,
    "pycharm": {
     "name": "#%% md\n"
    }
   }
  },
  {
   "cell_type": "code",
   "execution_count": null,
   "outputs": [],
   "source": [
    "features_train = pd.read_pickle(f'{PATH_TO_PREPARED_DATA}/features_train.pickle')\n",
    "features_test = pd.read_pickle(f'{PATH_TO_PREPARED_DATA}/features_test.pickle')\n",
    "target_train = pd.read_pickle(f'{PATH_TO_PREPARED_DATA}/target_train.pickle')"
   ],
   "metadata": {
    "collapsed": false,
    "pycharm": {
     "name": "#%%\n"
    }
   }
  },
  {
   "cell_type": "code",
   "execution_count": null,
   "outputs": [],
   "source": [
    "features_train"
   ],
   "metadata": {
    "collapsed": false,
    "pycharm": {
     "name": "#%%\n"
    }
   }
  },
  {
   "cell_type": "code",
   "execution_count": null,
   "outputs": [],
   "source": [
    "features_test"
   ],
   "metadata": {
    "collapsed": false,
    "pycharm": {
     "name": "#%%\n"
    }
   }
  },
  {
   "cell_type": "markdown",
   "source": [
    "## baseline model"
   ],
   "metadata": {
    "collapsed": false,
    "pycharm": {
     "name": "#%% md\n"
    }
   }
  },
  {
   "cell_type": "markdown",
   "source": [
    "проба стандартных моделей"
   ],
   "metadata": {
    "collapsed": false,
    "pycharm": {
     "name": "#%% md\n"
    }
   }
  },
  {
   "cell_type": "code",
   "execution_count": null,
   "outputs": [],
   "source": [
    "pipeline_stages = []\n",
    "\n",
    "pipeline_stages.append((\"imputer\", ArbitraryNumberImputer(arbitrary_number=-9999)))\n",
    "pipeline_stages.append((\"model\", CatBoostClassifier(verbose=0)))\n",
    "\n",
    "pipeline = Pipeline(pipeline_stages)"
   ],
   "metadata": {
    "collapsed": false,
    "pycharm": {
     "name": "#%%\n"
    }
   }
  },
  {
   "cell_type": "code",
   "execution_count": null,
   "outputs": [],
   "source": [
    "param_grid = [\n",
    "    {\n",
    "        \"imputer\": [None],\n",
    "        \"model\": [CatBoostClassifier(n_estimators=1000, random_state=42, verbose=0, max_depth=10)],\n",
    "    },\n",
    "    {\n",
    "        \"imputer\": [ArbitraryNumberImputer(arbitrary_number=-9999)],\n",
    "        \"model\": [lgb.LGBMClassifier(n_estimators=1000, max_depth=10)],\n",
    "    },\n",
    "    {\n",
    "        \"imputer\": [ArbitraryNumberImputer(arbitrary_number=-9999)],\n",
    "        \"model\": [xgb.XGBClassifier(n_estimators=1000, max_depth=10)],\n",
    "    },\n",
    "]"
   ],
   "metadata": {
    "collapsed": false,
    "pycharm": {
     "name": "#%%\n"
    }
   }
  },
  {
   "cell_type": "code",
   "execution_count": null,
   "outputs": [],
   "source": [
    "tscv = StratifiedKFold(n_splits=5)"
   ],
   "metadata": {
    "collapsed": false,
    "pycharm": {
     "name": "#%%\n"
    }
   }
  },
  {
   "cell_type": "code",
   "execution_count": null,
   "outputs": [],
   "source": [
    "grid = GridSearchCV(pipeline, param_grid=param_grid, scoring=\"roc_auc\", cv=tscv, verbose=2)"
   ],
   "metadata": {
    "collapsed": false,
    "pycharm": {
     "name": "#%%\n"
    }
   }
  },
  {
   "cell_type": "code",
   "execution_count": null,
   "outputs": [],
   "source": [
    "grid.fit(features_train, target_train)"
   ],
   "metadata": {
    "collapsed": false,
    "pycharm": {
     "name": "#%%\n"
    }
   }
  },
  {
   "cell_type": "code",
   "execution_count": null,
   "outputs": [],
   "source": [
    "grid.best_estimator_"
   ],
   "metadata": {
    "collapsed": false,
    "pycharm": {
     "name": "#%%\n"
    }
   }
  },
  {
   "cell_type": "code",
   "execution_count": null,
   "outputs": [],
   "source": [
    "grid.best_score_"
   ],
   "metadata": {
    "collapsed": false,
    "pycharm": {
     "name": "#%%\n"
    }
   }
  },
  {
   "cell_type": "code",
   "execution_count": null,
   "outputs": [],
   "source": [
    "grid.cv_results_"
   ],
   "metadata": {
    "collapsed": false,
    "pycharm": {
     "name": "#%%\n"
    }
   }
  },
  {
   "cell_type": "markdown",
   "source": [
    "### voting models"
   ],
   "metadata": {
    "collapsed": false,
    "pycharm": {
     "name": "#%% md\n"
    }
   }
  },
  {
   "cell_type": "markdown",
   "source": [
    "эта модель, давшая один из 2 лучших сабмитов"
   ],
   "metadata": {
    "collapsed": false,
    "pycharm": {
     "name": "#%% md\n"
    }
   }
  },
  {
   "cell_type": "code",
   "execution_count": null,
   "outputs": [],
   "source": [
    "estimator = [\n",
    "    ('m1', CatBoostClassifier(n_estimators=1000, max_depth=10)),\n",
    "    ('m4', (lgb.LGBMClassifier(n_estimators=1000, max_depth=10))),\n",
    "    ('m5', xgb.XGBClassifier(n_estimators=1000, max_depth=10)),\n",
    "]"
   ],
   "metadata": {
    "collapsed": false,
    "pycharm": {
     "name": "#%%\n"
    }
   }
  },
  {
   "cell_type": "code",
   "execution_count": null,
   "outputs": [],
   "source": [
    "pipeline_stages = []\n",
    "\n",
    "pipeline_stages.append((\"imputer\", ArbitraryNumberImputer(arbitrary_number=-9999)))\n",
    "pipeline_stages.append(('model', VotingClassifier(estimators = estimator, voting='soft')))\n",
    "\n",
    "# Собираем все шаги в пайплайн\n",
    "pipeline = Pipeline(pipeline_stages)"
   ],
   "metadata": {
    "collapsed": false,
    "pycharm": {
     "name": "#%%\n"
    }
   }
  },
  {
   "cell_type": "code",
   "execution_count": null,
   "outputs": [],
   "source": [
    "tscv = StratifiedKFold(n_splits=5)"
   ],
   "metadata": {
    "collapsed": false,
    "pycharm": {
     "name": "#%%\n"
    }
   }
  },
  {
   "cell_type": "code",
   "execution_count": null,
   "outputs": [],
   "source": [
    "metric_results = []\n",
    "for train_idx, valid_idx in tscv.split(features_train, target_train):\n",
    "    # разбиваем по фолдам\n",
    "    X_train, X_test = features_train.iloc[train_idx], features_train.iloc[valid_idx]\n",
    "    y_train, y_test = target_train.iloc[train_idx], target_train.iloc[valid_idx]\n",
    "    # обучаем модель и считаем метрики\n",
    "    pipeline.fit(X_train, y_train)\n",
    "    y_pred = pipeline.predict_proba(X_test)\n",
    "    metric_results.append(roc_auc_score(y_test, y_pred[:, 1]))\n",
    "    print(roc_auc_score(y_test, y_pred[:, 1]))\n",
    "print(np.mean(metric_results))"
   ],
   "metadata": {
    "collapsed": false,
    "pycharm": {
     "name": "#%%\n"
    }
   }
  },
  {
   "cell_type": "markdown",
   "source": [
    "## find best model"
   ],
   "metadata": {
    "collapsed": false,
    "pycharm": {
     "name": "#%% md\n"
    }
   }
  },
  {
   "cell_type": "markdown",
   "source": [
    "выбор модели с подбором гиперпараметров (дает один из лучших 2 сабмитов)"
   ],
   "metadata": {
    "collapsed": false,
    "pycharm": {
     "name": "#%% md\n"
    }
   }
  },
  {
   "cell_type": "code",
   "execution_count": null,
   "outputs": [],
   "source": [
    "pipeline_stages = []\n",
    "\n",
    "pipeline_stages.append((\"imputer\", ArbitraryNumberImputer(arbitrary_number=-9999)))\n",
    "pipeline_stages.append((\"scaler\", StandardScaler()))\n",
    "pipeline_stages.append((\"model\", CatBoostClassifier(verbose=0)))\n",
    "\n",
    "pipeline = Pipeline(pipeline_stages)"
   ],
   "metadata": {
    "collapsed": false,
    "pycharm": {
     "name": "#%%\n"
    }
   }
  },
  {
   "cell_type": "code",
   "execution_count": null,
   "outputs": [],
   "source": [
    "param_grid = [\n",
    "    {\n",
    "        \"imputer\": [SimpleImputer(strategy='median'), ArbitraryNumberImputer(arbitrary_number=-9999)],\n",
    "        \"model\": [CatBoostClassifier(random_state=42, verbose=0)],\n",
    "        \"model__n_estimators\": [500, 1000],\n",
    "        \"model__max_depth\": [6, 8, 10, 12],\n",
    "        'model__loss_function': ['Logloss', 'CrossEntropy'],\n",
    "        \"model__l2_leaf_reg\": [3, 4, 5], \n",
    "        \"model__min_data_in_leaf\": [1, 3, 5],\n",
    "        \"scaler\": [None]\n",
    "    },\n",
    "    {\n",
    "        \"imputer\": [SimpleImputer(strategy='median'), ArbitraryNumberImputer(arbitrary_number=-9999)],\n",
    "        \"model\": [LogisticRegression(random_state=42)],\n",
    "        \"model__C\": [0.001, 0.01, 0.1, 1, 10, 100],\n",
    "        \"model__penalty\":['none', 'elasticnet', 'l1', 'l2'],\n",
    "        \"model__solver\": ['newton-cg', 'lbfgs', 'liblinear', 'sag', 'saga'],\n",
    "        \"scaler\": [StandardScaler()]\n",
    "    },\n",
    "]"
   ],
   "metadata": {
    "collapsed": false,
    "pycharm": {
     "name": "#%%\n"
    }
   }
  },
  {
   "cell_type": "code",
   "execution_count": null,
   "outputs": [],
   "source": [
    "tscv = StratifiedKFold(n_splits=5)"
   ],
   "metadata": {
    "collapsed": false,
    "pycharm": {
     "name": "#%%\n"
    }
   }
  },
  {
   "cell_type": "code",
   "execution_count": null,
   "outputs": [],
   "source": [
    "grid = GridSearchCV(pipeline, param_grid=param_grid, scoring=\"roc_auc\", cv=tscv, verbose=2)"
   ],
   "metadata": {
    "collapsed": false,
    "pycharm": {
     "name": "#%%\n"
    }
   }
  },
  {
   "cell_type": "code",
   "execution_count": null,
   "outputs": [],
   "source": [
    "grid.fit(features_train, target_train)"
   ],
   "metadata": {
    "collapsed": false,
    "pycharm": {
     "name": "#%%\n"
    }
   }
  },
  {
   "cell_type": "code",
   "execution_count": null,
   "outputs": [],
   "source": [
    "grid.best_estimator_"
   ],
   "metadata": {
    "collapsed": false,
    "pycharm": {
     "name": "#%%\n"
    }
   }
  },
  {
   "cell_type": "code",
   "execution_count": null,
   "outputs": [],
   "source": [
    "grid.best_score_"
   ],
   "metadata": {
    "collapsed": false,
    "pycharm": {
     "name": "#%%\n"
    }
   }
  },
  {
   "cell_type": "code",
   "execution_count": null,
   "outputs": [],
   "source": [
    "grid.cv_results_"
   ],
   "metadata": {
    "collapsed": false,
    "pycharm": {
     "name": "#%%\n"
    }
   }
  },
  {
   "cell_type": "markdown",
   "source": [
    "# Make submission"
   ],
   "metadata": {
    "collapsed": false,
    "pycharm": {
     "name": "#%% md\n"
    }
   }
  },
  {
   "cell_type": "code",
   "execution_count": null,
   "outputs": [],
   "source": [
    "# pipeline = grid.best_estimator_"
   ],
   "metadata": {
    "collapsed": false,
    "pycharm": {
     "name": "#%%\n"
    }
   }
  },
  {
   "cell_type": "code",
   "execution_count": null,
   "outputs": [],
   "source": [
    "pipeline.fit(features_train, target_train)"
   ],
   "metadata": {
    "collapsed": false,
    "pycharm": {
     "name": "#%%\n"
    }
   }
  },
  {
   "cell_type": "code",
   "execution_count": null,
   "outputs": [],
   "source": [
    "y_pred = pipeline.predict_proba(features_test)"
   ],
   "metadata": {
    "collapsed": false,
    "pycharm": {
     "name": "#%%\n"
    }
   }
  },
  {
   "cell_type": "code",
   "execution_count": null,
   "outputs": [],
   "source": [
    "y_pred = y_pred[:, 1]"
   ],
   "metadata": {
    "collapsed": false,
    "pycharm": {
     "name": "#%%\n"
    }
   }
  },
  {
   "cell_type": "code",
   "execution_count": null,
   "outputs": [],
   "source": [
    "len(y_pred), sum(y_pred)"
   ],
   "metadata": {
    "collapsed": false,
    "pycharm": {
     "name": "#%%\n"
    }
   }
  },
  {
   "cell_type": "code",
   "execution_count": null,
   "outputs": [],
   "source": [
    "calibrated_clf = CalibratedClassifierCV(pipeline, cv=StratifiedKFold(n_splits=5))\n",
    "calibrated_clf.fit(features_train, target_train)\n",
    "y_pred_proba = calibrated_clf.predict_proba(features_test)\n",
    "y_pred_proba = y_pred_proba[:, 1]"
   ],
   "metadata": {
    "collapsed": false,
    "pycharm": {
     "name": "#%%\n"
    }
   }
  },
  {
   "cell_type": "code",
   "execution_count": null,
   "outputs": [],
   "source": [
    "submit_data = pd.DataFrame(data=y_pred, columns=['Predicted'])"
   ],
   "metadata": {
    "collapsed": false,
    "pycharm": {
     "name": "#%%\n"
    }
   }
  },
  {
   "cell_type": "code",
   "execution_count": null,
   "outputs": [],
   "source": [
    "submit_data.to_csv(f'{PATH_TO_PREPARED_DATA}/submit.csv', index_label='Id', sep=\",\")"
   ],
   "metadata": {
    "collapsed": false,
    "pycharm": {
     "name": "#%%\n"
    }
   }
  }
 ],
 "metadata": {
  "kernelspec": {
   "display_name": "Python 3 (ipykernel)",
   "language": "python",
   "name": "python3"
  },
  "language_info": {
   "codemirror_mode": {
    "name": "ipython",
    "version": 3
   },
   "file_extension": ".py",
   "mimetype": "text/x-python",
   "name": "python",
   "nbconvert_exporter": "python",
   "pygments_lexer": "ipython3",
   "version": "3.7.6"
  },
  "toc": {
   "base_numbering": 1,
   "nav_menu": {
    "height": "156.997px",
    "width": "204.983px"
   },
   "number_sections": true,
   "sideBar": true,
   "skip_h1_title": false,
   "title_cell": "Table of Contents",
   "title_sidebar": "Contents",
   "toc_cell": false,
   "toc_position": {
    "height": "calc(100% - 180px)",
    "left": "10px",
    "top": "150px",
    "width": "285.391px"
   },
   "toc_section_display": true,
   "toc_window_display": true
  },
  "varInspector": {
   "cols": {
    "lenName": 16,
    "lenType": 16,
    "lenVar": 40
   },
   "kernels_config": {
    "python": {
     "delete_cmd_postfix": "",
     "delete_cmd_prefix": "del ",
     "library": "var_list.py",
     "varRefreshCmd": "print(var_dic_list())"
    },
    "r": {
     "delete_cmd_postfix": ") ",
     "delete_cmd_prefix": "rm(",
     "library": "var_list.r",
     "varRefreshCmd": "cat(var_dic_list()) "
    }
   },
   "types_to_exclude": [
    "module",
    "function",
    "builtin_function_or_method",
    "instance",
    "_Feature"
   ],
   "window_display": false
  }
 },
 "nbformat": 4,
 "nbformat_minor": 5
}