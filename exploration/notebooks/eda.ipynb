{
 "cells": [
  {
   "cell_type": "markdown",
   "id": "4cd229d5",
   "metadata": {
    "pycharm": {
     "name": "#%% md\n"
    }
   },
   "source": [
    "# Constants & Libs"
   ]
  },
  {
   "cell_type": "code",
   "execution_count": 1,
   "id": "84ae9d4a",
   "metadata": {
    "ExecuteTime": {
     "end_time": "2023-01-09T15:55:50.070743Z",
     "start_time": "2023-01-09T15:55:50.049746Z"
    },
    "pycharm": {
     "name": "#%%\n"
    }
   },
   "outputs": [],
   "source": [
    "from pathlib import Path\n",
    "import os\n",
    "from tqdm import tqdm"
   ]
  },
  {
   "cell_type": "code",
   "execution_count": 2,
   "id": "89276bb2",
   "metadata": {
    "ExecuteTime": {
     "end_time": "2023-01-09T15:55:50.085744Z",
     "start_time": "2023-01-09T15:55:50.072744Z"
    },
    "pycharm": {
     "name": "#%%\n"
    }
   },
   "outputs": [
    {
     "data": {
      "text/plain": [
       "'D:\\\\PythonProjects\\\\AML_test_task\\\\exploration\\\\notebooks'"
      ]
     },
     "execution_count": 2,
     "metadata": {},
     "output_type": "execute_result"
    }
   ],
   "source": [
    "os.getcwd()"
   ]
  },
  {
   "cell_type": "code",
   "execution_count": 3,
   "id": "b2bfaa8b",
   "metadata": {
    "ExecuteTime": {
     "end_time": "2023-01-09T15:55:50.101742Z",
     "start_time": "2023-01-09T15:55:50.087744Z"
    },
    "pycharm": {
     "name": "#%%\n"
    }
   },
   "outputs": [],
   "source": [
    "PATH_TO_PROJECT = Path(os.getcwd()).parent.parent"
   ]
  },
  {
   "cell_type": "code",
   "execution_count": 4,
   "id": "e6a6ca18",
   "metadata": {
    "ExecuteTime": {
     "end_time": "2023-01-09T15:55:50.117743Z",
     "start_time": "2023-01-09T15:55:50.103742Z"
    },
    "pycharm": {
     "name": "#%%\n"
    }
   },
   "outputs": [],
   "source": [
    "os.chdir(PATH_TO_PROJECT)"
   ]
  },
  {
   "cell_type": "code",
   "execution_count": 5,
   "id": "c50725b7",
   "metadata": {
    "ExecuteTime": {
     "end_time": "2023-01-09T15:55:50.133755Z",
     "start_time": "2023-01-09T15:55:50.119742Z"
    },
    "pycharm": {
     "name": "#%%\n"
    }
   },
   "outputs": [
    {
     "data": {
      "text/plain": [
       "WindowsPath('D:/PythonProjects/AML_test_task')"
      ]
     },
     "execution_count": 5,
     "metadata": {},
     "output_type": "execute_result"
    }
   ],
   "source": [
    "PATH_TO_PROJECT"
   ]
  },
  {
   "cell_type": "code",
   "execution_count": 6,
   "id": "e097f373",
   "metadata": {
    "ExecuteTime": {
     "end_time": "2023-01-09T15:55:50.149743Z",
     "start_time": "2023-01-09T15:55:50.135746Z"
    },
    "pycharm": {
     "name": "#%%\n"
    }
   },
   "outputs": [],
   "source": [
    "import warnings\n",
    "warnings.filterwarnings('ignore')"
   ]
  },
  {
   "cell_type": "code",
   "execution_count": 7,
   "id": "9ab750da",
   "metadata": {
    "ExecuteTime": {
     "end_time": "2023-01-09T15:55:51.631742Z",
     "start_time": "2023-01-09T15:55:50.151744Z"
    },
    "pycharm": {
     "name": "#%%\n"
    }
   },
   "outputs": [],
   "source": [
    "import pandas as pd\n",
    "pd.set_option('display.max_columns', 500)\n",
    "import numpy as np\n",
    "import re\n",
    "\n",
    "from exploration.Modules.CheckerClass import Checker\n",
    "from exploration.Modules.VisualisationClass import Vizualization\n",
    "\n",
    "from feature_engine.encoding import MeanEncoder\n",
    "\n",
    "from sklearn.preprocessing import StandardScaler\n",
    "\n",
    "from sklearn.impute import SimpleImputer\n",
    "from catboost import CatBoostClassifier\n",
    "from sklearn.metrics import roc_auc_score\n",
    "from feature_engine.imputation import ArbitraryNumberImputer\n",
    "from sklearn.pipeline import Pipeline\n",
    "from sklearn.model_selection import StratifiedKFold\n",
    "from sklearn.linear_model import LogisticRegression\n",
    "from sklearn.calibration import calibration_curve\n",
    "from sklearn.calibration import CalibratedClassifierCV\n",
    "from matplotlib import pyplot\n",
    "from sklearn import cluster\n",
    "from sklearn.preprocessing import MinMaxScaler"
   ]
  },
  {
   "cell_type": "code",
   "execution_count": 8,
   "id": "dad40e75",
   "metadata": {
    "ExecuteTime": {
     "end_time": "2023-01-09T15:55:51.693742Z",
     "start_time": "2023-01-09T15:55:51.632745Z"
    },
    "pycharm": {
     "name": "#%%\n"
    }
   },
   "outputs": [],
   "source": [
    "from boruta import BorutaPy"
   ]
  },
  {
   "cell_type": "code",
   "execution_count": 9,
   "id": "0de6f0ed",
   "metadata": {
    "ExecuteTime": {
     "end_time": "2023-01-09T15:55:51.725195Z",
     "start_time": "2023-01-09T15:55:51.694744Z"
    },
    "pycharm": {
     "name": "#%%\n"
    }
   },
   "outputs": [],
   "source": [
    "from sklearn.ensemble import IsolationForest"
   ]
  },
  {
   "cell_type": "code",
   "execution_count": 10,
   "id": "06c292f7",
   "metadata": {
    "ExecuteTime": {
     "end_time": "2023-01-09T15:55:51.741129Z",
     "start_time": "2023-01-09T15:55:51.728128Z"
    },
    "pycharm": {
     "name": "#%%\n"
    }
   },
   "outputs": [],
   "source": [
    "from feature_engine.imputation import AddMissingIndicator"
   ]
  },
  {
   "cell_type": "code",
   "execution_count": 11,
   "id": "9431d218",
   "metadata": {
    "ExecuteTime": {
     "end_time": "2023-01-09T15:55:51.757137Z",
     "start_time": "2023-01-09T15:55:51.742128Z"
    },
    "pycharm": {
     "name": "#%%\n"
    }
   },
   "outputs": [],
   "source": [
    "from sklearn.model_selection import GridSearchCV\n",
    "import joblib"
   ]
  },
  {
   "cell_type": "code",
   "execution_count": 12,
   "id": "e8e2a4b5",
   "metadata": {
    "ExecuteTime": {
     "end_time": "2023-01-09T15:55:52.809353Z",
     "start_time": "2023-01-09T15:55:51.758129Z"
    },
    "pycharm": {
     "name": "#%%\n"
    }
   },
   "outputs": [],
   "source": [
    "# Imports from LightAutoML package\n",
    "# from lightautoml.automl.presets.tabular_presets import TabularAutoML\n",
    "# from lightautoml.tasks import Task"
   ]
  },
  {
   "cell_type": "code",
   "execution_count": 13,
   "id": "5b8a56fa",
   "metadata": {
    "ExecuteTime": {
     "end_time": "2023-01-09T15:55:52.825346Z",
     "start_time": "2023-01-09T15:55:52.810353Z"
    },
    "pycharm": {
     "name": "#%%\n"
    }
   },
   "outputs": [],
   "source": [
    "from sklearn.ensemble import RandomForestClassifier, GradientBoostingClassifier,VotingClassifier"
   ]
  },
  {
   "cell_type": "code",
   "execution_count": 14,
   "id": "6d1bf8f3",
   "metadata": {
    "ExecuteTime": {
     "end_time": "2023-01-09T15:55:52.886956Z",
     "start_time": "2023-01-09T15:55:52.826375Z"
    },
    "pycharm": {
     "name": "#%%\n"
    }
   },
   "outputs": [],
   "source": [
    "import lightgbm as lgb\n",
    "import xgboost as xgb"
   ]
  },
  {
   "cell_type": "code",
   "execution_count": 15,
   "id": "20d3badc",
   "metadata": {
    "ExecuteTime": {
     "end_time": "2023-01-09T15:55:52.903109Z",
     "start_time": "2023-01-09T15:55:52.888956Z"
    },
    "pycharm": {
     "name": "#%%\n"
    }
   },
   "outputs": [],
   "source": [
    "PATH_TO_TRAIN_DATA = PATH_TO_PROJECT.joinpath('data/raw_data/train.csv')\n",
    "PATH_TO_TEST_DATA = PATH_TO_PROJECT.joinpath('data/raw_data/test.csv')"
   ]
  },
  {
   "cell_type": "code",
   "execution_count": 16,
   "id": "9bbccbba",
   "metadata": {
    "ExecuteTime": {
     "end_time": "2023-01-09T15:55:52.919026Z",
     "start_time": "2023-01-09T15:55:52.905020Z"
    },
    "pycharm": {
     "name": "#%%\n"
    }
   },
   "outputs": [],
   "source": [
    "PATH_TO_ARTEFACTS = PATH_TO_PROJECT.joinpath('exploration/artefacts')"
   ]
  },
  {
   "cell_type": "code",
   "execution_count": 17,
   "id": "10bc94ac",
   "metadata": {
    "ExecuteTime": {
     "end_time": "2023-01-09T15:55:52.935029Z",
     "start_time": "2023-01-09T15:55:52.921022Z"
    },
    "pycharm": {
     "name": "#%%\n"
    }
   },
   "outputs": [],
   "source": [
    "PATH_TO_PREPARED_DATA = PATH_TO_PROJECT.joinpath('data/prepared_data')"
   ]
  },
  {
   "cell_type": "markdown",
   "id": "1d9ce9f7",
   "metadata": {
    "pycharm": {
     "name": "#%% md\n"
    }
   },
   "source": [
    "# Read file"
   ]
  },
  {
   "cell_type": "code",
   "execution_count": null,
   "id": "5b73db72",
   "metadata": {
    "pycharm": {
     "name": "#%%\n"
    }
   },
   "outputs": [],
   "source": [
    "train_data = pd.read_csv(PATH_TO_TRAIN_DATA)"
   ]
  },
  {
   "cell_type": "code",
   "execution_count": null,
   "id": "bbffd6d2",
   "metadata": {
    "pycharm": {
     "name": "#%%\n"
    }
   },
   "outputs": [],
   "source": [
    "test_data = pd.read_csv(PATH_TO_TEST_DATA)"
   ]
  },
  {
   "cell_type": "markdown",
   "id": "f84c22bb",
   "metadata": {
    "pycharm": {
     "name": "#%% md\n"
    }
   },
   "source": [
    "# EDA Train data"
   ]
  },
  {
   "cell_type": "code",
   "execution_count": null,
   "id": "61c96a7e",
   "metadata": {
    "pycharm": {
     "name": "#%%\n"
    }
   },
   "outputs": [],
   "source": [
    "train_data"
   ]
  },
  {
   "cell_type": "code",
   "execution_count": null,
   "id": "5e57485f",
   "metadata": {
    "pycharm": {
     "name": "#%%\n"
    }
   },
   "outputs": [],
   "source": [
    "test_data"
   ]
  },
  {
   "cell_type": "code",
   "execution_count": null,
   "id": "a8fbae49",
   "metadata": {
    "pycharm": {
     "name": "#%%\n"
    }
   },
   "outputs": [],
   "source": [
    "# совпадает ли Id с индексом\n",
    "sum(test_data['Id'].values != test_data.index.values)"
   ]
  },
  {
   "cell_type": "code",
   "execution_count": null,
   "id": "3b917bdf",
   "metadata": {
    "pycharm": {
     "name": "#%%\n"
    }
   },
   "outputs": [],
   "source": [
    "# удаление столбца Id\n",
    "test_data.drop(columns='Id', inplace=True)"
   ]
  },
  {
   "cell_type": "markdown",
   "id": "9bd0b3ef",
   "metadata": {
    "pycharm": {
     "name": "#%% md\n"
    }
   },
   "source": [
    "## watch types, NaNs and etc."
   ]
  },
  {
   "cell_type": "code",
   "execution_count": null,
   "id": "57c804fa",
   "metadata": {
    "pycharm": {
     "name": "#%%\n"
    }
   },
   "outputs": [],
   "source": [
    "train_data.info()"
   ]
  },
  {
   "cell_type": "code",
   "execution_count": null,
   "id": "176fe5c3",
   "metadata": {
    "pycharm": {
     "name": "#%%\n"
    }
   },
   "outputs": [],
   "source": [
    "test_data.info()"
   ]
  },
  {
   "cell_type": "markdown",
   "id": "8a5a0d43",
   "metadata": {
    "pycharm": {
     "name": "#%% md\n"
    }
   },
   "source": [
    "### types"
   ]
  },
  {
   "cell_type": "code",
   "execution_count": null,
   "id": "098dd0f5",
   "metadata": {
    "pycharm": {
     "name": "#%%\n"
    }
   },
   "outputs": [],
   "source": [
    "for col in train_data.columns:\n",
    "    print(col)\n",
    "    print(train_data[col].map(type).unique(), '\\n')"
   ]
  },
  {
   "cell_type": "code",
   "execution_count": null,
   "id": "ab9c7282",
   "metadata": {
    "pycharm": {
     "name": "#%%\n"
    }
   },
   "outputs": [],
   "source": [
    "for col in test_data.columns:\n",
    "    print(col)\n",
    "    print(test_data[col].map(type).unique(), '\\n')"
   ]
  },
  {
   "cell_type": "markdown",
   "id": "5130669d",
   "metadata": {
    "pycharm": {
     "name": "#%% md\n"
    }
   },
   "source": [
    "fact_dt только строковый тип, необходимо получить числа"
   ]
  },
  {
   "cell_type": "markdown",
   "id": "3b71867b",
   "metadata": {
    "pycharm": {
     "name": "#%% md\n"
    }
   },
   "source": [
    "столбцы в train и test в одинаковых форматах"
   ]
  },
  {
   "cell_type": "markdown",
   "id": "4b017200",
   "metadata": {
    "pycharm": {
     "name": "#%% md\n"
    }
   },
   "source": [
    "### get days from fact_dt"
   ]
  },
  {
   "cell_type": "code",
   "execution_count": null,
   "id": "650ceacc",
   "metadata": {
    "pycharm": {
     "name": "#%%\n"
    }
   },
   "outputs": [],
   "source": [
    "train_data"
   ]
  },
  {
   "cell_type": "markdown",
   "id": "97965a0c",
   "metadata": {
    "pycharm": {
     "name": "#%% md\n"
    }
   },
   "source": [
    "выделяем количество дней из строк в fact_dt"
   ]
  },
  {
   "cell_type": "code",
   "execution_count": null,
   "id": "9af7d381",
   "metadata": {
    "pycharm": {
     "name": "#%%\n"
    }
   },
   "outputs": [],
   "source": [
    "def get_days(data: pd.DataFrame, col: str):\n",
    "    day_numbers = []\n",
    "    for amount_days in data[col]:\n",
    "        days = int(re.search(r'[0-9]+', amount_days)[0])\n",
    "        day_numbers.append(days)\n",
    "    data[col] = day_numbers\n",
    "    return data"
   ]
  },
  {
   "cell_type": "code",
   "execution_count": null,
   "id": "4737a196",
   "metadata": {
    "pycharm": {
     "name": "#%%\n"
    }
   },
   "outputs": [],
   "source": [
    "train_data = get_days(train_data, 'fact_dt')\n",
    "test_data = get_days(test_data, 'fact_dt')"
   ]
  },
  {
   "cell_type": "markdown",
   "id": "08f1dcf7",
   "metadata": {
    "pycharm": {
     "name": "#%% md\n"
    }
   },
   "source": [
    "### describe features"
   ]
  },
  {
   "cell_type": "code",
   "execution_count": null,
   "id": "01739db5",
   "metadata": {
    "pycharm": {
     "name": "#%%\n"
    }
   },
   "outputs": [],
   "source": [
    "train_data.describe()"
   ]
  },
  {
   "cell_type": "code",
   "execution_count": null,
   "id": "00aefd50",
   "metadata": {
    "pycharm": {
     "name": "#%%\n"
    }
   },
   "outputs": [],
   "source": [
    "test_data.describe()"
   ]
  },
  {
   "cell_type": "markdown",
   "id": "e948cc4a",
   "metadata": {
    "pycharm": {
     "name": "#%% md\n"
    }
   },
   "source": [
    "макс. значения у entity_0015_ct, entity_0008_ct, entity_0001_ct  разлицаются в несколько раз, возможно выбросы"
   ]
  },
  {
   "cell_type": "code",
   "execution_count": null,
   "id": "28ffd333",
   "metadata": {
    "pycharm": {
     "name": "#%%\n"
    }
   },
   "outputs": [],
   "source": [
    "train_data.groupby('target').agg(['mean', 'min', 'max'])"
   ]
  },
  {
   "cell_type": "markdown",
   "id": "877bfce3",
   "metadata": {
    "pycharm": {
     "name": "#%% md\n"
    }
   },
   "source": [
    "cтолбец entity_0016_rt полностью разделяет таргет"
   ]
  },
  {
   "cell_type": "markdown",
   "id": "be142718",
   "metadata": {
    "pycharm": {
     "name": "#%% md\n"
    }
   },
   "source": [
    "столбцы с rt видимо должны быть >= 0, но entity_0016_rt < 0, cкорее всего выброс"
   ]
  },
  {
   "cell_type": "markdown",
   "id": "1923e99c",
   "metadata": {
    "pycharm": {
     "name": "#%% md\n"
    }
   },
   "source": [
    "столбец entity_0007_ct есть только для таргета 1"
   ]
  },
  {
   "cell_type": "code",
   "execution_count": null,
   "id": "f30b4162",
   "metadata": {
    "pycharm": {
     "name": "#%%\n"
    }
   },
   "outputs": [],
   "source": [
    "# сделаем идентификатор, чтобы посмотреть различия в значениях train и test\n",
    "train_data['train_or_test'] = 'train'\n",
    "test_data['train_or_test'] = 'test'"
   ]
  },
  {
   "cell_type": "code",
   "execution_count": null,
   "id": "7947aca7",
   "metadata": {
    "pycharm": {
     "name": "#%%\n"
    }
   },
   "outputs": [],
   "source": [
    "pd.concat([train_data, test_data]).groupby('train_or_test').agg(['mean', 'min', 'max'])"
   ]
  },
  {
   "cell_type": "markdown",
   "id": "3d43124f",
   "metadata": {
    "pycharm": {
     "name": "#%% md\n"
    }
   },
   "source": [
    "cтолбец entity_0016_rt имеет абсолютно разные значение на train и test\n",
    "возможно, стоит его вообще убрать или как-то преобразовать"
   ]
  },
  {
   "cell_type": "markdown",
   "id": "5f26ec16",
   "metadata": {
    "pycharm": {
     "name": "#%% md\n"
    }
   },
   "source": [
    "часть фичей из эмбедингов могут полностью лежать в области < 0 (например emb_0020) на train, но при этом могут иметь значения > 0 на test, возможно выбросы"
   ]
  },
  {
   "cell_type": "code",
   "execution_count": null,
   "id": "d5aa2d41",
   "metadata": {
    "pycharm": {
     "name": "#%%\n"
    }
   },
   "outputs": [],
   "source": [
    "# Vizualization(train_data).numTargetHist(target='target', \n",
    "#                                         save_folder=f'{PATH_TO_ARTEFACTS}/train_features_target.png')"
   ]
  },
  {
   "cell_type": "code",
   "execution_count": null,
   "id": "25fe56fd",
   "metadata": {
    "pycharm": {
     "name": "#%%\n"
    }
   },
   "outputs": [],
   "source": [
    "# Vizualization(pd.concat([train_data, test_data])).numTargetHist(\n",
    "#     target='train_or_test', \n",
    "#     save_folder=f'{PATH_TO_ARTEFACTS}/train_test_features.png'\n",
    "# )"
   ]
  },
  {
   "cell_type": "markdown",
   "id": "89715e72",
   "metadata": {
    "pycharm": {
     "name": "#%% md\n"
    }
   },
   "source": [
    "небольшая доля user_id повторяется в train и test"
   ]
  },
  {
   "cell_type": "markdown",
   "id": "7bb3c4b2",
   "metadata": {
    "pycharm": {
     "name": "#%% md\n"
    }
   },
   "source": [
    "небольшая доля fact_dt повторяется в train и test, но в целом в test значения больше (возможно там более новые значения)"
   ]
  },
  {
   "cell_type": "code",
   "execution_count": null,
   "id": "f6bfc77f",
   "metadata": {
    "pycharm": {
     "name": "#%%\n"
    }
   },
   "outputs": [],
   "source": [
    "for col in train_data.columns:\n",
    "    print(col)\n",
    "    print(train_data[col].value_counts().iloc[:15], '\\n')"
   ]
  },
  {
   "cell_type": "markdown",
   "id": "0ab16235",
   "metadata": {
    "pycharm": {
     "name": "#%% md\n"
    }
   },
   "source": [
    "таргет несбалансирован"
   ]
  },
  {
   "cell_type": "code",
   "execution_count": null,
   "id": "33563364",
   "metadata": {
    "pycharm": {
     "name": "#%%\n"
    }
   },
   "outputs": [],
   "source": [
    "for col in test_data.columns:\n",
    "    print(col)\n",
    "    print(test_data[col].value_counts().iloc[:10], '\\n')"
   ]
  },
  {
   "cell_type": "markdown",
   "id": "c709b720",
   "metadata": {
    "pycharm": {
     "name": "#%% md\n"
    }
   },
   "source": [
    "категориальная переменная одна, категории одинаковые для train и test"
   ]
  },
  {
   "cell_type": "markdown",
   "id": "ee14b398",
   "metadata": {
    "pycharm": {
     "name": "#%% md\n"
    }
   },
   "source": [
    "#### change values"
   ]
  },
  {
   "cell_type": "markdown",
   "id": "e8f92b9d",
   "metadata": {
    "pycharm": {
     "name": "#%% md\n"
    }
   },
   "source": [
    "возможно допущена ошибка в данных entity_0016_rt, необходимо преобразовать, иначе невозможно использовать"
   ]
  },
  {
   "cell_type": "code",
   "execution_count": null,
   "id": "7ca8b009",
   "metadata": {
    "pycharm": {
     "name": "#%%\n"
    }
   },
   "outputs": [],
   "source": [
    "train_data['entity_0016_rt'] = np.where(train_data['entity_0016_rt'] < 0.5, \n",
    "                                        train_data['entity_0016_rt']+1,\n",
    "                                        train_data['entity_0016_rt'])"
   ]
  },
  {
   "cell_type": "code",
   "execution_count": null,
   "id": "09471cd4",
   "metadata": {
    "pycharm": {
     "name": "#%%\n"
    }
   },
   "outputs": [],
   "source": [
    "test_data['entity_0016_rt'] = np.where(test_data['entity_0016_rt'] < 0.5, \n",
    "                                       test_data['entity_0016_rt']+1,\n",
    "                                       test_data['entity_0016_rt'])"
   ]
  },
  {
   "cell_type": "markdown",
   "id": "0f2db83c",
   "metadata": {
    "pycharm": {
     "name": "#%% md\n"
    }
   },
   "source": [
    "преобразовываем категориальные переменные"
   ]
  },
  {
   "cell_type": "code",
   "execution_count": null,
   "id": "aea7e351",
   "metadata": {
    "pycharm": {
     "name": "#%%\n"
    }
   },
   "outputs": [],
   "source": [
    "train_data = pd.get_dummies(train_data)\n",
    "test_data = pd.get_dummies(test_data)"
   ]
  },
  {
   "cell_type": "code",
   "execution_count": null,
   "id": "56a72e97",
   "metadata": {
    "pycharm": {
     "name": "#%%\n"
    }
   },
   "outputs": [],
   "source": [
    "train_data.shape, test_data.shape"
   ]
  },
  {
   "cell_type": "markdown",
   "id": "0b53a588",
   "metadata": {
    "pycharm": {
     "name": "#%% md\n"
    }
   },
   "source": [
    "#### drop features"
   ]
  },
  {
   "cell_type": "code",
   "execution_count": null,
   "id": "ec2300db",
   "metadata": {
    "pycharm": {
     "name": "#%%\n"
    }
   },
   "outputs": [],
   "source": [
    "# убираем лишнюю колонку\n",
    "train_data.drop(columns=['train_or_test_train'], inplace=True)\n",
    "test_data.drop(columns=['train_or_test_test'], inplace=True)"
   ]
  },
  {
   "cell_type": "markdown",
   "id": "d7bea72f",
   "metadata": {
    "pycharm": {
     "name": "#%% md\n"
    }
   },
   "source": [
    "### check duplicates"
   ]
  },
  {
   "cell_type": "code",
   "execution_count": null,
   "id": "ed4d2a14",
   "metadata": {
    "pycharm": {
     "name": "#%%\n"
    }
   },
   "outputs": [],
   "source": [
    "# проверка на повторяющиеся строки\n",
    "len(train_data[train_data.duplicated()]), len(test_data[test_data.duplicated()])"
   ]
  },
  {
   "cell_type": "code",
   "execution_count": null,
   "id": "67a7885f",
   "metadata": {
    "pycharm": {
     "name": "#%%\n"
    }
   },
   "outputs": [],
   "source": [
    "# проверка на повторяющихся юзеров\n",
    "train_data[train_data.duplicated(subset='user_id', keep=False)]"
   ]
  },
  {
   "cell_type": "code",
   "execution_count": null,
   "id": "3a0686ba",
   "metadata": {
    "pycharm": {
     "name": "#%%\n"
    }
   },
   "outputs": [],
   "source": [
    "# величина таргета для повторяющихся юзеров\n",
    "train_data[train_data.duplicated(subset='user_id', keep=False)].mean()['target']"
   ]
  },
  {
   "cell_type": "code",
   "execution_count": null,
   "id": "8a7662cc",
   "metadata": {
    "pycharm": {
     "name": "#%%\n"
    }
   },
   "outputs": [],
   "source": [
    "test_data[test_data.duplicated(subset='user_id', keep=False)]"
   ]
  },
  {
   "cell_type": "markdown",
   "id": "d9070d61",
   "metadata": {
    "pycharm": {
     "name": "#%% md\n"
    }
   },
   "source": [
    "#### generate features"
   ]
  },
  {
   "cell_type": "code",
   "execution_count": null,
   "id": "ef064648",
   "metadata": {
    "pycharm": {
     "name": "#%%\n"
    }
   },
   "outputs": [],
   "source": [
    "train_data[train_data.duplicated(subset='user_id', keep=False)].mean()"
   ]
  },
  {
   "cell_type": "markdown",
   "id": "c7aca1b0",
   "metadata": {
    "pycharm": {
     "name": "#%% md\n"
    }
   },
   "source": [
    "повторяющихся юзеров можно использовать как допю фичу"
   ]
  },
  {
   "cell_type": "code",
   "execution_count": null,
   "id": "604363b9",
   "metadata": {
    "pycharm": {
     "name": "#%%\n"
    }
   },
   "outputs": [],
   "source": [
    "# определение списка повторяющихся юзеров\n",
    "duplicated_users_train = train_data[train_data.duplicated(subset='user_id', keep=False)]['user_id'].unique()\n",
    "duplicated_users_test = test_data[test_data.duplicated(subset='user_id', keep=False)]['user_id'].unique()"
   ]
  },
  {
   "cell_type": "code",
   "execution_count": null,
   "id": "fe689da0",
   "metadata": {
    "pycharm": {
     "name": "#%%\n"
    }
   },
   "outputs": [],
   "source": [
    "# создание доп фичи repeat_user\n",
    "train_data['repeat_user'] = np.where(train_data['user_id'].isin(duplicated_users_train), \n",
    "                                    1, \n",
    "                                    0)\n",
    "\n",
    "test_data['repeat_user'] = np.where(test_data['user_id'].isin(duplicated_users_test), \n",
    "                                    1, \n",
    "                                    0)"
   ]
  },
  {
   "cell_type": "code",
   "execution_count": null,
   "id": "7c018b8d",
   "metadata": {
    "pycharm": {
     "name": "#%%\n"
    }
   },
   "outputs": [],
   "source": [
    "# определение уникальных пользователей в train и test\n",
    "unique_id_train = set(train_data['user_id'].unique())\n",
    "unique_id_test = set(test_data['user_id'].unique())                      "
   ]
  },
  {
   "cell_type": "code",
   "execution_count": null,
   "id": "0111dbf8",
   "metadata": {
    "pycharm": {
     "name": "#%%\n"
    }
   },
   "outputs": [],
   "source": [
    "# кол-во одинаковых пользователей в train и test\n",
    "len(unique_id_train & unique_id_test)"
   ]
  },
  {
   "cell_type": "code",
   "execution_count": null,
   "id": "e1739737",
   "metadata": {
    "pycharm": {
     "name": "#%%\n"
    }
   },
   "outputs": [],
   "source": [
    "train_data[train_data['user_id'].isin(unique_id_test)]"
   ]
  },
  {
   "cell_type": "markdown",
   "id": "40e87031",
   "metadata": {
    "pycharm": {
     "name": "#%% md\n"
    }
   },
   "source": [
    "#### drop features"
   ]
  },
  {
   "cell_type": "code",
   "execution_count": null,
   "id": "83c22207",
   "metadata": {
    "pycharm": {
     "name": "#%%\n"
    }
   },
   "outputs": [],
   "source": [
    "# удаление признака user_id\n",
    "train_data.drop(columns='user_id', inplace=True)\n",
    "test_data.drop(columns='user_id', inplace=True)"
   ]
  },
  {
   "cell_type": "markdown",
   "id": "1a1e6581",
   "metadata": {
    "pycharm": {
     "name": "#%% md\n"
    }
   },
   "source": [
    "### check NaNs"
   ]
  },
  {
   "cell_type": "code",
   "execution_count": null,
   "id": "981ac131",
   "metadata": {
    "pycharm": {
     "name": "#%%\n"
    }
   },
   "outputs": [],
   "source": [
    "# определение процента пропусков в столбцах train\n",
    "Checker(train_data).check_missing()"
   ]
  },
  {
   "cell_type": "code",
   "execution_count": null,
   "id": "1e4325ee",
   "metadata": {
    "pycharm": {
     "name": "#%%\n"
    }
   },
   "outputs": [],
   "source": [
    "# определение процента пропусков в столбцах test\n",
    "Checker(test_data).check_missing()"
   ]
  },
  {
   "cell_type": "markdown",
   "id": "f65539e0",
   "metadata": {
    "pycharm": {
     "name": "#%% md\n"
    }
   },
   "source": [
    "видно, что пропуски в одних и тех же колонках, при чем у одних и тех же колонках процент пропусков одинаковый, в качестве доп. признаков можно использовать индикаторы пропусков"
   ]
  },
  {
   "cell_type": "markdown",
   "id": "feb51772",
   "metadata": {
    "pycharm": {
     "name": "#%% md\n"
    }
   },
   "source": [
    "#### generate new features"
   ]
  },
  {
   "cell_type": "code",
   "execution_count": null,
   "id": "928354ec",
   "metadata": {
    "pycharm": {
     "name": "#%%\n"
    }
   },
   "outputs": [],
   "source": [
    "ami = AddMissingIndicator()"
   ]
  },
  {
   "cell_type": "code",
   "execution_count": null,
   "id": "cdabad7c",
   "metadata": {
    "pycharm": {
     "name": "#%%\n"
    }
   },
   "outputs": [],
   "source": [
    "train_data = ami.fit_transform(train_data)"
   ]
  },
  {
   "cell_type": "code",
   "execution_count": null,
   "id": "b20f3780",
   "metadata": {
    "pycharm": {
     "name": "#%%\n"
    }
   },
   "outputs": [],
   "source": [
    "test_data = ami.fit_transform(test_data)"
   ]
  },
  {
   "cell_type": "code",
   "execution_count": null,
   "id": "b3d4bd4e",
   "metadata": {
    "pycharm": {
     "name": "#%%\n"
    }
   },
   "outputs": [],
   "source": [
    "train_data"
   ]
  },
  {
   "cell_type": "markdown",
   "id": "0f4eec6d",
   "metadata": {
    "pycharm": {
     "name": "#%% md\n"
    }
   },
   "source": [
    "проверим, на одних ли и тех же местах находятся пропуски, если да, то такие фичи одинаковы, часть из них надо удалить"
   ]
  },
  {
   "cell_type": "code",
   "execution_count": null,
   "id": "97138ff1",
   "metadata": {
    "pycharm": {
     "name": "#%%\n"
    }
   },
   "outputs": [],
   "source": [
    "(train_data['entity_0015_ct_na'] == train_data['entity_0008_ct_na']).sum()"
   ]
  },
  {
   "cell_type": "code",
   "execution_count": null,
   "id": "49c9b02f",
   "metadata": {
    "pycharm": {
     "name": "#%%\n"
    }
   },
   "outputs": [],
   "source": [
    "(train_data['entity_0006_rt_na'] == train_data['entity_0012_ct_na']).sum()"
   ]
  },
  {
   "cell_type": "markdown",
   "id": "efd69081",
   "metadata": {
    "pycharm": {
     "name": "#%% md\n"
    }
   },
   "source": [
    "#### drop features"
   ]
  },
  {
   "cell_type": "code",
   "execution_count": null,
   "id": "6c0a2701",
   "metadata": {
    "pycharm": {
     "name": "#%%\n"
    }
   },
   "outputs": [],
   "source": [
    "train_data.drop(columns=['entity_0008_ct_na', 'entity_0012_ct_na', 'entity_0014_rt_na'], inplace=True)\n",
    "test_data.drop(columns=['entity_0008_ct_na', 'entity_0012_ct_na', 'entity_0014_rt_na'], inplace=True)"
   ]
  },
  {
   "cell_type": "markdown",
   "id": "034ef066",
   "metadata": {
    "pycharm": {
     "name": "#%% md\n"
    }
   },
   "source": [
    "### correlations"
   ]
  },
  {
   "cell_type": "markdown",
   "id": "a77010f9",
   "metadata": {
    "pycharm": {
     "name": "#%% md\n"
    }
   },
   "source": [
    "оценим степень уровень корреляции"
   ]
  },
  {
   "cell_type": "code",
   "execution_count": null,
   "id": "338a6c14",
   "metadata": {
    "pycharm": {
     "name": "#%%\n"
    }
   },
   "outputs": [],
   "source": [
    "corr_data = Checker(train_data).featureCorrelation(target='target', corr_edge=0.7)"
   ]
  },
  {
   "cell_type": "code",
   "execution_count": null,
   "id": "d95fac3d",
   "metadata": {
    "pycharm": {
     "name": "#%%\n"
    }
   },
   "outputs": [],
   "source": [
    "corr_data['negativeCorr']"
   ]
  },
  {
   "cell_type": "code",
   "execution_count": null,
   "id": "299ba2cd",
   "metadata": {
    "pycharm": {
     "name": "#%%\n"
    }
   },
   "outputs": [],
   "source": [
    "corr_data['positiveCorr']"
   ]
  },
  {
   "cell_type": "markdown",
   "id": "518573cd",
   "metadata": {
    "pycharm": {
     "name": "#%% md\n"
    }
   },
   "source": [
    "### find outliers"
   ]
  },
  {
   "cell_type": "code",
   "execution_count": null,
   "id": "fc93a80a",
   "metadata": {
    "pycharm": {
     "name": "#%%\n"
    }
   },
   "outputs": [],
   "source": [
    "train_data.columns"
   ]
  },
  {
   "cell_type": "code",
   "execution_count": null,
   "id": "12bb673a",
   "metadata": {
    "pycharm": {
     "name": "#%%\n"
    }
   },
   "outputs": [],
   "source": [
    "cols_to_drop=['target', 'entity_0017_cd_a', 'entity_0017_cd_b', 'entity_0017_cd_c',\n",
    "       'entity_0017_cd_d', 'repeat_user', 'entity_0006_rt_na',\n",
    "       'entity_0007_ct_na', 'entity_0009_rt_na', 'entity_0010_rt_na',\n",
    "       'entity_0015_ct_na']"
   ]
  },
  {
   "cell_type": "code",
   "execution_count": null,
   "id": "69e244ff",
   "metadata": {
    "pycharm": {
     "name": "#%%\n"
    }
   },
   "outputs": [],
   "source": [
    "features_train_for_outliers = train_data.drop(columns=cols_to_drop).copy()\n",
    "features_test_for_outliers = test_data.drop(columns=cols_to_drop[1:]).copy()"
   ]
  },
  {
   "cell_type": "code",
   "execution_count": null,
   "id": "a68301fc",
   "metadata": {
    "pycharm": {
     "name": "#%%\n"
    }
   },
   "outputs": [],
   "source": [
    "features_train_for_outliers.fillna(-9999, inplace=True)\n",
    "features_test_for_outliers.fillna(-9999, inplace=True)"
   ]
  },
  {
   "cell_type": "code",
   "execution_count": null,
   "id": "f0dc1181",
   "metadata": {
    "pycharm": {
     "name": "#%%\n"
    }
   },
   "outputs": [],
   "source": [
    "features_train_for_outliers"
   ]
  },
  {
   "cell_type": "code",
   "execution_count": null,
   "id": "bce1021d",
   "metadata": {
    "pycharm": {
     "name": "#%%\n"
    }
   },
   "outputs": [],
   "source": [
    "features_test_for_outliers"
   ]
  },
  {
   "cell_type": "code",
   "execution_count": null,
   "id": "7e6f364b",
   "metadata": {
    "pycharm": {
     "name": "#%%\n"
    }
   },
   "outputs": [],
   "source": [
    "outliers_finder=IsolationForest(random_state=42, verbose=0)"
   ]
  },
  {
   "cell_type": "code",
   "execution_count": null,
   "id": "c68eeb97",
   "metadata": {
    "pycharm": {
     "name": "#%%\n"
    }
   },
   "outputs": [],
   "source": [
    "for col in tqdm(features_train_for_outliers.columns):\n",
    "    outliers_finder.fit(features_train_for_outliers[[col]])\n",
    "    anomalies_detected_train = outliers_finder.predict(features_train_for_outliers[[col]])\n",
    "    anomalies_detected_test = outliers_finder.predict(features_test_for_outliers[[col]])\n",
    "    train_data[f'{col}_outlier'] = anomalies_detected_train\n",
    "    test_data[f'{col}_outlier'] = anomalies_detected_test"
   ]
  },
  {
   "cell_type": "code",
   "execution_count": null,
   "id": "ba4d2aee",
   "metadata": {
    "pycharm": {
     "name": "#%%\n"
    }
   },
   "outputs": [],
   "source": [
    "train_data"
   ]
  },
  {
   "cell_type": "code",
   "execution_count": null,
   "id": "91dd8115",
   "metadata": {
    "pycharm": {
     "name": "#%%\n"
    }
   },
   "outputs": [],
   "source": [
    "test_data"
   ]
  },
  {
   "cell_type": "markdown",
   "id": "c78758fa",
   "metadata": {
    "pycharm": {
     "name": "#%% md\n"
    }
   },
   "source": [
    "### generate math features"
   ]
  },
  {
   "cell_type": "code",
   "execution_count": null,
   "id": "1b9e4a3d",
   "metadata": {
    "pycharm": {
     "name": "#%%\n"
    }
   },
   "outputs": [],
   "source": [
    "embeding_columns = [col for col in train_data.columns if 'emb' in col and 'outlier' not in col]\n",
    "embeding_columns"
   ]
  },
  {
   "cell_type": "code",
   "execution_count": null,
   "id": "19a86c0a",
   "metadata": {
    "pycharm": {
     "name": "#%%\n"
    }
   },
   "outputs": [],
   "source": [
    "count_columns = [col for col in train_data.columns if 'ct' in col]\n",
    "count_columns"
   ]
  },
  {
   "cell_type": "code",
   "execution_count": null,
   "id": "b619cb38",
   "metadata": {
    "pycharm": {
     "name": "#%%\n"
    }
   },
   "outputs": [],
   "source": [
    "ratio_columns = [col for col in train_data.columns if 'rt' in col]\n",
    "ratio_columns"
   ]
  },
  {
   "cell_type": "code",
   "execution_count": null,
   "id": "12c3db24",
   "metadata": {
    "pycharm": {
     "name": "#%%\n"
    }
   },
   "outputs": [],
   "source": [
    "def math_embeding_columns(data, columns):\n",
    "    embedings_features = data[columns].copy()\n",
    "    embedings_features['mul_emb'] = embedings_features.prod(axis=1)\n",
    "    embedings_features['sum_emb'] = embedings_features.sum(axis=1)\n",
    "    embedings_features['sum_abs_emb'] = abs(embedings_features).sum(axis=1)\n",
    "    embedings_features.drop(columns=columns, inplace=True)\n",
    "    return embedings_features"
   ]
  },
  {
   "cell_type": "code",
   "execution_count": null,
   "id": "be2ed1a8",
   "metadata": {
    "pycharm": {
     "name": "#%%\n"
    }
   },
   "outputs": [],
   "source": [
    "def math_count_columns(data, columns):\n",
    "    count_features = data[columns].copy()\n",
    "    count_features['mul_ct'] = count_features.fillna(1).prod(axis=1)\n",
    "    count_features['sum_ct'] = count_features.fillna(0).sum(axis=1)\n",
    "    count_features.drop(columns=columns, inplace=True)\n",
    "    return count_features"
   ]
  },
  {
   "cell_type": "code",
   "execution_count": null,
   "id": "1ef3b40e",
   "metadata": {
    "pycharm": {
     "name": "#%%\n"
    }
   },
   "outputs": [],
   "source": [
    "def math_ratio_columns(data, columns):\n",
    "    ratio_features = data[columns].copy()\n",
    "    ratio_features['mul_rt'] = ratio_features.fillna(1).prod(axis=1)\n",
    "    ratio_features['sum_rt'] = ratio_features.fillna(0).sum(axis=1)\n",
    "    ratio_features.drop(columns=columns, inplace=True)\n",
    "    return ratio_features"
   ]
  },
  {
   "cell_type": "code",
   "execution_count": null,
   "id": "cdeb0bd9",
   "metadata": {
    "pycharm": {
     "name": "#%%\n"
    }
   },
   "outputs": [],
   "source": [
    "train_data[ratio_columns]"
   ]
  },
  {
   "cell_type": "code",
   "execution_count": null,
   "id": "b58e169f",
   "metadata": {
    "pycharm": {
     "name": "#%%\n"
    }
   },
   "outputs": [],
   "source": [
    "train_data_ratio = math_ratio_columns(train_data, ratio_columns)\n",
    "test_data_ratio = math_ratio_columns(test_data, ratio_columns)"
   ]
  },
  {
   "cell_type": "code",
   "execution_count": null,
   "id": "b81bc1a9",
   "metadata": {
    "pycharm": {
     "name": "#%%\n"
    }
   },
   "outputs": [],
   "source": [
    "train_data_math = math_count_columns(train_data, count_columns)\n",
    "test_data_math = math_count_columns(test_data, count_columns)"
   ]
  },
  {
   "cell_type": "code",
   "execution_count": null,
   "id": "c398f694",
   "metadata": {
    "pycharm": {
     "name": "#%%\n"
    }
   },
   "outputs": [],
   "source": [
    "train_data_embeding = math_embeding_columns(train_data, embeding_columns)\n",
    "test_data_embeding = math_embeding_columns(test_data, embeding_columns)"
   ]
  },
  {
   "cell_type": "code",
   "execution_count": null,
   "id": "9c262e03",
   "metadata": {
    "pycharm": {
     "name": "#%%\n"
    }
   },
   "outputs": [],
   "source": [
    "train_data = pd.concat([train_data, train_data_ratio, train_data_math, train_data_embeding], axis=1)\n",
    "test_data = pd.concat([test_data, test_data_ratio, test_data_math, test_data_embeding], axis=1)"
   ]
  },
  {
   "cell_type": "code",
   "execution_count": null,
   "id": "295b378a",
   "metadata": {
    "pycharm": {
     "name": "#%%\n"
    }
   },
   "outputs": [],
   "source": [
    "test_data"
   ]
  },
  {
   "cell_type": "markdown",
   "id": "bec21152",
   "metadata": {
    "pycharm": {
     "name": "#%% md\n"
    }
   },
   "source": [
    "### feature selection"
   ]
  },
  {
   "cell_type": "code",
   "execution_count": null,
   "id": "67c111b6",
   "metadata": {
    "pycharm": {
     "name": "#%%\n"
    }
   },
   "outputs": [],
   "source": [
    "features_train_for_feature_selection = train_data.drop(columns='target').copy()\n",
    "target_train_for_feature_selection = train_data['target']"
   ]
  },
  {
   "cell_type": "code",
   "execution_count": null,
   "id": "228709b1",
   "metadata": {
    "pycharm": {
     "name": "#%%\n"
    }
   },
   "outputs": [],
   "source": [
    "features_train_for_feature_selection"
   ]
  },
  {
   "cell_type": "code",
   "execution_count": null,
   "id": "77c48b6b",
   "metadata": {
    "pycharm": {
     "name": "#%%\n"
    }
   },
   "outputs": [],
   "source": [
    "features_train_for_feature_selection.fillna(-9999, inplace=True)"
   ]
  },
  {
   "cell_type": "code",
   "execution_count": null,
   "id": "4a3a6c81",
   "metadata": {
    "pycharm": {
     "name": "#%%\n"
    }
   },
   "outputs": [],
   "source": [
    "rf = RandomForestClassifier(n_jobs=-1, class_weight='balanced', max_depth=10)"
   ]
  },
  {
   "cell_type": "code",
   "execution_count": null,
   "id": "ba8a772e",
   "metadata": {
    "pycharm": {
     "name": "#%%\n"
    }
   },
   "outputs": [],
   "source": [
    "feature_selector = BorutaPy(rf, n_estimators='auto', verbose=2, random_state=1)"
   ]
  },
  {
   "cell_type": "code",
   "execution_count": null,
   "id": "510e2986",
   "metadata": {
    "pycharm": {
     "name": "#%%\n"
    }
   },
   "outputs": [],
   "source": [
    "feature_selector.fit(features_train_for_feature_selection.values, \n",
    "                     target_train_for_feature_selection.values)"
   ]
  },
  {
   "cell_type": "code",
   "execution_count": null,
   "id": "2359924d",
   "metadata": {
    "pycharm": {
     "name": "#%%\n"
    }
   },
   "outputs": [],
   "source": [
    "feature_selector.support_"
   ]
  },
  {
   "cell_type": "code",
   "execution_count": null,
   "id": "1503593b",
   "metadata": {
    "pycharm": {
     "name": "#%%\n"
    }
   },
   "outputs": [],
   "source": [
    "len(feature_selector.support_)"
   ]
  },
  {
   "cell_type": "code",
   "execution_count": null,
   "id": "ac8600ff",
   "metadata": {
    "pycharm": {
     "name": "#%%\n"
    }
   },
   "outputs": [],
   "source": [
    "need_cols = []\n",
    "for col, status in zip(features_train_for_feature_selection.columns, feature_selector.support_):\n",
    "    if status==True:\n",
    "        need_cols.append(col)"
   ]
  },
  {
   "cell_type": "code",
   "execution_count": null,
   "id": "37336568",
   "metadata": {
    "pycharm": {
     "name": "#%%\n"
    }
   },
   "outputs": [],
   "source": [
    "# check ranking of features\n",
    "feature_selector.ranking_"
   ]
  },
  {
   "cell_type": "code",
   "execution_count": null,
   "id": "4a517b25",
   "metadata": {
    "pycharm": {
     "name": "#%%\n"
    }
   },
   "outputs": [],
   "source": [
    "need_cols"
   ]
  },
  {
   "cell_type": "markdown",
   "id": "c41ec1ab",
   "metadata": {
    "pycharm": {
     "name": "#%% md\n"
    }
   },
   "source": [
    "### make features_train, features_test, target_train"
   ]
  },
  {
   "cell_type": "code",
   "execution_count": null,
   "id": "2e385527",
   "metadata": {
    "pycharm": {
     "name": "#%%\n"
    }
   },
   "outputs": [],
   "source": [
    "features_train = train_data[need_cols]\n",
    "target_train = train_data['target']"
   ]
  },
  {
   "cell_type": "code",
   "execution_count": null,
   "id": "c7b6ba18",
   "metadata": {
    "pycharm": {
     "name": "#%%\n"
    }
   },
   "outputs": [],
   "source": [
    "features_test = test_data[need_cols]"
   ]
  },
  {
   "cell_type": "markdown",
   "id": "fd13d84c",
   "metadata": {
    "pycharm": {
     "name": "#%% md\n"
    }
   },
   "source": [
    "### generate features (clusters)"
   ]
  },
  {
   "cell_type": "code",
   "execution_count": null,
   "id": "59ef60e4",
   "metadata": {
    "pycharm": {
     "name": "#%%\n"
    }
   },
   "outputs": [],
   "source": [
    "pipeline_stages = []\n",
    "\n",
    "pipeline_stages.append((\"imputer\", ArbitraryNumberImputer(arbitrary_number=-9999)))\n",
    "pipeline_stages.append((\"scaler\", MinMaxScaler()))\n",
    "pipeline_stages.append((\"cluster\", cluster.KMeans(n_clusters = 7)))\n",
    "\n",
    "# Собираем все шаги в пайплайн\n",
    "pipeline = Pipeline(pipeline_stages)"
   ]
  },
  {
   "cell_type": "code",
   "execution_count": null,
   "id": "155e8367",
   "metadata": {
    "pycharm": {
     "name": "#%%\n"
    }
   },
   "outputs": [],
   "source": [
    "pipeline.fit(features_train)"
   ]
  },
  {
   "cell_type": "code",
   "execution_count": null,
   "id": "3007dc44",
   "metadata": {
    "pycharm": {
     "name": "#%%\n"
    }
   },
   "outputs": [],
   "source": [
    "features_train['clusters'] = pipeline.predict(features_train).astype(str)\n",
    "features_test['clusters'] = pipeline.predict(features_test).astype(str)"
   ]
  },
  {
   "cell_type": "code",
   "execution_count": null,
   "id": "10bf4859",
   "metadata": {
    "pycharm": {
     "name": "#%%\n"
    }
   },
   "outputs": [],
   "source": [
    "features_train"
   ]
  },
  {
   "cell_type": "code",
   "execution_count": null,
   "id": "aa41657e",
   "metadata": {
    "pycharm": {
     "name": "#%%\n"
    }
   },
   "outputs": [],
   "source": [
    "features_test"
   ]
  },
  {
   "cell_type": "code",
   "execution_count": null,
   "id": "4db8e98a",
   "metadata": {
    "pycharm": {
     "name": "#%%\n"
    }
   },
   "outputs": [],
   "source": [
    "features_train.to_pickle(f'{PATH_TO_PREPARED_DATA}/features_train.pickle')\n",
    "features_test.to_pickle(f'{PATH_TO_PREPARED_DATA}/features_test.pickle')\n",
    "target_train.to_pickle(f'{PATH_TO_PREPARED_DATA}/target_train.pickle')"
   ]
  },
  {
   "cell_type": "markdown",
   "id": "ab915acc",
   "metadata": {
    "pycharm": {
     "name": "#%% md\n"
    }
   },
   "source": [
    "# Models"
   ]
  },
  {
   "cell_type": "code",
   "execution_count": 36,
   "id": "126a0c1d",
   "metadata": {
    "ExecuteTime": {
     "end_time": "2023-01-09T16:12:07.670599Z",
     "start_time": "2023-01-09T16:12:07.588598Z"
    },
    "pycharm": {
     "name": "#%%\n"
    }
   },
   "outputs": [],
   "source": [
    "best_model = joblib.load(f'{PATH_TO_ARTEFACTS}/model.pickle')"
   ]
  },
  {
   "cell_type": "code",
   "execution_count": 37,
   "id": "30f1a7ad",
   "metadata": {
    "ExecuteTime": {
     "end_time": "2023-01-09T16:12:08.325311Z",
     "start_time": "2023-01-09T16:12:08.317313Z"
    },
    "pycharm": {
     "name": "#%%\n"
    }
   },
   "outputs": [
    {
     "data": {
      "text/plain": [
       "{'memory': None,\n",
       " 'steps': [('imputer', None),\n",
       "  ('scaler', None),\n",
       "  ('model', <catboost.core.CatBoostClassifier at 0x20d3411a948>)],\n",
       " 'verbose': False,\n",
       " 'imputer': None,\n",
       " 'scaler': None,\n",
       " 'model': <catboost.core.CatBoostClassifier at 0x20d3411a948>,\n",
       " 'model__l2_leaf_reg': 10,\n",
       " 'model__verbose': 0,\n",
       " 'model__max_depth': 10,\n",
       " 'model__n_estimators': 1000,\n",
       " 'model__random_state': 42,\n",
       " 'model__min_data_in_leaf': 1}"
      ]
     },
     "execution_count": 37,
     "metadata": {},
     "output_type": "execute_result"
    }
   ],
   "source": [
    "best_model.get_params()"
   ]
  },
  {
   "cell_type": "code",
   "execution_count": null,
   "id": "d1c59a4d",
   "metadata": {
    "pycharm": {
     "name": "#%%\n"
    }
   },
   "outputs": [],
   "source": []
  },
  {
   "cell_type": "markdown",
   "id": "06336fb9",
   "metadata": {
    "pycharm": {
     "name": "#%% md\n"
    }
   },
   "source": [
    "## read prepared files"
   ]
  },
  {
   "cell_type": "code",
   "execution_count": 18,
   "id": "ae3af2f7",
   "metadata": {
    "ExecuteTime": {
     "end_time": "2023-01-09T15:59:13.689623Z",
     "start_time": "2023-01-09T15:59:13.625624Z"
    },
    "pycharm": {
     "name": "#%%\n"
    }
   },
   "outputs": [],
   "source": [
    "features_train = pd.read_pickle(f'{PATH_TO_PREPARED_DATA}/features_train.pickle')\n",
    "features_test = pd.read_pickle(f'{PATH_TO_PREPARED_DATA}/features_test.pickle')\n",
    "target_train = pd.read_pickle(f'{PATH_TO_PREPARED_DATA}/target_train.pickle')"
   ]
  },
  {
   "cell_type": "code",
   "execution_count": 19,
   "id": "085d20ea",
   "metadata": {
    "ExecuteTime": {
     "end_time": "2023-01-09T15:59:14.508098Z",
     "start_time": "2023-01-09T15:59:14.446100Z"
    },
    "pycharm": {
     "name": "#%%\n"
    }
   },
   "outputs": [
    {
     "data": {
      "text/html": [
       "<div>\n",
       "<style scoped>\n",
       "    .dataframe tbody tr th:only-of-type {\n",
       "        vertical-align: middle;\n",
       "    }\n",
       "\n",
       "    .dataframe tbody tr th {\n",
       "        vertical-align: top;\n",
       "    }\n",
       "\n",
       "    .dataframe thead th {\n",
       "        text-align: right;\n",
       "    }\n",
       "</style>\n",
       "<table border=\"1\" class=\"dataframe\">\n",
       "  <thead>\n",
       "    <tr style=\"text-align: right;\">\n",
       "      <th></th>\n",
       "      <th>fact_dt</th>\n",
       "      <th>emb_0000</th>\n",
       "      <th>emb_0001</th>\n",
       "      <th>emb_0002</th>\n",
       "      <th>emb_0003</th>\n",
       "      <th>emb_0004</th>\n",
       "      <th>emb_0005</th>\n",
       "      <th>emb_0006</th>\n",
       "      <th>emb_0007</th>\n",
       "      <th>emb_0008</th>\n",
       "      <th>emb_0009</th>\n",
       "      <th>emb_0010</th>\n",
       "      <th>emb_0011</th>\n",
       "      <th>emb_0012</th>\n",
       "      <th>emb_0013</th>\n",
       "      <th>emb_0014</th>\n",
       "      <th>emb_0015</th>\n",
       "      <th>emb_0016</th>\n",
       "      <th>emb_0017</th>\n",
       "      <th>emb_0018</th>\n",
       "      <th>emb_0019</th>\n",
       "      <th>emb_0020</th>\n",
       "      <th>emb_0021</th>\n",
       "      <th>emb_0022</th>\n",
       "      <th>emb_0023</th>\n",
       "      <th>emb_0024</th>\n",
       "      <th>emb_0025</th>\n",
       "      <th>emb_0026</th>\n",
       "      <th>emb_0027</th>\n",
       "      <th>emb_0028</th>\n",
       "      <th>emb_0029</th>\n",
       "      <th>emb_0030</th>\n",
       "      <th>emb_0031</th>\n",
       "      <th>emb_0032</th>\n",
       "      <th>emb_0033</th>\n",
       "      <th>emb_0034</th>\n",
       "      <th>emb_0035</th>\n",
       "      <th>emb_0036</th>\n",
       "      <th>emb_0037</th>\n",
       "      <th>emb_0038</th>\n",
       "      <th>emb_0039</th>\n",
       "      <th>emb_0040</th>\n",
       "      <th>emb_0041</th>\n",
       "      <th>emb_0042</th>\n",
       "      <th>emb_0043</th>\n",
       "      <th>emb_0044</th>\n",
       "      <th>emb_0045</th>\n",
       "      <th>emb_0046</th>\n",
       "      <th>emb_0047</th>\n",
       "      <th>emb_0048</th>\n",
       "      <th>emb_0049</th>\n",
       "      <th>emb_0050</th>\n",
       "      <th>emb_0051</th>\n",
       "      <th>emb_0052</th>\n",
       "      <th>emb_0053</th>\n",
       "      <th>emb_0054</th>\n",
       "      <th>emb_0055</th>\n",
       "      <th>emb_0056</th>\n",
       "      <th>emb_0057</th>\n",
       "      <th>emb_0058</th>\n",
       "      <th>emb_0059</th>\n",
       "      <th>emb_0060</th>\n",
       "      <th>emb_0061</th>\n",
       "      <th>emb_0062</th>\n",
       "      <th>emb_0063</th>\n",
       "      <th>entity_0001_ct</th>\n",
       "      <th>entity_0002_ct</th>\n",
       "      <th>entity_0003_ct</th>\n",
       "      <th>entity_0004_ct</th>\n",
       "      <th>entity_0005_ct</th>\n",
       "      <th>entity_0006_rt</th>\n",
       "      <th>entity_0008_ct</th>\n",
       "      <th>entity_0010_rt</th>\n",
       "      <th>entity_0011_ct</th>\n",
       "      <th>entity_0012_ct</th>\n",
       "      <th>entity_0013_ct</th>\n",
       "      <th>entity_0014_rt</th>\n",
       "      <th>entity_0015_ct</th>\n",
       "      <th>entity_0017_cd_a</th>\n",
       "      <th>entity_0017_cd_d</th>\n",
       "      <th>entity_0010_rt_na</th>\n",
       "      <th>entity_0015_ct_na</th>\n",
       "      <th>fact_dt_outlier</th>\n",
       "      <th>emb_0045_outlier</th>\n",
       "      <th>entity_0006_rt_outlier</th>\n",
       "      <th>entity_0008_ct_outlier</th>\n",
       "      <th>entity_0010_rt_outlier</th>\n",
       "      <th>entity_0012_ct_outlier</th>\n",
       "      <th>entity_0013_ct_outlier</th>\n",
       "      <th>entity_0015_ct_outlier</th>\n",
       "      <th>mul_rt</th>\n",
       "      <th>sum_rt</th>\n",
       "      <th>mul_ct</th>\n",
       "      <th>sum_ct</th>\n",
       "      <th>sum_emb</th>\n",
       "      <th>sum_abs_emb</th>\n",
       "    </tr>\n",
       "  </thead>\n",
       "  <tbody>\n",
       "    <tr>\n",
       "      <th>0</th>\n",
       "      <td>711</td>\n",
       "      <td>-1.130920</td>\n",
       "      <td>1.895028</td>\n",
       "      <td>-1.736251</td>\n",
       "      <td>0.872448</td>\n",
       "      <td>-0.854317</td>\n",
       "      <td>0.545024</td>\n",
       "      <td>1.202575</td>\n",
       "      <td>-0.072018</td>\n",
       "      <td>-1.165497</td>\n",
       "      <td>1.651011</td>\n",
       "      <td>-1.892026</td>\n",
       "      <td>1.972686</td>\n",
       "      <td>-2.306150</td>\n",
       "      <td>-0.285928</td>\n",
       "      <td>-2.420561</td>\n",
       "      <td>0.831787</td>\n",
       "      <td>1.104704</td>\n",
       "      <td>-1.665488</td>\n",
       "      <td>0.751251</td>\n",
       "      <td>0.845312</td>\n",
       "      <td>-0.542118</td>\n",
       "      <td>2.076014</td>\n",
       "      <td>1.700184</td>\n",
       "      <td>0.182223</td>\n",
       "      <td>2.269419</td>\n",
       "      <td>-0.768279</td>\n",
       "      <td>-0.777146</td>\n",
       "      <td>0.387730</td>\n",
       "      <td>-0.143139</td>\n",
       "      <td>0.634687</td>\n",
       "      <td>-0.858275</td>\n",
       "      <td>0.777643</td>\n",
       "      <td>-0.325165</td>\n",
       "      <td>0.527793</td>\n",
       "      <td>0.294793</td>\n",
       "      <td>-0.937137</td>\n",
       "      <td>0.134326</td>\n",
       "      <td>-0.874896</td>\n",
       "      <td>-0.969246</td>\n",
       "      <td>-0.625632</td>\n",
       "      <td>-1.427790</td>\n",
       "      <td>2.489812</td>\n",
       "      <td>-1.845182</td>\n",
       "      <td>0.308496</td>\n",
       "      <td>0.466395</td>\n",
       "      <td>0.023107</td>\n",
       "      <td>-0.570620</td>\n",
       "      <td>-1.263162</td>\n",
       "      <td>2.243511</td>\n",
       "      <td>-0.771934</td>\n",
       "      <td>-1.779594</td>\n",
       "      <td>1.260181</td>\n",
       "      <td>2.347770</td>\n",
       "      <td>0.153677</td>\n",
       "      <td>0.483990</td>\n",
       "      <td>-3.030639</td>\n",
       "      <td>-1.347744</td>\n",
       "      <td>1.124366</td>\n",
       "      <td>-1.342232</td>\n",
       "      <td>1.381671</td>\n",
       "      <td>-0.332619</td>\n",
       "      <td>-0.967959</td>\n",
       "      <td>0.195158</td>\n",
       "      <td>-0.251763</td>\n",
       "      <td>3</td>\n",
       "      <td>4</td>\n",
       "      <td>3</td>\n",
       "      <td>0</td>\n",
       "      <td>1</td>\n",
       "      <td>0.993584</td>\n",
       "      <td>NaN</td>\n",
       "      <td>1.000000</td>\n",
       "      <td>3</td>\n",
       "      <td>446.0</td>\n",
       "      <td>207</td>\n",
       "      <td>1.166190</td>\n",
       "      <td>NaN</td>\n",
       "      <td>0</td>\n",
       "      <td>1</td>\n",
       "      <td>0</td>\n",
       "      <td>1</td>\n",
       "      <td>-1</td>\n",
       "      <td>1</td>\n",
       "      <td>1</td>\n",
       "      <td>1</td>\n",
       "      <td>1</td>\n",
       "      <td>1</td>\n",
       "      <td>1</td>\n",
       "      <td>1</td>\n",
       "      <td>1.168426</td>\n",
       "      <td>5.336587</td>\n",
       "      <td>0.000000e+00</td>\n",
       "      <td>1.378000e+03</td>\n",
       "      <td>-2.146653</td>\n",
       "      <td>70.562856</td>\n",
       "    </tr>\n",
       "    <tr>\n",
       "      <th>1</th>\n",
       "      <td>218</td>\n",
       "      <td>-1.777758</td>\n",
       "      <td>2.195476</td>\n",
       "      <td>-1.177928</td>\n",
       "      <td>0.997776</td>\n",
       "      <td>-0.966194</td>\n",
       "      <td>0.702989</td>\n",
       "      <td>0.975820</td>\n",
       "      <td>0.703755</td>\n",
       "      <td>-0.958513</td>\n",
       "      <td>0.480120</td>\n",
       "      <td>-1.259643</td>\n",
       "      <td>1.984836</td>\n",
       "      <td>-2.209633</td>\n",
       "      <td>0.655391</td>\n",
       "      <td>-2.626339</td>\n",
       "      <td>0.814797</td>\n",
       "      <td>0.706640</td>\n",
       "      <td>-1.508253</td>\n",
       "      <td>0.892528</td>\n",
       "      <td>1.047994</td>\n",
       "      <td>-1.287013</td>\n",
       "      <td>2.281535</td>\n",
       "      <td>1.653299</td>\n",
       "      <td>0.457043</td>\n",
       "      <td>2.041678</td>\n",
       "      <td>-1.223240</td>\n",
       "      <td>-1.323192</td>\n",
       "      <td>-0.318703</td>\n",
       "      <td>0.516459</td>\n",
       "      <td>0.097562</td>\n",
       "      <td>-1.596383</td>\n",
       "      <td>0.115891</td>\n",
       "      <td>-0.660581</td>\n",
       "      <td>0.566672</td>\n",
       "      <td>0.061095</td>\n",
       "      <td>-0.824538</td>\n",
       "      <td>0.678029</td>\n",
       "      <td>-0.629933</td>\n",
       "      <td>-0.288293</td>\n",
       "      <td>-0.191039</td>\n",
       "      <td>-1.304114</td>\n",
       "      <td>1.895253</td>\n",
       "      <td>-0.748206</td>\n",
       "      <td>1.133617</td>\n",
       "      <td>0.867598</td>\n",
       "      <td>0.552327</td>\n",
       "      <td>-0.532176</td>\n",
       "      <td>-0.611312</td>\n",
       "      <td>2.055071</td>\n",
       "      <td>-0.842618</td>\n",
       "      <td>-1.081904</td>\n",
       "      <td>1.463756</td>\n",
       "      <td>1.909271</td>\n",
       "      <td>-0.597187</td>\n",
       "      <td>0.573740</td>\n",
       "      <td>-3.777002</td>\n",
       "      <td>-1.020027</td>\n",
       "      <td>0.414380</td>\n",
       "      <td>-1.603858</td>\n",
       "      <td>1.519238</td>\n",
       "      <td>-0.792133</td>\n",
       "      <td>-0.571999</td>\n",
       "      <td>-0.327029</td>\n",
       "      <td>-0.506496</td>\n",
       "      <td>2</td>\n",
       "      <td>2</td>\n",
       "      <td>2</td>\n",
       "      <td>2</td>\n",
       "      <td>2</td>\n",
       "      <td>0.985236</td>\n",
       "      <td>NaN</td>\n",
       "      <td>0.996865</td>\n",
       "      <td>3</td>\n",
       "      <td>330.0</td>\n",
       "      <td>200</td>\n",
       "      <td>1.753914</td>\n",
       "      <td>NaN</td>\n",
       "      <td>0</td>\n",
       "      <td>1</td>\n",
       "      <td>0</td>\n",
       "      <td>1</td>\n",
       "      <td>1</td>\n",
       "      <td>1</td>\n",
       "      <td>1</td>\n",
       "      <td>1</td>\n",
       "      <td>-1</td>\n",
       "      <td>1</td>\n",
       "      <td>1</td>\n",
       "      <td>1</td>\n",
       "      <td>1.681920</td>\n",
       "      <td>7.394348</td>\n",
       "      <td>1.381248e+09</td>\n",
       "      <td>1.381249e+09</td>\n",
       "      <td>-2.131585</td>\n",
       "      <td>70.286472</td>\n",
       "    </tr>\n",
       "    <tr>\n",
       "      <th>2</th>\n",
       "      <td>462</td>\n",
       "      <td>-0.800151</td>\n",
       "      <td>2.204143</td>\n",
       "      <td>-0.514011</td>\n",
       "      <td>0.961015</td>\n",
       "      <td>-0.116245</td>\n",
       "      <td>0.218591</td>\n",
       "      <td>1.152742</td>\n",
       "      <td>0.955213</td>\n",
       "      <td>-1.075719</td>\n",
       "      <td>2.451778</td>\n",
       "      <td>-3.058330</td>\n",
       "      <td>2.097131</td>\n",
       "      <td>-2.285532</td>\n",
       "      <td>0.062348</td>\n",
       "      <td>-2.129199</td>\n",
       "      <td>0.829396</td>\n",
       "      <td>0.642969</td>\n",
       "      <td>-1.849109</td>\n",
       "      <td>-0.553088</td>\n",
       "      <td>0.575978</td>\n",
       "      <td>-0.848553</td>\n",
       "      <td>1.657650</td>\n",
       "      <td>1.695016</td>\n",
       "      <td>0.018969</td>\n",
       "      <td>2.155971</td>\n",
       "      <td>-0.469931</td>\n",
       "      <td>-0.967494</td>\n",
       "      <td>-0.895899</td>\n",
       "      <td>-0.364366</td>\n",
       "      <td>0.944774</td>\n",
       "      <td>-0.673376</td>\n",
       "      <td>0.791378</td>\n",
       "      <td>-0.214279</td>\n",
       "      <td>0.588130</td>\n",
       "      <td>0.450273</td>\n",
       "      <td>-0.892531</td>\n",
       "      <td>0.754762</td>\n",
       "      <td>-0.814439</td>\n",
       "      <td>-0.444689</td>\n",
       "      <td>-0.521155</td>\n",
       "      <td>-0.792310</td>\n",
       "      <td>2.015573</td>\n",
       "      <td>-1.363314</td>\n",
       "      <td>0.924737</td>\n",
       "      <td>0.155714</td>\n",
       "      <td>-0.670974</td>\n",
       "      <td>-0.793958</td>\n",
       "      <td>-0.905191</td>\n",
       "      <td>2.167285</td>\n",
       "      <td>-1.523553</td>\n",
       "      <td>-0.857246</td>\n",
       "      <td>1.325879</td>\n",
       "      <td>1.684667</td>\n",
       "      <td>0.385727</td>\n",
       "      <td>0.096711</td>\n",
       "      <td>-2.704222</td>\n",
       "      <td>-1.160303</td>\n",
       "      <td>0.934533</td>\n",
       "      <td>-1.503963</td>\n",
       "      <td>-0.016609</td>\n",
       "      <td>-0.465335</td>\n",
       "      <td>-1.034321</td>\n",
       "      <td>0.653358</td>\n",
       "      <td>-0.727603</td>\n",
       "      <td>4</td>\n",
       "      <td>0</td>\n",
       "      <td>4</td>\n",
       "      <td>0</td>\n",
       "      <td>2</td>\n",
       "      <td>0.987922</td>\n",
       "      <td>NaN</td>\n",
       "      <td>0.781602</td>\n",
       "      <td>2</td>\n",
       "      <td>191.0</td>\n",
       "      <td>82</td>\n",
       "      <td>1.548657</td>\n",
       "      <td>NaN</td>\n",
       "      <td>0</td>\n",
       "      <td>0</td>\n",
       "      <td>0</td>\n",
       "      <td>1</td>\n",
       "      <td>1</td>\n",
       "      <td>-1</td>\n",
       "      <td>1</td>\n",
       "      <td>1</td>\n",
       "      <td>-1</td>\n",
       "      <td>1</td>\n",
       "      <td>1</td>\n",
       "      <td>1</td>\n",
       "      <td>1.183690</td>\n",
       "      <td>5.491732</td>\n",
       "      <td>0.000000e+00</td>\n",
       "      <td>7.470000e+02</td>\n",
       "      <td>-2.454584</td>\n",
       "      <td>68.013993</td>\n",
       "    </tr>\n",
       "    <tr>\n",
       "      <th>3</th>\n",
       "      <td>13</td>\n",
       "      <td>-1.543821</td>\n",
       "      <td>2.044538</td>\n",
       "      <td>-1.288806</td>\n",
       "      <td>0.958519</td>\n",
       "      <td>-0.485421</td>\n",
       "      <td>0.534662</td>\n",
       "      <td>0.498838</td>\n",
       "      <td>0.913363</td>\n",
       "      <td>-1.150698</td>\n",
       "      <td>0.682353</td>\n",
       "      <td>-2.342354</td>\n",
       "      <td>1.619433</td>\n",
       "      <td>-2.008181</td>\n",
       "      <td>0.317489</td>\n",
       "      <td>-2.045199</td>\n",
       "      <td>0.819717</td>\n",
       "      <td>0.359040</td>\n",
       "      <td>-1.013714</td>\n",
       "      <td>0.515654</td>\n",
       "      <td>0.962981</td>\n",
       "      <td>-0.895936</td>\n",
       "      <td>2.444055</td>\n",
       "      <td>1.650715</td>\n",
       "      <td>0.488509</td>\n",
       "      <td>2.050253</td>\n",
       "      <td>-0.513660</td>\n",
       "      <td>-1.617719</td>\n",
       "      <td>-0.198799</td>\n",
       "      <td>0.332519</td>\n",
       "      <td>0.498607</td>\n",
       "      <td>-1.393829</td>\n",
       "      <td>0.163533</td>\n",
       "      <td>-0.217686</td>\n",
       "      <td>0.988170</td>\n",
       "      <td>-0.014833</td>\n",
       "      <td>-1.646648</td>\n",
       "      <td>1.749996</td>\n",
       "      <td>0.100091</td>\n",
       "      <td>-0.908938</td>\n",
       "      <td>-1.034925</td>\n",
       "      <td>-1.161342</td>\n",
       "      <td>2.306280</td>\n",
       "      <td>-1.087395</td>\n",
       "      <td>0.695601</td>\n",
       "      <td>1.123252</td>\n",
       "      <td>0.504989</td>\n",
       "      <td>-0.053581</td>\n",
       "      <td>-1.101684</td>\n",
       "      <td>2.047417</td>\n",
       "      <td>-0.872976</td>\n",
       "      <td>-1.436043</td>\n",
       "      <td>1.493698</td>\n",
       "      <td>1.900455</td>\n",
       "      <td>-0.137229</td>\n",
       "      <td>-0.173302</td>\n",
       "      <td>-3.522463</td>\n",
       "      <td>-1.296566</td>\n",
       "      <td>0.875170</td>\n",
       "      <td>-1.407083</td>\n",
       "      <td>0.554178</td>\n",
       "      <td>-0.708667</td>\n",
       "      <td>-1.267630</td>\n",
       "      <td>0.610148</td>\n",
       "      <td>-0.363370</td>\n",
       "      <td>4</td>\n",
       "      <td>4</td>\n",
       "      <td>4</td>\n",
       "      <td>0</td>\n",
       "      <td>2</td>\n",
       "      <td>0.990692</td>\n",
       "      <td>NaN</td>\n",
       "      <td>0.000000</td>\n",
       "      <td>4</td>\n",
       "      <td>737.0</td>\n",
       "      <td>328</td>\n",
       "      <td>1.385834</td>\n",
       "      <td>NaN</td>\n",
       "      <td>1</td>\n",
       "      <td>0</td>\n",
       "      <td>0</td>\n",
       "      <td>1</td>\n",
       "      <td>-1</td>\n",
       "      <td>1</td>\n",
       "      <td>1</td>\n",
       "      <td>1</td>\n",
       "      <td>1</td>\n",
       "      <td>1</td>\n",
       "      <td>1</td>\n",
       "      <td>1</td>\n",
       "      <td>0.000000</td>\n",
       "      <td>3.375417</td>\n",
       "      <td>0.000000e+00</td>\n",
       "      <td>1.096000e+03</td>\n",
       "      <td>-2.106275</td>\n",
       "      <td>69.820999</td>\n",
       "    </tr>\n",
       "    <tr>\n",
       "      <th>4</th>\n",
       "      <td>371</td>\n",
       "      <td>-1.564026</td>\n",
       "      <td>2.291450</td>\n",
       "      <td>-1.680573</td>\n",
       "      <td>1.553684</td>\n",
       "      <td>-0.931364</td>\n",
       "      <td>0.613911</td>\n",
       "      <td>1.167507</td>\n",
       "      <td>0.668621</td>\n",
       "      <td>-0.892333</td>\n",
       "      <td>0.613059</td>\n",
       "      <td>-1.565685</td>\n",
       "      <td>1.777778</td>\n",
       "      <td>-1.983498</td>\n",
       "      <td>0.378075</td>\n",
       "      <td>-2.488828</td>\n",
       "      <td>0.823546</td>\n",
       "      <td>0.677798</td>\n",
       "      <td>-1.135342</td>\n",
       "      <td>1.158549</td>\n",
       "      <td>1.225101</td>\n",
       "      <td>-0.924940</td>\n",
       "      <td>2.248060</td>\n",
       "      <td>1.660758</td>\n",
       "      <td>-0.238992</td>\n",
       "      <td>2.256136</td>\n",
       "      <td>-1.227770</td>\n",
       "      <td>-1.524666</td>\n",
       "      <td>-0.133477</td>\n",
       "      <td>0.356619</td>\n",
       "      <td>0.541877</td>\n",
       "      <td>-1.210004</td>\n",
       "      <td>0.734213</td>\n",
       "      <td>-0.173542</td>\n",
       "      <td>0.475880</td>\n",
       "      <td>0.270290</td>\n",
       "      <td>-0.576467</td>\n",
       "      <td>0.275184</td>\n",
       "      <td>-1.012020</td>\n",
       "      <td>-0.616608</td>\n",
       "      <td>-1.166215</td>\n",
       "      <td>-1.109200</td>\n",
       "      <td>2.125344</td>\n",
       "      <td>-1.332558</td>\n",
       "      <td>0.687846</td>\n",
       "      <td>0.795966</td>\n",
       "      <td>0.636973</td>\n",
       "      <td>0.014175</td>\n",
       "      <td>-0.671011</td>\n",
       "      <td>1.945507</td>\n",
       "      <td>-1.142047</td>\n",
       "      <td>-0.873093</td>\n",
       "      <td>1.474121</td>\n",
       "      <td>1.842983</td>\n",
       "      <td>-0.400093</td>\n",
       "      <td>0.261679</td>\n",
       "      <td>-3.930835</td>\n",
       "      <td>-1.238459</td>\n",
       "      <td>0.765359</td>\n",
       "      <td>-1.637083</td>\n",
       "      <td>1.134146</td>\n",
       "      <td>-0.864412</td>\n",
       "      <td>-0.949185</td>\n",
       "      <td>-0.052127</td>\n",
       "      <td>-0.588595</td>\n",
       "      <td>1</td>\n",
       "      <td>2</td>\n",
       "      <td>1</td>\n",
       "      <td>0</td>\n",
       "      <td>1</td>\n",
       "      <td>0.976126</td>\n",
       "      <td>NaN</td>\n",
       "      <td>1.000000</td>\n",
       "      <td>1</td>\n",
       "      <td>64.0</td>\n",
       "      <td>43</td>\n",
       "      <td>2.250021</td>\n",
       "      <td>NaN</td>\n",
       "      <td>0</td>\n",
       "      <td>1</td>\n",
       "      <td>0</td>\n",
       "      <td>1</td>\n",
       "      <td>1</td>\n",
       "      <td>1</td>\n",
       "      <td>1</td>\n",
       "      <td>1</td>\n",
       "      <td>1</td>\n",
       "      <td>1</td>\n",
       "      <td>1</td>\n",
       "      <td>1</td>\n",
       "      <td>2.181914</td>\n",
       "      <td>7.401510</td>\n",
       "      <td>0.000000e+00</td>\n",
       "      <td>4.840000e+02</td>\n",
       "      <td>-2.382851</td>\n",
       "      <td>71.670098</td>\n",
       "    </tr>\n",
       "    <tr>\n",
       "      <th>...</th>\n",
       "      <td>...</td>\n",
       "      <td>...</td>\n",
       "      <td>...</td>\n",
       "      <td>...</td>\n",
       "      <td>...</td>\n",
       "      <td>...</td>\n",
       "      <td>...</td>\n",
       "      <td>...</td>\n",
       "      <td>...</td>\n",
       "      <td>...</td>\n",
       "      <td>...</td>\n",
       "      <td>...</td>\n",
       "      <td>...</td>\n",
       "      <td>...</td>\n",
       "      <td>...</td>\n",
       "      <td>...</td>\n",
       "      <td>...</td>\n",
       "      <td>...</td>\n",
       "      <td>...</td>\n",
       "      <td>...</td>\n",
       "      <td>...</td>\n",
       "      <td>...</td>\n",
       "      <td>...</td>\n",
       "      <td>...</td>\n",
       "      <td>...</td>\n",
       "      <td>...</td>\n",
       "      <td>...</td>\n",
       "      <td>...</td>\n",
       "      <td>...</td>\n",
       "      <td>...</td>\n",
       "      <td>...</td>\n",
       "      <td>...</td>\n",
       "      <td>...</td>\n",
       "      <td>...</td>\n",
       "      <td>...</td>\n",
       "      <td>...</td>\n",
       "      <td>...</td>\n",
       "      <td>...</td>\n",
       "      <td>...</td>\n",
       "      <td>...</td>\n",
       "      <td>...</td>\n",
       "      <td>...</td>\n",
       "      <td>...</td>\n",
       "      <td>...</td>\n",
       "      <td>...</td>\n",
       "      <td>...</td>\n",
       "      <td>...</td>\n",
       "      <td>...</td>\n",
       "      <td>...</td>\n",
       "      <td>...</td>\n",
       "      <td>...</td>\n",
       "      <td>...</td>\n",
       "      <td>...</td>\n",
       "      <td>...</td>\n",
       "      <td>...</td>\n",
       "      <td>...</td>\n",
       "      <td>...</td>\n",
       "      <td>...</td>\n",
       "      <td>...</td>\n",
       "      <td>...</td>\n",
       "      <td>...</td>\n",
       "      <td>...</td>\n",
       "      <td>...</td>\n",
       "      <td>...</td>\n",
       "      <td>...</td>\n",
       "      <td>...</td>\n",
       "      <td>...</td>\n",
       "      <td>...</td>\n",
       "      <td>...</td>\n",
       "      <td>...</td>\n",
       "      <td>...</td>\n",
       "      <td>...</td>\n",
       "      <td>...</td>\n",
       "      <td>...</td>\n",
       "      <td>...</td>\n",
       "      <td>...</td>\n",
       "      <td>...</td>\n",
       "      <td>...</td>\n",
       "      <td>...</td>\n",
       "      <td>...</td>\n",
       "      <td>...</td>\n",
       "      <td>...</td>\n",
       "      <td>...</td>\n",
       "      <td>...</td>\n",
       "      <td>...</td>\n",
       "      <td>...</td>\n",
       "      <td>...</td>\n",
       "      <td>...</td>\n",
       "      <td>...</td>\n",
       "      <td>...</td>\n",
       "      <td>...</td>\n",
       "      <td>...</td>\n",
       "      <td>...</td>\n",
       "      <td>...</td>\n",
       "      <td>...</td>\n",
       "      <td>...</td>\n",
       "    </tr>\n",
       "    <tr>\n",
       "      <th>106230</th>\n",
       "      <td>897</td>\n",
       "      <td>-1.205612</td>\n",
       "      <td>2.327263</td>\n",
       "      <td>-1.457181</td>\n",
       "      <td>1.016395</td>\n",
       "      <td>-0.906506</td>\n",
       "      <td>0.233363</td>\n",
       "      <td>0.963181</td>\n",
       "      <td>0.827734</td>\n",
       "      <td>-0.857898</td>\n",
       "      <td>1.526206</td>\n",
       "      <td>-1.652621</td>\n",
       "      <td>2.066417</td>\n",
       "      <td>-2.111136</td>\n",
       "      <td>0.194728</td>\n",
       "      <td>-2.400225</td>\n",
       "      <td>0.820067</td>\n",
       "      <td>0.491015</td>\n",
       "      <td>-1.231422</td>\n",
       "      <td>0.235619</td>\n",
       "      <td>0.715280</td>\n",
       "      <td>-0.887534</td>\n",
       "      <td>2.778461</td>\n",
       "      <td>1.696280</td>\n",
       "      <td>0.424342</td>\n",
       "      <td>2.041024</td>\n",
       "      <td>-0.736050</td>\n",
       "      <td>-1.060844</td>\n",
       "      <td>-0.106629</td>\n",
       "      <td>0.170563</td>\n",
       "      <td>0.409322</td>\n",
       "      <td>-1.686108</td>\n",
       "      <td>0.068704</td>\n",
       "      <td>-0.477939</td>\n",
       "      <td>0.160216</td>\n",
       "      <td>0.596563</td>\n",
       "      <td>-0.559671</td>\n",
       "      <td>0.711362</td>\n",
       "      <td>-0.630911</td>\n",
       "      <td>-1.044620</td>\n",
       "      <td>-0.905761</td>\n",
       "      <td>-0.883564</td>\n",
       "      <td>1.992637</td>\n",
       "      <td>-1.834475</td>\n",
       "      <td>0.809614</td>\n",
       "      <td>0.387928</td>\n",
       "      <td>-0.137798</td>\n",
       "      <td>-0.273568</td>\n",
       "      <td>-0.892318</td>\n",
       "      <td>2.476033</td>\n",
       "      <td>-1.278552</td>\n",
       "      <td>-0.880533</td>\n",
       "      <td>1.430523</td>\n",
       "      <td>1.891817</td>\n",
       "      <td>0.110880</td>\n",
       "      <td>0.153372</td>\n",
       "      <td>-3.431037</td>\n",
       "      <td>-1.200756</td>\n",
       "      <td>0.828872</td>\n",
       "      <td>-1.473096</td>\n",
       "      <td>1.406022</td>\n",
       "      <td>-0.439732</td>\n",
       "      <td>-0.476763</td>\n",
       "      <td>0.112531</td>\n",
       "      <td>-0.847985</td>\n",
       "      <td>2</td>\n",
       "      <td>0</td>\n",
       "      <td>2</td>\n",
       "      <td>1</td>\n",
       "      <td>2</td>\n",
       "      <td>NaN</td>\n",
       "      <td>NaN</td>\n",
       "      <td>1.000000</td>\n",
       "      <td>1</td>\n",
       "      <td>NaN</td>\n",
       "      <td>33</td>\n",
       "      <td>NaN</td>\n",
       "      <td>NaN</td>\n",
       "      <td>0</td>\n",
       "      <td>1</td>\n",
       "      <td>0</td>\n",
       "      <td>1</td>\n",
       "      <td>-1</td>\n",
       "      <td>1</td>\n",
       "      <td>-1</td>\n",
       "      <td>1</td>\n",
       "      <td>1</td>\n",
       "      <td>-1</td>\n",
       "      <td>1</td>\n",
       "      <td>1</td>\n",
       "      <td>1.005675</td>\n",
       "      <td>4.011350</td>\n",
       "      <td>0.000000e+00</td>\n",
       "      <td>9.380000e+02</td>\n",
       "      <td>-1.894512</td>\n",
       "      <td>67.937690</td>\n",
       "    </tr>\n",
       "    <tr>\n",
       "      <th>106231</th>\n",
       "      <td>901</td>\n",
       "      <td>-0.927309</td>\n",
       "      <td>1.813716</td>\n",
       "      <td>-1.121229</td>\n",
       "      <td>0.124153</td>\n",
       "      <td>-0.361653</td>\n",
       "      <td>0.083467</td>\n",
       "      <td>0.776452</td>\n",
       "      <td>0.444127</td>\n",
       "      <td>-1.471390</td>\n",
       "      <td>1.893031</td>\n",
       "      <td>-2.406141</td>\n",
       "      <td>2.027526</td>\n",
       "      <td>-2.651514</td>\n",
       "      <td>-0.124875</td>\n",
       "      <td>-2.032112</td>\n",
       "      <td>0.816375</td>\n",
       "      <td>0.888409</td>\n",
       "      <td>-1.506069</td>\n",
       "      <td>-0.531352</td>\n",
       "      <td>0.642905</td>\n",
       "      <td>-0.631782</td>\n",
       "      <td>2.353266</td>\n",
       "      <td>1.681788</td>\n",
       "      <td>-0.087803</td>\n",
       "      <td>1.941367</td>\n",
       "      <td>-0.450732</td>\n",
       "      <td>-0.636893</td>\n",
       "      <td>-0.203923</td>\n",
       "      <td>0.172360</td>\n",
       "      <td>0.884450</td>\n",
       "      <td>-1.512971</td>\n",
       "      <td>0.944175</td>\n",
       "      <td>-0.214485</td>\n",
       "      <td>0.649567</td>\n",
       "      <td>-0.000269</td>\n",
       "      <td>-0.170462</td>\n",
       "      <td>0.635947</td>\n",
       "      <td>-0.595992</td>\n",
       "      <td>-0.692949</td>\n",
       "      <td>-0.438575</td>\n",
       "      <td>-1.193147</td>\n",
       "      <td>2.743395</td>\n",
       "      <td>-1.660887</td>\n",
       "      <td>0.697000</td>\n",
       "      <td>0.310326</td>\n",
       "      <td>-0.958498</td>\n",
       "      <td>-0.860528</td>\n",
       "      <td>-0.998550</td>\n",
       "      <td>2.198176</td>\n",
       "      <td>-1.071548</td>\n",
       "      <td>-1.451303</td>\n",
       "      <td>1.295782</td>\n",
       "      <td>2.065831</td>\n",
       "      <td>0.667694</td>\n",
       "      <td>0.468898</td>\n",
       "      <td>-2.533707</td>\n",
       "      <td>-1.114891</td>\n",
       "      <td>0.988588</td>\n",
       "      <td>-1.690392</td>\n",
       "      <td>0.701693</td>\n",
       "      <td>-0.312518</td>\n",
       "      <td>-0.762838</td>\n",
       "      <td>0.590733</td>\n",
       "      <td>-0.264172</td>\n",
       "      <td>3</td>\n",
       "      <td>2</td>\n",
       "      <td>59</td>\n",
       "      <td>1</td>\n",
       "      <td>1</td>\n",
       "      <td>NaN</td>\n",
       "      <td>NaN</td>\n",
       "      <td>0.000000</td>\n",
       "      <td>3</td>\n",
       "      <td>NaN</td>\n",
       "      <td>224</td>\n",
       "      <td>NaN</td>\n",
       "      <td>NaN</td>\n",
       "      <td>1</td>\n",
       "      <td>0</td>\n",
       "      <td>0</td>\n",
       "      <td>1</td>\n",
       "      <td>-1</td>\n",
       "      <td>-1</td>\n",
       "      <td>-1</td>\n",
       "      <td>1</td>\n",
       "      <td>1</td>\n",
       "      <td>-1</td>\n",
       "      <td>1</td>\n",
       "      <td>1</td>\n",
       "      <td>0.000000</td>\n",
       "      <td>1.004245</td>\n",
       "      <td>2.143371e+08</td>\n",
       "      <td>2.143383e+08</td>\n",
       "      <td>-2.142265</td>\n",
       "      <td>67.286921</td>\n",
       "    </tr>\n",
       "    <tr>\n",
       "      <th>106232</th>\n",
       "      <td>902</td>\n",
       "      <td>-0.741633</td>\n",
       "      <td>2.044089</td>\n",
       "      <td>-1.402247</td>\n",
       "      <td>1.136629</td>\n",
       "      <td>-0.324541</td>\n",
       "      <td>0.191690</td>\n",
       "      <td>0.954457</td>\n",
       "      <td>0.785869</td>\n",
       "      <td>-1.416434</td>\n",
       "      <td>1.578214</td>\n",
       "      <td>-2.566704</td>\n",
       "      <td>1.639120</td>\n",
       "      <td>-2.273020</td>\n",
       "      <td>0.448530</td>\n",
       "      <td>-2.119962</td>\n",
       "      <td>0.827114</td>\n",
       "      <td>0.808131</td>\n",
       "      <td>-1.596343</td>\n",
       "      <td>-0.114015</td>\n",
       "      <td>0.602391</td>\n",
       "      <td>-0.467022</td>\n",
       "      <td>2.036914</td>\n",
       "      <td>1.718679</td>\n",
       "      <td>0.222746</td>\n",
       "      <td>2.339666</td>\n",
       "      <td>-0.518232</td>\n",
       "      <td>-0.886932</td>\n",
       "      <td>-0.093362</td>\n",
       "      <td>-0.082201</td>\n",
       "      <td>1.096889</td>\n",
       "      <td>-0.753677</td>\n",
       "      <td>0.819553</td>\n",
       "      <td>-0.243219</td>\n",
       "      <td>0.281381</td>\n",
       "      <td>0.412002</td>\n",
       "      <td>-0.539665</td>\n",
       "      <td>0.209695</td>\n",
       "      <td>-0.917792</td>\n",
       "      <td>-0.986928</td>\n",
       "      <td>-0.773072</td>\n",
       "      <td>-1.260738</td>\n",
       "      <td>2.645757</td>\n",
       "      <td>-1.753072</td>\n",
       "      <td>0.581788</td>\n",
       "      <td>0.430028</td>\n",
       "      <td>-0.566730</td>\n",
       "      <td>-0.868390</td>\n",
       "      <td>-0.882809</td>\n",
       "      <td>2.085920</td>\n",
       "      <td>-1.428062</td>\n",
       "      <td>-1.106932</td>\n",
       "      <td>1.287345</td>\n",
       "      <td>1.780083</td>\n",
       "      <td>0.561406</td>\n",
       "      <td>-0.054979</td>\n",
       "      <td>-3.251634</td>\n",
       "      <td>-1.169801</td>\n",
       "      <td>1.078075</td>\n",
       "      <td>-1.424294</td>\n",
       "      <td>0.388684</td>\n",
       "      <td>-0.485084</td>\n",
       "      <td>-0.945647</td>\n",
       "      <td>0.893415</td>\n",
       "      <td>-0.417808</td>\n",
       "      <td>3</td>\n",
       "      <td>1</td>\n",
       "      <td>3</td>\n",
       "      <td>0</td>\n",
       "      <td>1</td>\n",
       "      <td>NaN</td>\n",
       "      <td>NaN</td>\n",
       "      <td>1.000000</td>\n",
       "      <td>1</td>\n",
       "      <td>NaN</td>\n",
       "      <td>122</td>\n",
       "      <td>NaN</td>\n",
       "      <td>NaN</td>\n",
       "      <td>0</td>\n",
       "      <td>1</td>\n",
       "      <td>0</td>\n",
       "      <td>1</td>\n",
       "      <td>-1</td>\n",
       "      <td>-1</td>\n",
       "      <td>-1</td>\n",
       "      <td>1</td>\n",
       "      <td>1</td>\n",
       "      <td>-1</td>\n",
       "      <td>1</td>\n",
       "      <td>1</td>\n",
       "      <td>1.000972</td>\n",
       "      <td>3.001945</td>\n",
       "      <td>0.000000e+00</td>\n",
       "      <td>1.033000e+03</td>\n",
       "      <td>-2.546724</td>\n",
       "      <td>68.865963</td>\n",
       "    </tr>\n",
       "    <tr>\n",
       "      <th>106233</th>\n",
       "      <td>902</td>\n",
       "      <td>-1.824886</td>\n",
       "      <td>1.890309</td>\n",
       "      <td>-1.443270</td>\n",
       "      <td>1.245961</td>\n",
       "      <td>-0.621427</td>\n",
       "      <td>1.198131</td>\n",
       "      <td>1.469549</td>\n",
       "      <td>0.379104</td>\n",
       "      <td>-1.416705</td>\n",
       "      <td>1.661604</td>\n",
       "      <td>-2.129992</td>\n",
       "      <td>1.908853</td>\n",
       "      <td>-2.378236</td>\n",
       "      <td>-0.479529</td>\n",
       "      <td>-2.318099</td>\n",
       "      <td>0.821076</td>\n",
       "      <td>0.828562</td>\n",
       "      <td>-1.662358</td>\n",
       "      <td>0.629707</td>\n",
       "      <td>1.017279</td>\n",
       "      <td>-0.899590</td>\n",
       "      <td>1.705248</td>\n",
       "      <td>1.610646</td>\n",
       "      <td>-0.420649</td>\n",
       "      <td>2.391451</td>\n",
       "      <td>-0.876563</td>\n",
       "      <td>-1.495329</td>\n",
       "      <td>-0.133813</td>\n",
       "      <td>0.279281</td>\n",
       "      <td>0.861970</td>\n",
       "      <td>-1.185059</td>\n",
       "      <td>1.204757</td>\n",
       "      <td>-0.306166</td>\n",
       "      <td>-0.179509</td>\n",
       "      <td>0.860280</td>\n",
       "      <td>1.250784</td>\n",
       "      <td>0.477951</td>\n",
       "      <td>-1.003085</td>\n",
       "      <td>-0.060332</td>\n",
       "      <td>-0.126406</td>\n",
       "      <td>-1.384883</td>\n",
       "      <td>2.491983</td>\n",
       "      <td>-1.764351</td>\n",
       "      <td>0.273315</td>\n",
       "      <td>0.126191</td>\n",
       "      <td>-0.217641</td>\n",
       "      <td>-0.293090</td>\n",
       "      <td>-0.942815</td>\n",
       "      <td>1.985658</td>\n",
       "      <td>-0.958637</td>\n",
       "      <td>-0.877055</td>\n",
       "      <td>1.216477</td>\n",
       "      <td>2.034382</td>\n",
       "      <td>0.051630</td>\n",
       "      <td>0.143137</td>\n",
       "      <td>-3.128551</td>\n",
       "      <td>-1.305184</td>\n",
       "      <td>0.863766</td>\n",
       "      <td>-1.496656</td>\n",
       "      <td>0.851676</td>\n",
       "      <td>-0.676724</td>\n",
       "      <td>-1.280398</td>\n",
       "      <td>0.677538</td>\n",
       "      <td>-0.461632</td>\n",
       "      <td>5</td>\n",
       "      <td>2</td>\n",
       "      <td>46</td>\n",
       "      <td>1</td>\n",
       "      <td>1</td>\n",
       "      <td>NaN</td>\n",
       "      <td>NaN</td>\n",
       "      <td>NaN</td>\n",
       "      <td>1</td>\n",
       "      <td>NaN</td>\n",
       "      <td>225</td>\n",
       "      <td>NaN</td>\n",
       "      <td>NaN</td>\n",
       "      <td>1</td>\n",
       "      <td>0</td>\n",
       "      <td>1</td>\n",
       "      <td>1</td>\n",
       "      <td>-1</td>\n",
       "      <td>-1</td>\n",
       "      <td>-1</td>\n",
       "      <td>1</td>\n",
       "      <td>-1</td>\n",
       "      <td>-1</td>\n",
       "      <td>1</td>\n",
       "      <td>1</td>\n",
       "      <td>1.011883</td>\n",
       "      <td>2.023766</td>\n",
       "      <td>9.335700e+07</td>\n",
       "      <td>9.335818e+07</td>\n",
       "      <td>-1.340368</td>\n",
       "      <td>71.497245</td>\n",
       "    </tr>\n",
       "    <tr>\n",
       "      <th>106234</th>\n",
       "      <td>900</td>\n",
       "      <td>-0.976949</td>\n",
       "      <td>1.833835</td>\n",
       "      <td>-0.839204</td>\n",
       "      <td>0.393074</td>\n",
       "      <td>-0.280414</td>\n",
       "      <td>-0.215504</td>\n",
       "      <td>0.451189</td>\n",
       "      <td>1.268899</td>\n",
       "      <td>-1.241681</td>\n",
       "      <td>1.187161</td>\n",
       "      <td>-2.196737</td>\n",
       "      <td>1.956893</td>\n",
       "      <td>-2.890538</td>\n",
       "      <td>-0.041464</td>\n",
       "      <td>-2.759337</td>\n",
       "      <td>0.853852</td>\n",
       "      <td>0.985634</td>\n",
       "      <td>-0.973793</td>\n",
       "      <td>-0.484418</td>\n",
       "      <td>0.990157</td>\n",
       "      <td>-0.912679</td>\n",
       "      <td>2.074945</td>\n",
       "      <td>1.746093</td>\n",
       "      <td>0.216362</td>\n",
       "      <td>2.148278</td>\n",
       "      <td>-0.729856</td>\n",
       "      <td>-0.927628</td>\n",
       "      <td>-0.486992</td>\n",
       "      <td>0.194063</td>\n",
       "      <td>0.960994</td>\n",
       "      <td>-1.261237</td>\n",
       "      <td>1.066651</td>\n",
       "      <td>-0.230303</td>\n",
       "      <td>0.432509</td>\n",
       "      <td>1.034958</td>\n",
       "      <td>-0.977747</td>\n",
       "      <td>0.661272</td>\n",
       "      <td>-0.649738</td>\n",
       "      <td>-0.847175</td>\n",
       "      <td>-0.786216</td>\n",
       "      <td>-1.400969</td>\n",
       "      <td>2.556001</td>\n",
       "      <td>-0.842352</td>\n",
       "      <td>0.454971</td>\n",
       "      <td>0.765826</td>\n",
       "      <td>-0.309644</td>\n",
       "      <td>-0.766977</td>\n",
       "      <td>-0.525850</td>\n",
       "      <td>2.133733</td>\n",
       "      <td>-1.252889</td>\n",
       "      <td>-1.267404</td>\n",
       "      <td>1.470604</td>\n",
       "      <td>1.545514</td>\n",
       "      <td>0.150638</td>\n",
       "      <td>0.383534</td>\n",
       "      <td>-2.862662</td>\n",
       "      <td>-1.417741</td>\n",
       "      <td>0.968964</td>\n",
       "      <td>-1.652557</td>\n",
       "      <td>0.879335</td>\n",
       "      <td>-0.157847</td>\n",
       "      <td>-0.553530</td>\n",
       "      <td>0.666335</td>\n",
       "      <td>-0.720143</td>\n",
       "      <td>1</td>\n",
       "      <td>0</td>\n",
       "      <td>1</td>\n",
       "      <td>0</td>\n",
       "      <td>1</td>\n",
       "      <td>NaN</td>\n",
       "      <td>1.0</td>\n",
       "      <td>1.000000</td>\n",
       "      <td>2</td>\n",
       "      <td>NaN</td>\n",
       "      <td>2</td>\n",
       "      <td>NaN</td>\n",
       "      <td>1.0</td>\n",
       "      <td>0</td>\n",
       "      <td>1</td>\n",
       "      <td>0</td>\n",
       "      <td>0</td>\n",
       "      <td>-1</td>\n",
       "      <td>-1</td>\n",
       "      <td>-1</td>\n",
       "      <td>-1</td>\n",
       "      <td>1</td>\n",
       "      <td>-1</td>\n",
       "      <td>-1</td>\n",
       "      <td>-1</td>\n",
       "      <td>1.025398</td>\n",
       "      <td>3.050797</td>\n",
       "      <td>0.000000e+00</td>\n",
       "      <td>9.090000e+02</td>\n",
       "      <td>-2.007902</td>\n",
       "      <td>68.880356</td>\n",
       "    </tr>\n",
       "  </tbody>\n",
       "</table>\n",
       "<p>106235 rows × 96 columns</p>\n",
       "</div>"
      ],
      "text/plain": [
       "        fact_dt  emb_0000  emb_0001  emb_0002  emb_0003  emb_0004  emb_0005  \\\n",
       "0           711 -1.130920  1.895028 -1.736251  0.872448 -0.854317  0.545024   \n",
       "1           218 -1.777758  2.195476 -1.177928  0.997776 -0.966194  0.702989   \n",
       "2           462 -0.800151  2.204143 -0.514011  0.961015 -0.116245  0.218591   \n",
       "3            13 -1.543821  2.044538 -1.288806  0.958519 -0.485421  0.534662   \n",
       "4           371 -1.564026  2.291450 -1.680573  1.553684 -0.931364  0.613911   \n",
       "...         ...       ...       ...       ...       ...       ...       ...   \n",
       "106230      897 -1.205612  2.327263 -1.457181  1.016395 -0.906506  0.233363   \n",
       "106231      901 -0.927309  1.813716 -1.121229  0.124153 -0.361653  0.083467   \n",
       "106232      902 -0.741633  2.044089 -1.402247  1.136629 -0.324541  0.191690   \n",
       "106233      902 -1.824886  1.890309 -1.443270  1.245961 -0.621427  1.198131   \n",
       "106234      900 -0.976949  1.833835 -0.839204  0.393074 -0.280414 -0.215504   \n",
       "\n",
       "        emb_0006  emb_0007  emb_0008  emb_0009  emb_0010  emb_0011  emb_0012  \\\n",
       "0       1.202575 -0.072018 -1.165497  1.651011 -1.892026  1.972686 -2.306150   \n",
       "1       0.975820  0.703755 -0.958513  0.480120 -1.259643  1.984836 -2.209633   \n",
       "2       1.152742  0.955213 -1.075719  2.451778 -3.058330  2.097131 -2.285532   \n",
       "3       0.498838  0.913363 -1.150698  0.682353 -2.342354  1.619433 -2.008181   \n",
       "4       1.167507  0.668621 -0.892333  0.613059 -1.565685  1.777778 -1.983498   \n",
       "...          ...       ...       ...       ...       ...       ...       ...   \n",
       "106230  0.963181  0.827734 -0.857898  1.526206 -1.652621  2.066417 -2.111136   \n",
       "106231  0.776452  0.444127 -1.471390  1.893031 -2.406141  2.027526 -2.651514   \n",
       "106232  0.954457  0.785869 -1.416434  1.578214 -2.566704  1.639120 -2.273020   \n",
       "106233  1.469549  0.379104 -1.416705  1.661604 -2.129992  1.908853 -2.378236   \n",
       "106234  0.451189  1.268899 -1.241681  1.187161 -2.196737  1.956893 -2.890538   \n",
       "\n",
       "        emb_0013  emb_0014  emb_0015  emb_0016  emb_0017  emb_0018  emb_0019  \\\n",
       "0      -0.285928 -2.420561  0.831787  1.104704 -1.665488  0.751251  0.845312   \n",
       "1       0.655391 -2.626339  0.814797  0.706640 -1.508253  0.892528  1.047994   \n",
       "2       0.062348 -2.129199  0.829396  0.642969 -1.849109 -0.553088  0.575978   \n",
       "3       0.317489 -2.045199  0.819717  0.359040 -1.013714  0.515654  0.962981   \n",
       "4       0.378075 -2.488828  0.823546  0.677798 -1.135342  1.158549  1.225101   \n",
       "...          ...       ...       ...       ...       ...       ...       ...   \n",
       "106230  0.194728 -2.400225  0.820067  0.491015 -1.231422  0.235619  0.715280   \n",
       "106231 -0.124875 -2.032112  0.816375  0.888409 -1.506069 -0.531352  0.642905   \n",
       "106232  0.448530 -2.119962  0.827114  0.808131 -1.596343 -0.114015  0.602391   \n",
       "106233 -0.479529 -2.318099  0.821076  0.828562 -1.662358  0.629707  1.017279   \n",
       "106234 -0.041464 -2.759337  0.853852  0.985634 -0.973793 -0.484418  0.990157   \n",
       "\n",
       "        emb_0020  emb_0021  emb_0022  emb_0023  emb_0024  emb_0025  emb_0026  \\\n",
       "0      -0.542118  2.076014  1.700184  0.182223  2.269419 -0.768279 -0.777146   \n",
       "1      -1.287013  2.281535  1.653299  0.457043  2.041678 -1.223240 -1.323192   \n",
       "2      -0.848553  1.657650  1.695016  0.018969  2.155971 -0.469931 -0.967494   \n",
       "3      -0.895936  2.444055  1.650715  0.488509  2.050253 -0.513660 -1.617719   \n",
       "4      -0.924940  2.248060  1.660758 -0.238992  2.256136 -1.227770 -1.524666   \n",
       "...          ...       ...       ...       ...       ...       ...       ...   \n",
       "106230 -0.887534  2.778461  1.696280  0.424342  2.041024 -0.736050 -1.060844   \n",
       "106231 -0.631782  2.353266  1.681788 -0.087803  1.941367 -0.450732 -0.636893   \n",
       "106232 -0.467022  2.036914  1.718679  0.222746  2.339666 -0.518232 -0.886932   \n",
       "106233 -0.899590  1.705248  1.610646 -0.420649  2.391451 -0.876563 -1.495329   \n",
       "106234 -0.912679  2.074945  1.746093  0.216362  2.148278 -0.729856 -0.927628   \n",
       "\n",
       "        emb_0027  emb_0028  emb_0029  emb_0030  emb_0031  emb_0032  emb_0033  \\\n",
       "0       0.387730 -0.143139  0.634687 -0.858275  0.777643 -0.325165  0.527793   \n",
       "1      -0.318703  0.516459  0.097562 -1.596383  0.115891 -0.660581  0.566672   \n",
       "2      -0.895899 -0.364366  0.944774 -0.673376  0.791378 -0.214279  0.588130   \n",
       "3      -0.198799  0.332519  0.498607 -1.393829  0.163533 -0.217686  0.988170   \n",
       "4      -0.133477  0.356619  0.541877 -1.210004  0.734213 -0.173542  0.475880   \n",
       "...          ...       ...       ...       ...       ...       ...       ...   \n",
       "106230 -0.106629  0.170563  0.409322 -1.686108  0.068704 -0.477939  0.160216   \n",
       "106231 -0.203923  0.172360  0.884450 -1.512971  0.944175 -0.214485  0.649567   \n",
       "106232 -0.093362 -0.082201  1.096889 -0.753677  0.819553 -0.243219  0.281381   \n",
       "106233 -0.133813  0.279281  0.861970 -1.185059  1.204757 -0.306166 -0.179509   \n",
       "106234 -0.486992  0.194063  0.960994 -1.261237  1.066651 -0.230303  0.432509   \n",
       "\n",
       "        emb_0034  emb_0035  emb_0036  emb_0037  emb_0038  emb_0039  emb_0040  \\\n",
       "0       0.294793 -0.937137  0.134326 -0.874896 -0.969246 -0.625632 -1.427790   \n",
       "1       0.061095 -0.824538  0.678029 -0.629933 -0.288293 -0.191039 -1.304114   \n",
       "2       0.450273 -0.892531  0.754762 -0.814439 -0.444689 -0.521155 -0.792310   \n",
       "3      -0.014833 -1.646648  1.749996  0.100091 -0.908938 -1.034925 -1.161342   \n",
       "4       0.270290 -0.576467  0.275184 -1.012020 -0.616608 -1.166215 -1.109200   \n",
       "...          ...       ...       ...       ...       ...       ...       ...   \n",
       "106230  0.596563 -0.559671  0.711362 -0.630911 -1.044620 -0.905761 -0.883564   \n",
       "106231 -0.000269 -0.170462  0.635947 -0.595992 -0.692949 -0.438575 -1.193147   \n",
       "106232  0.412002 -0.539665  0.209695 -0.917792 -0.986928 -0.773072 -1.260738   \n",
       "106233  0.860280  1.250784  0.477951 -1.003085 -0.060332 -0.126406 -1.384883   \n",
       "106234  1.034958 -0.977747  0.661272 -0.649738 -0.847175 -0.786216 -1.400969   \n",
       "\n",
       "        emb_0041  emb_0042  emb_0043  emb_0044  emb_0045  emb_0046  emb_0047  \\\n",
       "0       2.489812 -1.845182  0.308496  0.466395  0.023107 -0.570620 -1.263162   \n",
       "1       1.895253 -0.748206  1.133617  0.867598  0.552327 -0.532176 -0.611312   \n",
       "2       2.015573 -1.363314  0.924737  0.155714 -0.670974 -0.793958 -0.905191   \n",
       "3       2.306280 -1.087395  0.695601  1.123252  0.504989 -0.053581 -1.101684   \n",
       "4       2.125344 -1.332558  0.687846  0.795966  0.636973  0.014175 -0.671011   \n",
       "...          ...       ...       ...       ...       ...       ...       ...   \n",
       "106230  1.992637 -1.834475  0.809614  0.387928 -0.137798 -0.273568 -0.892318   \n",
       "106231  2.743395 -1.660887  0.697000  0.310326 -0.958498 -0.860528 -0.998550   \n",
       "106232  2.645757 -1.753072  0.581788  0.430028 -0.566730 -0.868390 -0.882809   \n",
       "106233  2.491983 -1.764351  0.273315  0.126191 -0.217641 -0.293090 -0.942815   \n",
       "106234  2.556001 -0.842352  0.454971  0.765826 -0.309644 -0.766977 -0.525850   \n",
       "\n",
       "        emb_0048  emb_0049  emb_0050  emb_0051  emb_0052  emb_0053  emb_0054  \\\n",
       "0       2.243511 -0.771934 -1.779594  1.260181  2.347770  0.153677  0.483990   \n",
       "1       2.055071 -0.842618 -1.081904  1.463756  1.909271 -0.597187  0.573740   \n",
       "2       2.167285 -1.523553 -0.857246  1.325879  1.684667  0.385727  0.096711   \n",
       "3       2.047417 -0.872976 -1.436043  1.493698  1.900455 -0.137229 -0.173302   \n",
       "4       1.945507 -1.142047 -0.873093  1.474121  1.842983 -0.400093  0.261679   \n",
       "...          ...       ...       ...       ...       ...       ...       ...   \n",
       "106230  2.476033 -1.278552 -0.880533  1.430523  1.891817  0.110880  0.153372   \n",
       "106231  2.198176 -1.071548 -1.451303  1.295782  2.065831  0.667694  0.468898   \n",
       "106232  2.085920 -1.428062 -1.106932  1.287345  1.780083  0.561406 -0.054979   \n",
       "106233  1.985658 -0.958637 -0.877055  1.216477  2.034382  0.051630  0.143137   \n",
       "106234  2.133733 -1.252889 -1.267404  1.470604  1.545514  0.150638  0.383534   \n",
       "\n",
       "        emb_0055  emb_0056  emb_0057  emb_0058  emb_0059  emb_0060  emb_0061  \\\n",
       "0      -3.030639 -1.347744  1.124366 -1.342232  1.381671 -0.332619 -0.967959   \n",
       "1      -3.777002 -1.020027  0.414380 -1.603858  1.519238 -0.792133 -0.571999   \n",
       "2      -2.704222 -1.160303  0.934533 -1.503963 -0.016609 -0.465335 -1.034321   \n",
       "3      -3.522463 -1.296566  0.875170 -1.407083  0.554178 -0.708667 -1.267630   \n",
       "4      -3.930835 -1.238459  0.765359 -1.637083  1.134146 -0.864412 -0.949185   \n",
       "...          ...       ...       ...       ...       ...       ...       ...   \n",
       "106230 -3.431037 -1.200756  0.828872 -1.473096  1.406022 -0.439732 -0.476763   \n",
       "106231 -2.533707 -1.114891  0.988588 -1.690392  0.701693 -0.312518 -0.762838   \n",
       "106232 -3.251634 -1.169801  1.078075 -1.424294  0.388684 -0.485084 -0.945647   \n",
       "106233 -3.128551 -1.305184  0.863766 -1.496656  0.851676 -0.676724 -1.280398   \n",
       "106234 -2.862662 -1.417741  0.968964 -1.652557  0.879335 -0.157847 -0.553530   \n",
       "\n",
       "        emb_0062  emb_0063  entity_0001_ct  entity_0002_ct  entity_0003_ct  \\\n",
       "0       0.195158 -0.251763               3               4               3   \n",
       "1      -0.327029 -0.506496               2               2               2   \n",
       "2       0.653358 -0.727603               4               0               4   \n",
       "3       0.610148 -0.363370               4               4               4   \n",
       "4      -0.052127 -0.588595               1               2               1   \n",
       "...          ...       ...             ...             ...             ...   \n",
       "106230  0.112531 -0.847985               2               0               2   \n",
       "106231  0.590733 -0.264172               3               2              59   \n",
       "106232  0.893415 -0.417808               3               1               3   \n",
       "106233  0.677538 -0.461632               5               2              46   \n",
       "106234  0.666335 -0.720143               1               0               1   \n",
       "\n",
       "        entity_0004_ct  entity_0005_ct  entity_0006_rt  entity_0008_ct  \\\n",
       "0                    0               1        0.993584             NaN   \n",
       "1                    2               2        0.985236             NaN   \n",
       "2                    0               2        0.987922             NaN   \n",
       "3                    0               2        0.990692             NaN   \n",
       "4                    0               1        0.976126             NaN   \n",
       "...                ...             ...             ...             ...   \n",
       "106230               1               2             NaN             NaN   \n",
       "106231               1               1             NaN             NaN   \n",
       "106232               0               1             NaN             NaN   \n",
       "106233               1               1             NaN             NaN   \n",
       "106234               0               1             NaN             1.0   \n",
       "\n",
       "        entity_0010_rt  entity_0011_ct  entity_0012_ct  entity_0013_ct  \\\n",
       "0             1.000000               3           446.0             207   \n",
       "1             0.996865               3           330.0             200   \n",
       "2             0.781602               2           191.0              82   \n",
       "3             0.000000               4           737.0             328   \n",
       "4             1.000000               1            64.0              43   \n",
       "...                ...             ...             ...             ...   \n",
       "106230        1.000000               1             NaN              33   \n",
       "106231        0.000000               3             NaN             224   \n",
       "106232        1.000000               1             NaN             122   \n",
       "106233             NaN               1             NaN             225   \n",
       "106234        1.000000               2             NaN               2   \n",
       "\n",
       "        entity_0014_rt  entity_0015_ct  entity_0017_cd_a  entity_0017_cd_d  \\\n",
       "0             1.166190             NaN                 0                 1   \n",
       "1             1.753914             NaN                 0                 1   \n",
       "2             1.548657             NaN                 0                 0   \n",
       "3             1.385834             NaN                 1                 0   \n",
       "4             2.250021             NaN                 0                 1   \n",
       "...                ...             ...               ...               ...   \n",
       "106230             NaN             NaN                 0                 1   \n",
       "106231             NaN             NaN                 1                 0   \n",
       "106232             NaN             NaN                 0                 1   \n",
       "106233             NaN             NaN                 1                 0   \n",
       "106234             NaN             1.0                 0                 1   \n",
       "\n",
       "        entity_0010_rt_na  entity_0015_ct_na  fact_dt_outlier  \\\n",
       "0                       0                  1               -1   \n",
       "1                       0                  1                1   \n",
       "2                       0                  1                1   \n",
       "3                       0                  1               -1   \n",
       "4                       0                  1                1   \n",
       "...                   ...                ...              ...   \n",
       "106230                  0                  1               -1   \n",
       "106231                  0                  1               -1   \n",
       "106232                  0                  1               -1   \n",
       "106233                  1                  1               -1   \n",
       "106234                  0                  0               -1   \n",
       "\n",
       "        emb_0045_outlier  entity_0006_rt_outlier  entity_0008_ct_outlier  \\\n",
       "0                      1                       1                       1   \n",
       "1                      1                       1                       1   \n",
       "2                     -1                       1                       1   \n",
       "3                      1                       1                       1   \n",
       "4                      1                       1                       1   \n",
       "...                  ...                     ...                     ...   \n",
       "106230                 1                      -1                       1   \n",
       "106231                -1                      -1                       1   \n",
       "106232                -1                      -1                       1   \n",
       "106233                -1                      -1                       1   \n",
       "106234                -1                      -1                      -1   \n",
       "\n",
       "        entity_0010_rt_outlier  entity_0012_ct_outlier  \\\n",
       "0                            1                       1   \n",
       "1                           -1                       1   \n",
       "2                           -1                       1   \n",
       "3                            1                       1   \n",
       "4                            1                       1   \n",
       "...                        ...                     ...   \n",
       "106230                       1                      -1   \n",
       "106231                       1                      -1   \n",
       "106232                       1                      -1   \n",
       "106233                      -1                      -1   \n",
       "106234                       1                      -1   \n",
       "\n",
       "        entity_0013_ct_outlier  entity_0015_ct_outlier    mul_rt    sum_rt  \\\n",
       "0                            1                       1  1.168426  5.336587   \n",
       "1                            1                       1  1.681920  7.394348   \n",
       "2                            1                       1  1.183690  5.491732   \n",
       "3                            1                       1  0.000000  3.375417   \n",
       "4                            1                       1  2.181914  7.401510   \n",
       "...                        ...                     ...       ...       ...   \n",
       "106230                       1                       1  1.005675  4.011350   \n",
       "106231                       1                       1  0.000000  1.004245   \n",
       "106232                       1                       1  1.000972  3.001945   \n",
       "106233                       1                       1  1.011883  2.023766   \n",
       "106234                      -1                      -1  1.025398  3.050797   \n",
       "\n",
       "              mul_ct        sum_ct   sum_emb  sum_abs_emb  \n",
       "0       0.000000e+00  1.378000e+03 -2.146653    70.562856  \n",
       "1       1.381248e+09  1.381249e+09 -2.131585    70.286472  \n",
       "2       0.000000e+00  7.470000e+02 -2.454584    68.013993  \n",
       "3       0.000000e+00  1.096000e+03 -2.106275    69.820999  \n",
       "4       0.000000e+00  4.840000e+02 -2.382851    71.670098  \n",
       "...              ...           ...       ...          ...  \n",
       "106230  0.000000e+00  9.380000e+02 -1.894512    67.937690  \n",
       "106231  2.143371e+08  2.143383e+08 -2.142265    67.286921  \n",
       "106232  0.000000e+00  1.033000e+03 -2.546724    68.865963  \n",
       "106233  9.335700e+07  9.335818e+07 -1.340368    71.497245  \n",
       "106234  0.000000e+00  9.090000e+02 -2.007902    68.880356  \n",
       "\n",
       "[106235 rows x 96 columns]"
      ]
     },
     "execution_count": 19,
     "metadata": {},
     "output_type": "execute_result"
    }
   ],
   "source": [
    "features_train"
   ]
  },
  {
   "cell_type": "code",
   "execution_count": 20,
   "id": "fc52f84d",
   "metadata": {
    "ExecuteTime": {
     "end_time": "2023-01-09T15:59:15.301624Z",
     "start_time": "2023-01-09T15:59:15.244639Z"
    },
    "pycharm": {
     "name": "#%%\n"
    }
   },
   "outputs": [
    {
     "data": {
      "text/html": [
       "<div>\n",
       "<style scoped>\n",
       "    .dataframe tbody tr th:only-of-type {\n",
       "        vertical-align: middle;\n",
       "    }\n",
       "\n",
       "    .dataframe tbody tr th {\n",
       "        vertical-align: top;\n",
       "    }\n",
       "\n",
       "    .dataframe thead th {\n",
       "        text-align: right;\n",
       "    }\n",
       "</style>\n",
       "<table border=\"1\" class=\"dataframe\">\n",
       "  <thead>\n",
       "    <tr style=\"text-align: right;\">\n",
       "      <th></th>\n",
       "      <th>fact_dt</th>\n",
       "      <th>emb_0000</th>\n",
       "      <th>emb_0001</th>\n",
       "      <th>emb_0002</th>\n",
       "      <th>emb_0003</th>\n",
       "      <th>emb_0004</th>\n",
       "      <th>emb_0005</th>\n",
       "      <th>emb_0006</th>\n",
       "      <th>emb_0007</th>\n",
       "      <th>emb_0008</th>\n",
       "      <th>emb_0009</th>\n",
       "      <th>emb_0010</th>\n",
       "      <th>emb_0011</th>\n",
       "      <th>emb_0012</th>\n",
       "      <th>emb_0013</th>\n",
       "      <th>emb_0014</th>\n",
       "      <th>emb_0015</th>\n",
       "      <th>emb_0016</th>\n",
       "      <th>emb_0017</th>\n",
       "      <th>emb_0018</th>\n",
       "      <th>emb_0019</th>\n",
       "      <th>emb_0020</th>\n",
       "      <th>emb_0021</th>\n",
       "      <th>emb_0022</th>\n",
       "      <th>emb_0023</th>\n",
       "      <th>emb_0024</th>\n",
       "      <th>emb_0025</th>\n",
       "      <th>emb_0026</th>\n",
       "      <th>emb_0027</th>\n",
       "      <th>emb_0028</th>\n",
       "      <th>emb_0029</th>\n",
       "      <th>emb_0030</th>\n",
       "      <th>emb_0031</th>\n",
       "      <th>emb_0032</th>\n",
       "      <th>emb_0033</th>\n",
       "      <th>emb_0034</th>\n",
       "      <th>emb_0035</th>\n",
       "      <th>emb_0036</th>\n",
       "      <th>emb_0037</th>\n",
       "      <th>emb_0038</th>\n",
       "      <th>emb_0039</th>\n",
       "      <th>emb_0040</th>\n",
       "      <th>emb_0041</th>\n",
       "      <th>emb_0042</th>\n",
       "      <th>emb_0043</th>\n",
       "      <th>emb_0044</th>\n",
       "      <th>emb_0045</th>\n",
       "      <th>emb_0046</th>\n",
       "      <th>emb_0047</th>\n",
       "      <th>emb_0048</th>\n",
       "      <th>emb_0049</th>\n",
       "      <th>emb_0050</th>\n",
       "      <th>emb_0051</th>\n",
       "      <th>emb_0052</th>\n",
       "      <th>emb_0053</th>\n",
       "      <th>emb_0054</th>\n",
       "      <th>emb_0055</th>\n",
       "      <th>emb_0056</th>\n",
       "      <th>emb_0057</th>\n",
       "      <th>emb_0058</th>\n",
       "      <th>emb_0059</th>\n",
       "      <th>emb_0060</th>\n",
       "      <th>emb_0061</th>\n",
       "      <th>emb_0062</th>\n",
       "      <th>emb_0063</th>\n",
       "      <th>entity_0001_ct</th>\n",
       "      <th>entity_0002_ct</th>\n",
       "      <th>entity_0003_ct</th>\n",
       "      <th>entity_0004_ct</th>\n",
       "      <th>entity_0005_ct</th>\n",
       "      <th>entity_0006_rt</th>\n",
       "      <th>entity_0008_ct</th>\n",
       "      <th>entity_0010_rt</th>\n",
       "      <th>entity_0011_ct</th>\n",
       "      <th>entity_0012_ct</th>\n",
       "      <th>entity_0013_ct</th>\n",
       "      <th>entity_0014_rt</th>\n",
       "      <th>entity_0015_ct</th>\n",
       "      <th>entity_0017_cd_a</th>\n",
       "      <th>entity_0017_cd_d</th>\n",
       "      <th>entity_0010_rt_na</th>\n",
       "      <th>entity_0015_ct_na</th>\n",
       "      <th>fact_dt_outlier</th>\n",
       "      <th>emb_0045_outlier</th>\n",
       "      <th>entity_0006_rt_outlier</th>\n",
       "      <th>entity_0008_ct_outlier</th>\n",
       "      <th>entity_0010_rt_outlier</th>\n",
       "      <th>entity_0012_ct_outlier</th>\n",
       "      <th>entity_0013_ct_outlier</th>\n",
       "      <th>entity_0015_ct_outlier</th>\n",
       "      <th>mul_rt</th>\n",
       "      <th>sum_rt</th>\n",
       "      <th>mul_ct</th>\n",
       "      <th>sum_ct</th>\n",
       "      <th>sum_emb</th>\n",
       "      <th>sum_abs_emb</th>\n",
       "    </tr>\n",
       "  </thead>\n",
       "  <tbody>\n",
       "    <tr>\n",
       "      <th>0</th>\n",
       "      <td>552</td>\n",
       "      <td>-1.786346</td>\n",
       "      <td>2.074665</td>\n",
       "      <td>-1.504628</td>\n",
       "      <td>1.143300</td>\n",
       "      <td>-0.979666</td>\n",
       "      <td>0.750931</td>\n",
       "      <td>1.091962</td>\n",
       "      <td>0.644968</td>\n",
       "      <td>-0.810258</td>\n",
       "      <td>1.023059</td>\n",
       "      <td>-1.576939</td>\n",
       "      <td>1.783760</td>\n",
       "      <td>-1.997192</td>\n",
       "      <td>0.375575</td>\n",
       "      <td>-2.233522</td>\n",
       "      <td>0.824557</td>\n",
       "      <td>0.603287</td>\n",
       "      <td>-1.959785</td>\n",
       "      <td>0.645056</td>\n",
       "      <td>1.101540</td>\n",
       "      <td>-1.009328</td>\n",
       "      <td>2.402104</td>\n",
       "      <td>1.685323</td>\n",
       "      <td>0.386604</td>\n",
       "      <td>2.042387</td>\n",
       "      <td>-0.910862</td>\n",
       "      <td>-1.246986</td>\n",
       "      <td>-0.331123</td>\n",
       "      <td>0.027410</td>\n",
       "      <td>0.443654</td>\n",
       "      <td>-1.291464</td>\n",
       "      <td>0.301381</td>\n",
       "      <td>-0.655716</td>\n",
       "      <td>-0.372735</td>\n",
       "      <td>0.160851</td>\n",
       "      <td>-0.503871</td>\n",
       "      <td>1.123703</td>\n",
       "      <td>-0.950976</td>\n",
       "      <td>-0.205005</td>\n",
       "      <td>-0.654555</td>\n",
       "      <td>-1.551749</td>\n",
       "      <td>1.944104</td>\n",
       "      <td>-1.391381</td>\n",
       "      <td>0.745322</td>\n",
       "      <td>0.609470</td>\n",
       "      <td>0.234558</td>\n",
       "      <td>0.099144</td>\n",
       "      <td>-1.020924</td>\n",
       "      <td>2.415789</td>\n",
       "      <td>-0.856164</td>\n",
       "      <td>-1.336662</td>\n",
       "      <td>1.386519</td>\n",
       "      <td>2.437416</td>\n",
       "      <td>-0.077037</td>\n",
       "      <td>0.320741</td>\n",
       "      <td>-3.254244</td>\n",
       "      <td>-1.314506</td>\n",
       "      <td>0.722575</td>\n",
       "      <td>-1.563255</td>\n",
       "      <td>1.282448</td>\n",
       "      <td>-0.733094</td>\n",
       "      <td>-0.804640</td>\n",
       "      <td>0.264208</td>\n",
       "      <td>-0.284033</td>\n",
       "      <td>2</td>\n",
       "      <td>4</td>\n",
       "      <td>2</td>\n",
       "      <td>1</td>\n",
       "      <td>2</td>\n",
       "      <td>0.974990</td>\n",
       "      <td>NaN</td>\n",
       "      <td>0.997459</td>\n",
       "      <td>3</td>\n",
       "      <td>339.0</td>\n",
       "      <td>173</td>\n",
       "      <td>2.300125</td>\n",
       "      <td>NaN</td>\n",
       "      <td>0</td>\n",
       "      <td>1</td>\n",
       "      <td>0</td>\n",
       "      <td>1</td>\n",
       "      <td>1</td>\n",
       "      <td>1</td>\n",
       "      <td>1</td>\n",
       "      <td>1</td>\n",
       "      <td>-1</td>\n",
       "      <td>1</td>\n",
       "      <td>1</td>\n",
       "      <td>1</td>\n",
       "      <td>2.228614</td>\n",
       "      <td>8.497483</td>\n",
       "      <td>3.107822e+09</td>\n",
       "      <td>3.107823e+09</td>\n",
       "      <td>-2.070279</td>\n",
       "      <td>70.337293</td>\n",
       "    </tr>\n",
       "    <tr>\n",
       "      <th>1</th>\n",
       "      <td>152</td>\n",
       "      <td>-1.555227</td>\n",
       "      <td>1.703838</td>\n",
       "      <td>-1.682477</td>\n",
       "      <td>1.143936</td>\n",
       "      <td>-1.363388</td>\n",
       "      <td>0.921123</td>\n",
       "      <td>1.209163</td>\n",
       "      <td>0.331891</td>\n",
       "      <td>-0.998299</td>\n",
       "      <td>1.015320</td>\n",
       "      <td>-1.242066</td>\n",
       "      <td>1.766697</td>\n",
       "      <td>-2.308836</td>\n",
       "      <td>0.442604</td>\n",
       "      <td>-2.749990</td>\n",
       "      <td>0.825489</td>\n",
       "      <td>0.596908</td>\n",
       "      <td>-1.176754</td>\n",
       "      <td>0.788825</td>\n",
       "      <td>0.962762</td>\n",
       "      <td>-1.042709</td>\n",
       "      <td>2.203321</td>\n",
       "      <td>1.695730</td>\n",
       "      <td>0.675732</td>\n",
       "      <td>2.172944</td>\n",
       "      <td>-1.027670</td>\n",
       "      <td>-1.245881</td>\n",
       "      <td>-0.080473</td>\n",
       "      <td>0.086483</td>\n",
       "      <td>0.430647</td>\n",
       "      <td>-1.400723</td>\n",
       "      <td>0.373409</td>\n",
       "      <td>-0.274544</td>\n",
       "      <td>0.677400</td>\n",
       "      <td>0.289406</td>\n",
       "      <td>-0.300185</td>\n",
       "      <td>0.725815</td>\n",
       "      <td>-0.903123</td>\n",
       "      <td>0.062829</td>\n",
       "      <td>-0.462003</td>\n",
       "      <td>-1.259109</td>\n",
       "      <td>2.258573</td>\n",
       "      <td>-1.285355</td>\n",
       "      <td>0.658545</td>\n",
       "      <td>0.672804</td>\n",
       "      <td>0.299276</td>\n",
       "      <td>-0.514287</td>\n",
       "      <td>-0.872554</td>\n",
       "      <td>2.333222</td>\n",
       "      <td>-0.890981</td>\n",
       "      <td>-1.186845</td>\n",
       "      <td>1.406470</td>\n",
       "      <td>2.004209</td>\n",
       "      <td>-0.169116</td>\n",
       "      <td>0.444842</td>\n",
       "      <td>-3.829849</td>\n",
       "      <td>-1.207255</td>\n",
       "      <td>0.239036</td>\n",
       "      <td>-1.438659</td>\n",
       "      <td>1.806309</td>\n",
       "      <td>-0.535842</td>\n",
       "      <td>-0.715147</td>\n",
       "      <td>-0.243989</td>\n",
       "      <td>-0.578661</td>\n",
       "      <td>2</td>\n",
       "      <td>1</td>\n",
       "      <td>2</td>\n",
       "      <td>1</td>\n",
       "      <td>0</td>\n",
       "      <td>0.987894</td>\n",
       "      <td>NaN</td>\n",
       "      <td>NaN</td>\n",
       "      <td>1</td>\n",
       "      <td>98.0</td>\n",
       "      <td>54</td>\n",
       "      <td>1.598273</td>\n",
       "      <td>NaN</td>\n",
       "      <td>1</td>\n",
       "      <td>0</td>\n",
       "      <td>1</td>\n",
       "      <td>1</td>\n",
       "      <td>-1</td>\n",
       "      <td>1</td>\n",
       "      <td>1</td>\n",
       "      <td>1</td>\n",
       "      <td>-1</td>\n",
       "      <td>1</td>\n",
       "      <td>1</td>\n",
       "      <td>1</td>\n",
       "      <td>1.563576</td>\n",
       "      <td>6.140022</td>\n",
       "      <td>0.000000e+00</td>\n",
       "      <td>3.110000e+02</td>\n",
       "      <td>-1.316440</td>\n",
       "      <td>69.083997</td>\n",
       "    </tr>\n",
       "    <tr>\n",
       "      <th>2</th>\n",
       "      <td>714</td>\n",
       "      <td>-1.350453</td>\n",
       "      <td>1.907620</td>\n",
       "      <td>-1.563653</td>\n",
       "      <td>1.271580</td>\n",
       "      <td>-0.902961</td>\n",
       "      <td>0.582773</td>\n",
       "      <td>1.127565</td>\n",
       "      <td>0.447938</td>\n",
       "      <td>-1.022802</td>\n",
       "      <td>0.711931</td>\n",
       "      <td>-1.636709</td>\n",
       "      <td>1.885665</td>\n",
       "      <td>-2.092236</td>\n",
       "      <td>0.163758</td>\n",
       "      <td>-2.515830</td>\n",
       "      <td>0.828522</td>\n",
       "      <td>0.918868</td>\n",
       "      <td>-1.392947</td>\n",
       "      <td>1.453549</td>\n",
       "      <td>1.095837</td>\n",
       "      <td>-0.908404</td>\n",
       "      <td>2.470779</td>\n",
       "      <td>1.678719</td>\n",
       "      <td>-0.205788</td>\n",
       "      <td>2.162640</td>\n",
       "      <td>-1.063902</td>\n",
       "      <td>-1.219050</td>\n",
       "      <td>0.076042</td>\n",
       "      <td>0.341267</td>\n",
       "      <td>0.533246</td>\n",
       "      <td>-1.241235</td>\n",
       "      <td>0.506563</td>\n",
       "      <td>-0.416503</td>\n",
       "      <td>0.272600</td>\n",
       "      <td>0.325620</td>\n",
       "      <td>-0.808660</td>\n",
       "      <td>0.350219</td>\n",
       "      <td>-0.941883</td>\n",
       "      <td>-0.332984</td>\n",
       "      <td>-0.770360</td>\n",
       "      <td>-1.138200</td>\n",
       "      <td>2.354686</td>\n",
       "      <td>-1.409007</td>\n",
       "      <td>0.793536</td>\n",
       "      <td>0.674541</td>\n",
       "      <td>0.447000</td>\n",
       "      <td>-0.143163</td>\n",
       "      <td>-1.145194</td>\n",
       "      <td>1.947757</td>\n",
       "      <td>-0.832913</td>\n",
       "      <td>-1.443164</td>\n",
       "      <td>1.409840</td>\n",
       "      <td>2.089422</td>\n",
       "      <td>-0.462843</td>\n",
       "      <td>0.211531</td>\n",
       "      <td>-3.950086</td>\n",
       "      <td>-1.224400</td>\n",
       "      <td>0.911566</td>\n",
       "      <td>-1.581317</td>\n",
       "      <td>1.515879</td>\n",
       "      <td>-0.571897</td>\n",
       "      <td>-0.961354</td>\n",
       "      <td>-0.128131</td>\n",
       "      <td>-0.358940</td>\n",
       "      <td>2</td>\n",
       "      <td>2</td>\n",
       "      <td>2</td>\n",
       "      <td>1</td>\n",
       "      <td>1</td>\n",
       "      <td>0.991317</td>\n",
       "      <td>NaN</td>\n",
       "      <td>1.000000</td>\n",
       "      <td>2</td>\n",
       "      <td>235.0</td>\n",
       "      <td>109</td>\n",
       "      <td>1.368001</td>\n",
       "      <td>NaN</td>\n",
       "      <td>0</td>\n",
       "      <td>1</td>\n",
       "      <td>0</td>\n",
       "      <td>1</td>\n",
       "      <td>-1</td>\n",
       "      <td>1</td>\n",
       "      <td>1</td>\n",
       "      <td>1</td>\n",
       "      <td>1</td>\n",
       "      <td>1</td>\n",
       "      <td>1</td>\n",
       "      <td>1</td>\n",
       "      <td>1.340159</td>\n",
       "      <td>6.687705</td>\n",
       "      <td>2.926258e+08</td>\n",
       "      <td>2.926268e+08</td>\n",
       "      <td>-2.267905</td>\n",
       "      <td>71.473937</td>\n",
       "    </tr>\n",
       "    <tr>\n",
       "      <th>3</th>\n",
       "      <td>5</td>\n",
       "      <td>-1.757556</td>\n",
       "      <td>2.429529</td>\n",
       "      <td>-1.438695</td>\n",
       "      <td>0.913385</td>\n",
       "      <td>0.016773</td>\n",
       "      <td>0.629686</td>\n",
       "      <td>1.096519</td>\n",
       "      <td>0.901125</td>\n",
       "      <td>-0.639822</td>\n",
       "      <td>0.610012</td>\n",
       "      <td>-2.448452</td>\n",
       "      <td>2.254705</td>\n",
       "      <td>-1.977030</td>\n",
       "      <td>0.244674</td>\n",
       "      <td>-2.132576</td>\n",
       "      <td>0.832347</td>\n",
       "      <td>0.174011</td>\n",
       "      <td>-1.245904</td>\n",
       "      <td>0.680392</td>\n",
       "      <td>1.120218</td>\n",
       "      <td>-0.973336</td>\n",
       "      <td>1.885519</td>\n",
       "      <td>1.641319</td>\n",
       "      <td>-0.427695</td>\n",
       "      <td>2.185217</td>\n",
       "      <td>-0.738151</td>\n",
       "      <td>-1.244538</td>\n",
       "      <td>-0.098398</td>\n",
       "      <td>0.586035</td>\n",
       "      <td>0.734197</td>\n",
       "      <td>-1.173107</td>\n",
       "      <td>0.733088</td>\n",
       "      <td>0.058661</td>\n",
       "      <td>0.360945</td>\n",
       "      <td>0.124782</td>\n",
       "      <td>-0.381303</td>\n",
       "      <td>0.442166</td>\n",
       "      <td>-1.142064</td>\n",
       "      <td>-0.315166</td>\n",
       "      <td>-0.944775</td>\n",
       "      <td>-0.986942</td>\n",
       "      <td>2.199443</td>\n",
       "      <td>-1.143928</td>\n",
       "      <td>1.136280</td>\n",
       "      <td>0.724500</td>\n",
       "      <td>0.491751</td>\n",
       "      <td>0.133391</td>\n",
       "      <td>-1.089635</td>\n",
       "      <td>1.786158</td>\n",
       "      <td>-1.264123</td>\n",
       "      <td>-1.255365</td>\n",
       "      <td>1.565839</td>\n",
       "      <td>1.854973</td>\n",
       "      <td>-0.334534</td>\n",
       "      <td>-0.233716</td>\n",
       "      <td>-3.841123</td>\n",
       "      <td>-1.307208</td>\n",
       "      <td>1.019935</td>\n",
       "      <td>-1.614235</td>\n",
       "      <td>0.013505</td>\n",
       "      <td>-0.506440</td>\n",
       "      <td>-1.273173</td>\n",
       "      <td>0.367237</td>\n",
       "      <td>-0.853831</td>\n",
       "      <td>1</td>\n",
       "      <td>0</td>\n",
       "      <td>1</td>\n",
       "      <td>0</td>\n",
       "      <td>0</td>\n",
       "      <td>0.980202</td>\n",
       "      <td>NaN</td>\n",
       "      <td>NaN</td>\n",
       "      <td>1</td>\n",
       "      <td>92.0</td>\n",
       "      <td>19</td>\n",
       "      <td>2.023099</td>\n",
       "      <td>NaN</td>\n",
       "      <td>1</td>\n",
       "      <td>0</td>\n",
       "      <td>1</td>\n",
       "      <td>1</td>\n",
       "      <td>-1</td>\n",
       "      <td>1</td>\n",
       "      <td>1</td>\n",
       "      <td>1</td>\n",
       "      <td>-1</td>\n",
       "      <td>1</td>\n",
       "      <td>1</td>\n",
       "      <td>1</td>\n",
       "      <td>2.001465</td>\n",
       "      <td>6.014054</td>\n",
       "      <td>0.000000e+00</td>\n",
       "      <td>1.190000e+02</td>\n",
       "      <td>-2.834504</td>\n",
       "      <td>69.565638</td>\n",
       "    </tr>\n",
       "    <tr>\n",
       "      <th>4</th>\n",
       "      <td>720</td>\n",
       "      <td>-1.466042</td>\n",
       "      <td>1.946119</td>\n",
       "      <td>-1.857461</td>\n",
       "      <td>1.244526</td>\n",
       "      <td>-0.474639</td>\n",
       "      <td>0.481864</td>\n",
       "      <td>0.748999</td>\n",
       "      <td>0.766505</td>\n",
       "      <td>-1.170275</td>\n",
       "      <td>1.053901</td>\n",
       "      <td>-2.406875</td>\n",
       "      <td>1.865145</td>\n",
       "      <td>-2.132282</td>\n",
       "      <td>0.132549</td>\n",
       "      <td>-2.095424</td>\n",
       "      <td>0.823610</td>\n",
       "      <td>0.908864</td>\n",
       "      <td>-1.140471</td>\n",
       "      <td>0.430122</td>\n",
       "      <td>0.934647</td>\n",
       "      <td>-0.396494</td>\n",
       "      <td>2.205085</td>\n",
       "      <td>1.668042</td>\n",
       "      <td>0.144544</td>\n",
       "      <td>2.361988</td>\n",
       "      <td>-0.362801</td>\n",
       "      <td>-1.313798</td>\n",
       "      <td>0.404679</td>\n",
       "      <td>0.235088</td>\n",
       "      <td>0.616834</td>\n",
       "      <td>-0.828936</td>\n",
       "      <td>0.378164</td>\n",
       "      <td>-0.336752</td>\n",
       "      <td>0.584411</td>\n",
       "      <td>0.452267</td>\n",
       "      <td>-1.241397</td>\n",
       "      <td>0.634588</td>\n",
       "      <td>-0.308690</td>\n",
       "      <td>-1.749513</td>\n",
       "      <td>-1.347281</td>\n",
       "      <td>-1.498992</td>\n",
       "      <td>2.554470</td>\n",
       "      <td>-1.729132</td>\n",
       "      <td>0.219448</td>\n",
       "      <td>0.720003</td>\n",
       "      <td>0.490613</td>\n",
       "      <td>-0.182634</td>\n",
       "      <td>-1.169730</td>\n",
       "      <td>2.089776</td>\n",
       "      <td>-1.145541</td>\n",
       "      <td>-1.319507</td>\n",
       "      <td>1.340428</td>\n",
       "      <td>1.870855</td>\n",
       "      <td>0.247038</td>\n",
       "      <td>-0.208615</td>\n",
       "      <td>-3.300329</td>\n",
       "      <td>-1.367483</td>\n",
       "      <td>1.279646</td>\n",
       "      <td>-1.302996</td>\n",
       "      <td>0.729964</td>\n",
       "      <td>-0.599000</td>\n",
       "      <td>-1.093234</td>\n",
       "      <td>1.006251</td>\n",
       "      <td>-0.377778</td>\n",
       "      <td>2</td>\n",
       "      <td>2</td>\n",
       "      <td>2</td>\n",
       "      <td>1</td>\n",
       "      <td>1</td>\n",
       "      <td>0.991001</td>\n",
       "      <td>NaN</td>\n",
       "      <td>1.000000</td>\n",
       "      <td>2</td>\n",
       "      <td>221.0</td>\n",
       "      <td>125</td>\n",
       "      <td>1.388213</td>\n",
       "      <td>NaN</td>\n",
       "      <td>0</td>\n",
       "      <td>1</td>\n",
       "      <td>0</td>\n",
       "      <td>1</td>\n",
       "      <td>-1</td>\n",
       "      <td>1</td>\n",
       "      <td>1</td>\n",
       "      <td>1</td>\n",
       "      <td>1</td>\n",
       "      <td>1</td>\n",
       "      <td>1</td>\n",
       "      <td>1</td>\n",
       "      <td>1.379700</td>\n",
       "      <td>6.761806</td>\n",
       "      <td>3.182400e+08</td>\n",
       "      <td>3.182411e+08</td>\n",
       "      <td>-2.353054</td>\n",
       "      <td>71.848204</td>\n",
       "    </tr>\n",
       "    <tr>\n",
       "      <th>...</th>\n",
       "      <td>...</td>\n",
       "      <td>...</td>\n",
       "      <td>...</td>\n",
       "      <td>...</td>\n",
       "      <td>...</td>\n",
       "      <td>...</td>\n",
       "      <td>...</td>\n",
       "      <td>...</td>\n",
       "      <td>...</td>\n",
       "      <td>...</td>\n",
       "      <td>...</td>\n",
       "      <td>...</td>\n",
       "      <td>...</td>\n",
       "      <td>...</td>\n",
       "      <td>...</td>\n",
       "      <td>...</td>\n",
       "      <td>...</td>\n",
       "      <td>...</td>\n",
       "      <td>...</td>\n",
       "      <td>...</td>\n",
       "      <td>...</td>\n",
       "      <td>...</td>\n",
       "      <td>...</td>\n",
       "      <td>...</td>\n",
       "      <td>...</td>\n",
       "      <td>...</td>\n",
       "      <td>...</td>\n",
       "      <td>...</td>\n",
       "      <td>...</td>\n",
       "      <td>...</td>\n",
       "      <td>...</td>\n",
       "      <td>...</td>\n",
       "      <td>...</td>\n",
       "      <td>...</td>\n",
       "      <td>...</td>\n",
       "      <td>...</td>\n",
       "      <td>...</td>\n",
       "      <td>...</td>\n",
       "      <td>...</td>\n",
       "      <td>...</td>\n",
       "      <td>...</td>\n",
       "      <td>...</td>\n",
       "      <td>...</td>\n",
       "      <td>...</td>\n",
       "      <td>...</td>\n",
       "      <td>...</td>\n",
       "      <td>...</td>\n",
       "      <td>...</td>\n",
       "      <td>...</td>\n",
       "      <td>...</td>\n",
       "      <td>...</td>\n",
       "      <td>...</td>\n",
       "      <td>...</td>\n",
       "      <td>...</td>\n",
       "      <td>...</td>\n",
       "      <td>...</td>\n",
       "      <td>...</td>\n",
       "      <td>...</td>\n",
       "      <td>...</td>\n",
       "      <td>...</td>\n",
       "      <td>...</td>\n",
       "      <td>...</td>\n",
       "      <td>...</td>\n",
       "      <td>...</td>\n",
       "      <td>...</td>\n",
       "      <td>...</td>\n",
       "      <td>...</td>\n",
       "      <td>...</td>\n",
       "      <td>...</td>\n",
       "      <td>...</td>\n",
       "      <td>...</td>\n",
       "      <td>...</td>\n",
       "      <td>...</td>\n",
       "      <td>...</td>\n",
       "      <td>...</td>\n",
       "      <td>...</td>\n",
       "      <td>...</td>\n",
       "      <td>...</td>\n",
       "      <td>...</td>\n",
       "      <td>...</td>\n",
       "      <td>...</td>\n",
       "      <td>...</td>\n",
       "      <td>...</td>\n",
       "      <td>...</td>\n",
       "      <td>...</td>\n",
       "      <td>...</td>\n",
       "      <td>...</td>\n",
       "      <td>...</td>\n",
       "      <td>...</td>\n",
       "      <td>...</td>\n",
       "      <td>...</td>\n",
       "      <td>...</td>\n",
       "      <td>...</td>\n",
       "      <td>...</td>\n",
       "      <td>...</td>\n",
       "      <td>...</td>\n",
       "    </tr>\n",
       "    <tr>\n",
       "      <th>26819</th>\n",
       "      <td>985</td>\n",
       "      <td>-0.475784</td>\n",
       "      <td>1.830841</td>\n",
       "      <td>-0.879027</td>\n",
       "      <td>0.850800</td>\n",
       "      <td>-0.713023</td>\n",
       "      <td>-0.083066</td>\n",
       "      <td>0.878643</td>\n",
       "      <td>0.727859</td>\n",
       "      <td>-1.454331</td>\n",
       "      <td>1.801801</td>\n",
       "      <td>-2.265450</td>\n",
       "      <td>1.972061</td>\n",
       "      <td>-2.321844</td>\n",
       "      <td>0.271870</td>\n",
       "      <td>-2.201464</td>\n",
       "      <td>0.816438</td>\n",
       "      <td>1.026976</td>\n",
       "      <td>-1.647578</td>\n",
       "      <td>-0.378504</td>\n",
       "      <td>0.773827</td>\n",
       "      <td>-0.907240</td>\n",
       "      <td>2.163497</td>\n",
       "      <td>1.720605</td>\n",
       "      <td>0.464070</td>\n",
       "      <td>2.018634</td>\n",
       "      <td>-0.454364</td>\n",
       "      <td>-1.308481</td>\n",
       "      <td>-0.830552</td>\n",
       "      <td>-0.053295</td>\n",
       "      <td>1.186175</td>\n",
       "      <td>-0.992947</td>\n",
       "      <td>0.952284</td>\n",
       "      <td>-0.600211</td>\n",
       "      <td>0.410758</td>\n",
       "      <td>0.892913</td>\n",
       "      <td>-0.883840</td>\n",
       "      <td>0.719288</td>\n",
       "      <td>-0.469239</td>\n",
       "      <td>-0.884309</td>\n",
       "      <td>-0.772918</td>\n",
       "      <td>-0.763903</td>\n",
       "      <td>2.352937</td>\n",
       "      <td>-1.407007</td>\n",
       "      <td>0.967474</td>\n",
       "      <td>0.286299</td>\n",
       "      <td>-0.540587</td>\n",
       "      <td>-0.922400</td>\n",
       "      <td>-0.588991</td>\n",
       "      <td>2.249290</td>\n",
       "      <td>-1.330648</td>\n",
       "      <td>-0.859058</td>\n",
       "      <td>1.220429</td>\n",
       "      <td>1.789766</td>\n",
       "      <td>0.482107</td>\n",
       "      <td>0.207507</td>\n",
       "      <td>-3.241980</td>\n",
       "      <td>-1.102653</td>\n",
       "      <td>0.500736</td>\n",
       "      <td>-1.648077</td>\n",
       "      <td>1.017540</td>\n",
       "      <td>-0.270365</td>\n",
       "      <td>-0.526736</td>\n",
       "      <td>0.288972</td>\n",
       "      <td>-0.806001</td>\n",
       "      <td>5</td>\n",
       "      <td>0</td>\n",
       "      <td>5</td>\n",
       "      <td>1</td>\n",
       "      <td>1</td>\n",
       "      <td>NaN</td>\n",
       "      <td>NaN</td>\n",
       "      <td>NaN</td>\n",
       "      <td>1</td>\n",
       "      <td>NaN</td>\n",
       "      <td>150</td>\n",
       "      <td>NaN</td>\n",
       "      <td>NaN</td>\n",
       "      <td>1</td>\n",
       "      <td>0</td>\n",
       "      <td>1</td>\n",
       "      <td>1</td>\n",
       "      <td>-1</td>\n",
       "      <td>-1</td>\n",
       "      <td>-1</td>\n",
       "      <td>1</td>\n",
       "      <td>-1</td>\n",
       "      <td>-1</td>\n",
       "      <td>1</td>\n",
       "      <td>1</td>\n",
       "      <td>1.000116</td>\n",
       "      <td>3.000232</td>\n",
       "      <td>0.000000e+00</td>\n",
       "      <td>1.148000e+03</td>\n",
       "      <td>-1.743470</td>\n",
       "      <td>69.171744</td>\n",
       "    </tr>\n",
       "    <tr>\n",
       "      <th>26820</th>\n",
       "      <td>989</td>\n",
       "      <td>-1.165567</td>\n",
       "      <td>2.230850</td>\n",
       "      <td>-1.497002</td>\n",
       "      <td>1.218585</td>\n",
       "      <td>-0.691802</td>\n",
       "      <td>0.125346</td>\n",
       "      <td>0.572959</td>\n",
       "      <td>1.213382</td>\n",
       "      <td>-0.604063</td>\n",
       "      <td>0.361158</td>\n",
       "      <td>-1.731190</td>\n",
       "      <td>1.835445</td>\n",
       "      <td>-2.056660</td>\n",
       "      <td>-0.005960</td>\n",
       "      <td>-2.128224</td>\n",
       "      <td>0.832362</td>\n",
       "      <td>1.127476</td>\n",
       "      <td>-1.159241</td>\n",
       "      <td>0.938373</td>\n",
       "      <td>1.436267</td>\n",
       "      <td>-1.162037</td>\n",
       "      <td>2.238251</td>\n",
       "      <td>1.664457</td>\n",
       "      <td>-0.197440</td>\n",
       "      <td>2.224229</td>\n",
       "      <td>-0.548067</td>\n",
       "      <td>-1.548783</td>\n",
       "      <td>-0.157849</td>\n",
       "      <td>0.382997</td>\n",
       "      <td>0.530322</td>\n",
       "      <td>-1.169754</td>\n",
       "      <td>0.716340</td>\n",
       "      <td>-0.453489</td>\n",
       "      <td>0.432069</td>\n",
       "      <td>0.596814</td>\n",
       "      <td>-0.745904</td>\n",
       "      <td>0.237445</td>\n",
       "      <td>-0.849671</td>\n",
       "      <td>-0.891884</td>\n",
       "      <td>-1.052130</td>\n",
       "      <td>-1.142082</td>\n",
       "      <td>2.115485</td>\n",
       "      <td>-1.391614</td>\n",
       "      <td>0.977685</td>\n",
       "      <td>0.707899</td>\n",
       "      <td>0.627791</td>\n",
       "      <td>0.760960</td>\n",
       "      <td>-0.846225</td>\n",
       "      <td>1.974953</td>\n",
       "      <td>-1.329173</td>\n",
       "      <td>-1.165751</td>\n",
       "      <td>1.540455</td>\n",
       "      <td>1.681790</td>\n",
       "      <td>-0.649249</td>\n",
       "      <td>0.049052</td>\n",
       "      <td>-3.886783</td>\n",
       "      <td>-1.422432</td>\n",
       "      <td>1.051218</td>\n",
       "      <td>-1.580017</td>\n",
       "      <td>1.092035</td>\n",
       "      <td>-0.269929</td>\n",
       "      <td>-1.225720</td>\n",
       "      <td>0.264197</td>\n",
       "      <td>-0.985299</td>\n",
       "      <td>1</td>\n",
       "      <td>0</td>\n",
       "      <td>1</td>\n",
       "      <td>0</td>\n",
       "      <td>1</td>\n",
       "      <td>NaN</td>\n",
       "      <td>NaN</td>\n",
       "      <td>1.000000</td>\n",
       "      <td>1</td>\n",
       "      <td>NaN</td>\n",
       "      <td>5</td>\n",
       "      <td>NaN</td>\n",
       "      <td>NaN</td>\n",
       "      <td>0</td>\n",
       "      <td>1</td>\n",
       "      <td>0</td>\n",
       "      <td>1</td>\n",
       "      <td>-1</td>\n",
       "      <td>1</td>\n",
       "      <td>-1</td>\n",
       "      <td>1</td>\n",
       "      <td>1</td>\n",
       "      <td>-1</td>\n",
       "      <td>1</td>\n",
       "      <td>1</td>\n",
       "      <td>1.004168</td>\n",
       "      <td>3.008336</td>\n",
       "      <td>0.000000e+00</td>\n",
       "      <td>9.980000e+02</td>\n",
       "      <td>-1.952343</td>\n",
       "      <td>71.421985</td>\n",
       "    </tr>\n",
       "    <tr>\n",
       "      <th>26821</th>\n",
       "      <td>994</td>\n",
       "      <td>-1.172932</td>\n",
       "      <td>2.385078</td>\n",
       "      <td>-1.313173</td>\n",
       "      <td>1.037791</td>\n",
       "      <td>-0.495026</td>\n",
       "      <td>0.348923</td>\n",
       "      <td>1.104281</td>\n",
       "      <td>1.090837</td>\n",
       "      <td>-0.924085</td>\n",
       "      <td>1.152694</td>\n",
       "      <td>-2.035157</td>\n",
       "      <td>2.011964</td>\n",
       "      <td>-2.325713</td>\n",
       "      <td>0.437443</td>\n",
       "      <td>-2.382571</td>\n",
       "      <td>0.830695</td>\n",
       "      <td>0.574549</td>\n",
       "      <td>-1.410901</td>\n",
       "      <td>0.704967</td>\n",
       "      <td>1.013827</td>\n",
       "      <td>-1.010020</td>\n",
       "      <td>2.127665</td>\n",
       "      <td>1.639870</td>\n",
       "      <td>-0.329386</td>\n",
       "      <td>2.254381</td>\n",
       "      <td>-0.769611</td>\n",
       "      <td>-1.217848</td>\n",
       "      <td>-0.350069</td>\n",
       "      <td>0.476024</td>\n",
       "      <td>0.651902</td>\n",
       "      <td>-1.208744</td>\n",
       "      <td>0.811639</td>\n",
       "      <td>-0.091287</td>\n",
       "      <td>0.106043</td>\n",
       "      <td>0.246544</td>\n",
       "      <td>-0.277682</td>\n",
       "      <td>0.429423</td>\n",
       "      <td>-0.891567</td>\n",
       "      <td>-0.450715</td>\n",
       "      <td>-0.821837</td>\n",
       "      <td>-0.981144</td>\n",
       "      <td>2.326179</td>\n",
       "      <td>-1.431879</td>\n",
       "      <td>1.124057</td>\n",
       "      <td>0.769643</td>\n",
       "      <td>-0.027138</td>\n",
       "      <td>0.088808</td>\n",
       "      <td>-0.905940</td>\n",
       "      <td>1.832196</td>\n",
       "      <td>-1.295246</td>\n",
       "      <td>-0.922588</td>\n",
       "      <td>1.453060</td>\n",
       "      <td>1.615648</td>\n",
       "      <td>-0.349129</td>\n",
       "      <td>-0.000649</td>\n",
       "      <td>-3.815089</td>\n",
       "      <td>-1.247152</td>\n",
       "      <td>0.979456</td>\n",
       "      <td>-1.654983</td>\n",
       "      <td>0.639199</td>\n",
       "      <td>-0.687882</td>\n",
       "      <td>-1.142795</td>\n",
       "      <td>0.139037</td>\n",
       "      <td>-0.809874</td>\n",
       "      <td>2</td>\n",
       "      <td>0</td>\n",
       "      <td>2</td>\n",
       "      <td>0</td>\n",
       "      <td>1</td>\n",
       "      <td>NaN</td>\n",
       "      <td>NaN</td>\n",
       "      <td>0.000000</td>\n",
       "      <td>2</td>\n",
       "      <td>NaN</td>\n",
       "      <td>24</td>\n",
       "      <td>NaN</td>\n",
       "      <td>NaN</td>\n",
       "      <td>1</td>\n",
       "      <td>0</td>\n",
       "      <td>0</td>\n",
       "      <td>1</td>\n",
       "      <td>-1</td>\n",
       "      <td>1</td>\n",
       "      <td>-1</td>\n",
       "      <td>1</td>\n",
       "      <td>1</td>\n",
       "      <td>-1</td>\n",
       "      <td>1</td>\n",
       "      <td>1</td>\n",
       "      <td>0.000000</td>\n",
       "      <td>1.000012</td>\n",
       "      <td>0.000000e+00</td>\n",
       "      <td>1.025000e+03</td>\n",
       "      <td>-2.345992</td>\n",
       "      <td>69.499626</td>\n",
       "    </tr>\n",
       "    <tr>\n",
       "      <th>26822</th>\n",
       "      <td>992</td>\n",
       "      <td>-0.663178</td>\n",
       "      <td>2.037553</td>\n",
       "      <td>-0.905565</td>\n",
       "      <td>0.935210</td>\n",
       "      <td>-0.898176</td>\n",
       "      <td>0.358711</td>\n",
       "      <td>1.022628</td>\n",
       "      <td>0.906732</td>\n",
       "      <td>-1.500656</td>\n",
       "      <td>1.694854</td>\n",
       "      <td>-2.193171</td>\n",
       "      <td>1.723135</td>\n",
       "      <td>-2.584137</td>\n",
       "      <td>0.170676</td>\n",
       "      <td>-2.471713</td>\n",
       "      <td>0.811194</td>\n",
       "      <td>0.849663</td>\n",
       "      <td>-2.011137</td>\n",
       "      <td>-0.127294</td>\n",
       "      <td>0.840836</td>\n",
       "      <td>-0.957491</td>\n",
       "      <td>2.016940</td>\n",
       "      <td>1.667526</td>\n",
       "      <td>0.293245</td>\n",
       "      <td>2.193226</td>\n",
       "      <td>-0.399465</td>\n",
       "      <td>-1.250725</td>\n",
       "      <td>-0.970975</td>\n",
       "      <td>-0.027043</td>\n",
       "      <td>1.045028</td>\n",
       "      <td>-1.129051</td>\n",
       "      <td>1.045295</td>\n",
       "      <td>-0.235776</td>\n",
       "      <td>0.549566</td>\n",
       "      <td>0.808034</td>\n",
       "      <td>-0.799154</td>\n",
       "      <td>0.594528</td>\n",
       "      <td>-0.320016</td>\n",
       "      <td>-0.675621</td>\n",
       "      <td>-0.376227</td>\n",
       "      <td>-0.916087</td>\n",
       "      <td>2.543131</td>\n",
       "      <td>-1.382732</td>\n",
       "      <td>0.900615</td>\n",
       "      <td>0.403192</td>\n",
       "      <td>-0.477630</td>\n",
       "      <td>-0.777710</td>\n",
       "      <td>-0.655932</td>\n",
       "      <td>1.950480</td>\n",
       "      <td>-1.141201</td>\n",
       "      <td>-0.963125</td>\n",
       "      <td>1.196067</td>\n",
       "      <td>1.778155</td>\n",
       "      <td>0.274689</td>\n",
       "      <td>0.451319</td>\n",
       "      <td>-3.041244</td>\n",
       "      <td>-1.147770</td>\n",
       "      <td>0.503153</td>\n",
       "      <td>-1.834015</td>\n",
       "      <td>1.060401</td>\n",
       "      <td>-0.498772</td>\n",
       "      <td>-0.403364</td>\n",
       "      <td>0.258505</td>\n",
       "      <td>-0.591585</td>\n",
       "      <td>9</td>\n",
       "      <td>0</td>\n",
       "      <td>9</td>\n",
       "      <td>3</td>\n",
       "      <td>1</td>\n",
       "      <td>NaN</td>\n",
       "      <td>NaN</td>\n",
       "      <td>NaN</td>\n",
       "      <td>4</td>\n",
       "      <td>NaN</td>\n",
       "      <td>451</td>\n",
       "      <td>NaN</td>\n",
       "      <td>NaN</td>\n",
       "      <td>1</td>\n",
       "      <td>0</td>\n",
       "      <td>1</td>\n",
       "      <td>1</td>\n",
       "      <td>-1</td>\n",
       "      <td>-1</td>\n",
       "      <td>-1</td>\n",
       "      <td>1</td>\n",
       "      <td>-1</td>\n",
       "      <td>-1</td>\n",
       "      <td>-1</td>\n",
       "      <td>1</td>\n",
       "      <td>0.000000</td>\n",
       "      <td>1.008410</td>\n",
       "      <td>0.000000e+00</td>\n",
       "      <td>1.469000e+03</td>\n",
       "      <td>-1.443456</td>\n",
       "      <td>68.655481</td>\n",
       "    </tr>\n",
       "    <tr>\n",
       "      <th>26823</th>\n",
       "      <td>992</td>\n",
       "      <td>-0.379513</td>\n",
       "      <td>2.071651</td>\n",
       "      <td>-0.851811</td>\n",
       "      <td>0.930243</td>\n",
       "      <td>-0.602686</td>\n",
       "      <td>-0.114733</td>\n",
       "      <td>0.966839</td>\n",
       "      <td>0.769800</td>\n",
       "      <td>-1.444667</td>\n",
       "      <td>1.644087</td>\n",
       "      <td>-2.316483</td>\n",
       "      <td>1.805867</td>\n",
       "      <td>-2.358039</td>\n",
       "      <td>0.395414</td>\n",
       "      <td>-2.433565</td>\n",
       "      <td>0.821272</td>\n",
       "      <td>0.993952</td>\n",
       "      <td>-1.802486</td>\n",
       "      <td>-0.220010</td>\n",
       "      <td>0.807535</td>\n",
       "      <td>-0.974166</td>\n",
       "      <td>2.086426</td>\n",
       "      <td>1.694374</td>\n",
       "      <td>0.400762</td>\n",
       "      <td>2.087359</td>\n",
       "      <td>-0.561007</td>\n",
       "      <td>-1.227658</td>\n",
       "      <td>-0.732418</td>\n",
       "      <td>0.026060</td>\n",
       "      <td>1.007986</td>\n",
       "      <td>-1.051640</td>\n",
       "      <td>1.152546</td>\n",
       "      <td>-0.513077</td>\n",
       "      <td>0.329780</td>\n",
       "      <td>0.984461</td>\n",
       "      <td>-0.838823</td>\n",
       "      <td>0.706217</td>\n",
       "      <td>-0.432984</td>\n",
       "      <td>-0.881279</td>\n",
       "      <td>-0.743841</td>\n",
       "      <td>-0.789638</td>\n",
       "      <td>2.287558</td>\n",
       "      <td>-1.322751</td>\n",
       "      <td>1.072519</td>\n",
       "      <td>0.442237</td>\n",
       "      <td>-0.528618</td>\n",
       "      <td>-0.911879</td>\n",
       "      <td>-0.495540</td>\n",
       "      <td>2.034925</td>\n",
       "      <td>-1.282507</td>\n",
       "      <td>-0.971451</td>\n",
       "      <td>1.215291</td>\n",
       "      <td>1.634170</td>\n",
       "      <td>0.284944</td>\n",
       "      <td>0.201224</td>\n",
       "      <td>-3.326322</td>\n",
       "      <td>-1.074328</td>\n",
       "      <td>0.701924</td>\n",
       "      <td>-1.672323</td>\n",
       "      <td>0.931619</td>\n",
       "      <td>-0.349927</td>\n",
       "      <td>-0.533755</td>\n",
       "      <td>0.125765</td>\n",
       "      <td>-0.794949</td>\n",
       "      <td>10</td>\n",
       "      <td>0</td>\n",
       "      <td>10</td>\n",
       "      <td>1</td>\n",
       "      <td>1</td>\n",
       "      <td>NaN</td>\n",
       "      <td>2.0</td>\n",
       "      <td>NaN</td>\n",
       "      <td>1</td>\n",
       "      <td>NaN</td>\n",
       "      <td>120</td>\n",
       "      <td>NaN</td>\n",
       "      <td>1.0</td>\n",
       "      <td>1</td>\n",
       "      <td>0</td>\n",
       "      <td>1</td>\n",
       "      <td>0</td>\n",
       "      <td>-1</td>\n",
       "      <td>-1</td>\n",
       "      <td>-1</td>\n",
       "      <td>-1</td>\n",
       "      <td>-1</td>\n",
       "      <td>-1</td>\n",
       "      <td>1</td>\n",
       "      <td>-1</td>\n",
       "      <td>0.994474</td>\n",
       "      <td>2.988949</td>\n",
       "      <td>0.000000e+00</td>\n",
       "      <td>1.138000e+03</td>\n",
       "      <td>-1.920070</td>\n",
       "      <td>69.069751</td>\n",
       "    </tr>\n",
       "  </tbody>\n",
       "</table>\n",
       "<p>26824 rows × 96 columns</p>\n",
       "</div>"
      ],
      "text/plain": [
       "       fact_dt  emb_0000  emb_0001  emb_0002  emb_0003  emb_0004  emb_0005  \\\n",
       "0          552 -1.786346  2.074665 -1.504628  1.143300 -0.979666  0.750931   \n",
       "1          152 -1.555227  1.703838 -1.682477  1.143936 -1.363388  0.921123   \n",
       "2          714 -1.350453  1.907620 -1.563653  1.271580 -0.902961  0.582773   \n",
       "3            5 -1.757556  2.429529 -1.438695  0.913385  0.016773  0.629686   \n",
       "4          720 -1.466042  1.946119 -1.857461  1.244526 -0.474639  0.481864   \n",
       "...        ...       ...       ...       ...       ...       ...       ...   \n",
       "26819      985 -0.475784  1.830841 -0.879027  0.850800 -0.713023 -0.083066   \n",
       "26820      989 -1.165567  2.230850 -1.497002  1.218585 -0.691802  0.125346   \n",
       "26821      994 -1.172932  2.385078 -1.313173  1.037791 -0.495026  0.348923   \n",
       "26822      992 -0.663178  2.037553 -0.905565  0.935210 -0.898176  0.358711   \n",
       "26823      992 -0.379513  2.071651 -0.851811  0.930243 -0.602686 -0.114733   \n",
       "\n",
       "       emb_0006  emb_0007  emb_0008  emb_0009  emb_0010  emb_0011  emb_0012  \\\n",
       "0      1.091962  0.644968 -0.810258  1.023059 -1.576939  1.783760 -1.997192   \n",
       "1      1.209163  0.331891 -0.998299  1.015320 -1.242066  1.766697 -2.308836   \n",
       "2      1.127565  0.447938 -1.022802  0.711931 -1.636709  1.885665 -2.092236   \n",
       "3      1.096519  0.901125 -0.639822  0.610012 -2.448452  2.254705 -1.977030   \n",
       "4      0.748999  0.766505 -1.170275  1.053901 -2.406875  1.865145 -2.132282   \n",
       "...         ...       ...       ...       ...       ...       ...       ...   \n",
       "26819  0.878643  0.727859 -1.454331  1.801801 -2.265450  1.972061 -2.321844   \n",
       "26820  0.572959  1.213382 -0.604063  0.361158 -1.731190  1.835445 -2.056660   \n",
       "26821  1.104281  1.090837 -0.924085  1.152694 -2.035157  2.011964 -2.325713   \n",
       "26822  1.022628  0.906732 -1.500656  1.694854 -2.193171  1.723135 -2.584137   \n",
       "26823  0.966839  0.769800 -1.444667  1.644087 -2.316483  1.805867 -2.358039   \n",
       "\n",
       "       emb_0013  emb_0014  emb_0015  emb_0016  emb_0017  emb_0018  emb_0019  \\\n",
       "0      0.375575 -2.233522  0.824557  0.603287 -1.959785  0.645056  1.101540   \n",
       "1      0.442604 -2.749990  0.825489  0.596908 -1.176754  0.788825  0.962762   \n",
       "2      0.163758 -2.515830  0.828522  0.918868 -1.392947  1.453549  1.095837   \n",
       "3      0.244674 -2.132576  0.832347  0.174011 -1.245904  0.680392  1.120218   \n",
       "4      0.132549 -2.095424  0.823610  0.908864 -1.140471  0.430122  0.934647   \n",
       "...         ...       ...       ...       ...       ...       ...       ...   \n",
       "26819  0.271870 -2.201464  0.816438  1.026976 -1.647578 -0.378504  0.773827   \n",
       "26820 -0.005960 -2.128224  0.832362  1.127476 -1.159241  0.938373  1.436267   \n",
       "26821  0.437443 -2.382571  0.830695  0.574549 -1.410901  0.704967  1.013827   \n",
       "26822  0.170676 -2.471713  0.811194  0.849663 -2.011137 -0.127294  0.840836   \n",
       "26823  0.395414 -2.433565  0.821272  0.993952 -1.802486 -0.220010  0.807535   \n",
       "\n",
       "       emb_0020  emb_0021  emb_0022  emb_0023  emb_0024  emb_0025  emb_0026  \\\n",
       "0     -1.009328  2.402104  1.685323  0.386604  2.042387 -0.910862 -1.246986   \n",
       "1     -1.042709  2.203321  1.695730  0.675732  2.172944 -1.027670 -1.245881   \n",
       "2     -0.908404  2.470779  1.678719 -0.205788  2.162640 -1.063902 -1.219050   \n",
       "3     -0.973336  1.885519  1.641319 -0.427695  2.185217 -0.738151 -1.244538   \n",
       "4     -0.396494  2.205085  1.668042  0.144544  2.361988 -0.362801 -1.313798   \n",
       "...         ...       ...       ...       ...       ...       ...       ...   \n",
       "26819 -0.907240  2.163497  1.720605  0.464070  2.018634 -0.454364 -1.308481   \n",
       "26820 -1.162037  2.238251  1.664457 -0.197440  2.224229 -0.548067 -1.548783   \n",
       "26821 -1.010020  2.127665  1.639870 -0.329386  2.254381 -0.769611 -1.217848   \n",
       "26822 -0.957491  2.016940  1.667526  0.293245  2.193226 -0.399465 -1.250725   \n",
       "26823 -0.974166  2.086426  1.694374  0.400762  2.087359 -0.561007 -1.227658   \n",
       "\n",
       "       emb_0027  emb_0028  emb_0029  emb_0030  emb_0031  emb_0032  emb_0033  \\\n",
       "0     -0.331123  0.027410  0.443654 -1.291464  0.301381 -0.655716 -0.372735   \n",
       "1     -0.080473  0.086483  0.430647 -1.400723  0.373409 -0.274544  0.677400   \n",
       "2      0.076042  0.341267  0.533246 -1.241235  0.506563 -0.416503  0.272600   \n",
       "3     -0.098398  0.586035  0.734197 -1.173107  0.733088  0.058661  0.360945   \n",
       "4      0.404679  0.235088  0.616834 -0.828936  0.378164 -0.336752  0.584411   \n",
       "...         ...       ...       ...       ...       ...       ...       ...   \n",
       "26819 -0.830552 -0.053295  1.186175 -0.992947  0.952284 -0.600211  0.410758   \n",
       "26820 -0.157849  0.382997  0.530322 -1.169754  0.716340 -0.453489  0.432069   \n",
       "26821 -0.350069  0.476024  0.651902 -1.208744  0.811639 -0.091287  0.106043   \n",
       "26822 -0.970975 -0.027043  1.045028 -1.129051  1.045295 -0.235776  0.549566   \n",
       "26823 -0.732418  0.026060  1.007986 -1.051640  1.152546 -0.513077  0.329780   \n",
       "\n",
       "       emb_0034  emb_0035  emb_0036  emb_0037  emb_0038  emb_0039  emb_0040  \\\n",
       "0      0.160851 -0.503871  1.123703 -0.950976 -0.205005 -0.654555 -1.551749   \n",
       "1      0.289406 -0.300185  0.725815 -0.903123  0.062829 -0.462003 -1.259109   \n",
       "2      0.325620 -0.808660  0.350219 -0.941883 -0.332984 -0.770360 -1.138200   \n",
       "3      0.124782 -0.381303  0.442166 -1.142064 -0.315166 -0.944775 -0.986942   \n",
       "4      0.452267 -1.241397  0.634588 -0.308690 -1.749513 -1.347281 -1.498992   \n",
       "...         ...       ...       ...       ...       ...       ...       ...   \n",
       "26819  0.892913 -0.883840  0.719288 -0.469239 -0.884309 -0.772918 -0.763903   \n",
       "26820  0.596814 -0.745904  0.237445 -0.849671 -0.891884 -1.052130 -1.142082   \n",
       "26821  0.246544 -0.277682  0.429423 -0.891567 -0.450715 -0.821837 -0.981144   \n",
       "26822  0.808034 -0.799154  0.594528 -0.320016 -0.675621 -0.376227 -0.916087   \n",
       "26823  0.984461 -0.838823  0.706217 -0.432984 -0.881279 -0.743841 -0.789638   \n",
       "\n",
       "       emb_0041  emb_0042  emb_0043  emb_0044  emb_0045  emb_0046  emb_0047  \\\n",
       "0      1.944104 -1.391381  0.745322  0.609470  0.234558  0.099144 -1.020924   \n",
       "1      2.258573 -1.285355  0.658545  0.672804  0.299276 -0.514287 -0.872554   \n",
       "2      2.354686 -1.409007  0.793536  0.674541  0.447000 -0.143163 -1.145194   \n",
       "3      2.199443 -1.143928  1.136280  0.724500  0.491751  0.133391 -1.089635   \n",
       "4      2.554470 -1.729132  0.219448  0.720003  0.490613 -0.182634 -1.169730   \n",
       "...         ...       ...       ...       ...       ...       ...       ...   \n",
       "26819  2.352937 -1.407007  0.967474  0.286299 -0.540587 -0.922400 -0.588991   \n",
       "26820  2.115485 -1.391614  0.977685  0.707899  0.627791  0.760960 -0.846225   \n",
       "26821  2.326179 -1.431879  1.124057  0.769643 -0.027138  0.088808 -0.905940   \n",
       "26822  2.543131 -1.382732  0.900615  0.403192 -0.477630 -0.777710 -0.655932   \n",
       "26823  2.287558 -1.322751  1.072519  0.442237 -0.528618 -0.911879 -0.495540   \n",
       "\n",
       "       emb_0048  emb_0049  emb_0050  emb_0051  emb_0052  emb_0053  emb_0054  \\\n",
       "0      2.415789 -0.856164 -1.336662  1.386519  2.437416 -0.077037  0.320741   \n",
       "1      2.333222 -0.890981 -1.186845  1.406470  2.004209 -0.169116  0.444842   \n",
       "2      1.947757 -0.832913 -1.443164  1.409840  2.089422 -0.462843  0.211531   \n",
       "3      1.786158 -1.264123 -1.255365  1.565839  1.854973 -0.334534 -0.233716   \n",
       "4      2.089776 -1.145541 -1.319507  1.340428  1.870855  0.247038 -0.208615   \n",
       "...         ...       ...       ...       ...       ...       ...       ...   \n",
       "26819  2.249290 -1.330648 -0.859058  1.220429  1.789766  0.482107  0.207507   \n",
       "26820  1.974953 -1.329173 -1.165751  1.540455  1.681790 -0.649249  0.049052   \n",
       "26821  1.832196 -1.295246 -0.922588  1.453060  1.615648 -0.349129 -0.000649   \n",
       "26822  1.950480 -1.141201 -0.963125  1.196067  1.778155  0.274689  0.451319   \n",
       "26823  2.034925 -1.282507 -0.971451  1.215291  1.634170  0.284944  0.201224   \n",
       "\n",
       "       emb_0055  emb_0056  emb_0057  emb_0058  emb_0059  emb_0060  emb_0061  \\\n",
       "0     -3.254244 -1.314506  0.722575 -1.563255  1.282448 -0.733094 -0.804640   \n",
       "1     -3.829849 -1.207255  0.239036 -1.438659  1.806309 -0.535842 -0.715147   \n",
       "2     -3.950086 -1.224400  0.911566 -1.581317  1.515879 -0.571897 -0.961354   \n",
       "3     -3.841123 -1.307208  1.019935 -1.614235  0.013505 -0.506440 -1.273173   \n",
       "4     -3.300329 -1.367483  1.279646 -1.302996  0.729964 -0.599000 -1.093234   \n",
       "...         ...       ...       ...       ...       ...       ...       ...   \n",
       "26819 -3.241980 -1.102653  0.500736 -1.648077  1.017540 -0.270365 -0.526736   \n",
       "26820 -3.886783 -1.422432  1.051218 -1.580017  1.092035 -0.269929 -1.225720   \n",
       "26821 -3.815089 -1.247152  0.979456 -1.654983  0.639199 -0.687882 -1.142795   \n",
       "26822 -3.041244 -1.147770  0.503153 -1.834015  1.060401 -0.498772 -0.403364   \n",
       "26823 -3.326322 -1.074328  0.701924 -1.672323  0.931619 -0.349927 -0.533755   \n",
       "\n",
       "       emb_0062  emb_0063  entity_0001_ct  entity_0002_ct  entity_0003_ct  \\\n",
       "0      0.264208 -0.284033               2               4               2   \n",
       "1     -0.243989 -0.578661               2               1               2   \n",
       "2     -0.128131 -0.358940               2               2               2   \n",
       "3      0.367237 -0.853831               1               0               1   \n",
       "4      1.006251 -0.377778               2               2               2   \n",
       "...         ...       ...             ...             ...             ...   \n",
       "26819  0.288972 -0.806001               5               0               5   \n",
       "26820  0.264197 -0.985299               1               0               1   \n",
       "26821  0.139037 -0.809874               2               0               2   \n",
       "26822  0.258505 -0.591585               9               0               9   \n",
       "26823  0.125765 -0.794949              10               0              10   \n",
       "\n",
       "       entity_0004_ct  entity_0005_ct  entity_0006_rt  entity_0008_ct  \\\n",
       "0                   1               2        0.974990             NaN   \n",
       "1                   1               0        0.987894             NaN   \n",
       "2                   1               1        0.991317             NaN   \n",
       "3                   0               0        0.980202             NaN   \n",
       "4                   1               1        0.991001             NaN   \n",
       "...               ...             ...             ...             ...   \n",
       "26819               1               1             NaN             NaN   \n",
       "26820               0               1             NaN             NaN   \n",
       "26821               0               1             NaN             NaN   \n",
       "26822               3               1             NaN             NaN   \n",
       "26823               1               1             NaN             2.0   \n",
       "\n",
       "       entity_0010_rt  entity_0011_ct  entity_0012_ct  entity_0013_ct  \\\n",
       "0            0.997459               3           339.0             173   \n",
       "1                 NaN               1            98.0              54   \n",
       "2            1.000000               2           235.0             109   \n",
       "3                 NaN               1            92.0              19   \n",
       "4            1.000000               2           221.0             125   \n",
       "...               ...             ...             ...             ...   \n",
       "26819             NaN               1             NaN             150   \n",
       "26820        1.000000               1             NaN               5   \n",
       "26821        0.000000               2             NaN              24   \n",
       "26822             NaN               4             NaN             451   \n",
       "26823             NaN               1             NaN             120   \n",
       "\n",
       "       entity_0014_rt  entity_0015_ct  entity_0017_cd_a  entity_0017_cd_d  \\\n",
       "0            2.300125             NaN                 0                 1   \n",
       "1            1.598273             NaN                 1                 0   \n",
       "2            1.368001             NaN                 0                 1   \n",
       "3            2.023099             NaN                 1                 0   \n",
       "4            1.388213             NaN                 0                 1   \n",
       "...               ...             ...               ...               ...   \n",
       "26819             NaN             NaN                 1                 0   \n",
       "26820             NaN             NaN                 0                 1   \n",
       "26821             NaN             NaN                 1                 0   \n",
       "26822             NaN             NaN                 1                 0   \n",
       "26823             NaN             1.0                 1                 0   \n",
       "\n",
       "       entity_0010_rt_na  entity_0015_ct_na  fact_dt_outlier  \\\n",
       "0                      0                  1                1   \n",
       "1                      1                  1               -1   \n",
       "2                      0                  1               -1   \n",
       "3                      1                  1               -1   \n",
       "4                      0                  1               -1   \n",
       "...                  ...                ...              ...   \n",
       "26819                  1                  1               -1   \n",
       "26820                  0                  1               -1   \n",
       "26821                  0                  1               -1   \n",
       "26822                  1                  1               -1   \n",
       "26823                  1                  0               -1   \n",
       "\n",
       "       emb_0045_outlier  entity_0006_rt_outlier  entity_0008_ct_outlier  \\\n",
       "0                     1                       1                       1   \n",
       "1                     1                       1                       1   \n",
       "2                     1                       1                       1   \n",
       "3                     1                       1                       1   \n",
       "4                     1                       1                       1   \n",
       "...                 ...                     ...                     ...   \n",
       "26819                -1                      -1                       1   \n",
       "26820                 1                      -1                       1   \n",
       "26821                 1                      -1                       1   \n",
       "26822                -1                      -1                       1   \n",
       "26823                -1                      -1                      -1   \n",
       "\n",
       "       entity_0010_rt_outlier  entity_0012_ct_outlier  entity_0013_ct_outlier  \\\n",
       "0                          -1                       1                       1   \n",
       "1                          -1                       1                       1   \n",
       "2                           1                       1                       1   \n",
       "3                          -1                       1                       1   \n",
       "4                           1                       1                       1   \n",
       "...                       ...                     ...                     ...   \n",
       "26819                      -1                      -1                       1   \n",
       "26820                       1                      -1                       1   \n",
       "26821                       1                      -1                       1   \n",
       "26822                      -1                      -1                      -1   \n",
       "26823                      -1                      -1                       1   \n",
       "\n",
       "       entity_0015_ct_outlier    mul_rt    sum_rt        mul_ct        sum_ct  \\\n",
       "0                           1  2.228614  8.497483  3.107822e+09  3.107823e+09   \n",
       "1                           1  1.563576  6.140022  0.000000e+00  3.110000e+02   \n",
       "2                           1  1.340159  6.687705  2.926258e+08  2.926268e+08   \n",
       "3                           1  2.001465  6.014054  0.000000e+00  1.190000e+02   \n",
       "4                           1  1.379700  6.761806  3.182400e+08  3.182411e+08   \n",
       "...                       ...       ...       ...           ...           ...   \n",
       "26819                       1  1.000116  3.000232  0.000000e+00  1.148000e+03   \n",
       "26820                       1  1.004168  3.008336  0.000000e+00  9.980000e+02   \n",
       "26821                       1  0.000000  1.000012  0.000000e+00  1.025000e+03   \n",
       "26822                       1  0.000000  1.008410  0.000000e+00  1.469000e+03   \n",
       "26823                      -1  0.994474  2.988949  0.000000e+00  1.138000e+03   \n",
       "\n",
       "        sum_emb  sum_abs_emb  \n",
       "0     -2.070279    70.337293  \n",
       "1     -1.316440    69.083997  \n",
       "2     -2.267905    71.473937  \n",
       "3     -2.834504    69.565638  \n",
       "4     -2.353054    71.848204  \n",
       "...         ...          ...  \n",
       "26819 -1.743470    69.171744  \n",
       "26820 -1.952343    71.421985  \n",
       "26821 -2.345992    69.499626  \n",
       "26822 -1.443456    68.655481  \n",
       "26823 -1.920070    69.069751  \n",
       "\n",
       "[26824 rows x 96 columns]"
      ]
     },
     "execution_count": 20,
     "metadata": {},
     "output_type": "execute_result"
    }
   ],
   "source": [
    "features_test"
   ]
  },
  {
   "cell_type": "markdown",
   "id": "e95a742b",
   "metadata": {
    "pycharm": {
     "name": "#%% md\n"
    }
   },
   "source": [
    "## baseline model"
   ]
  },
  {
   "cell_type": "markdown",
   "id": "d838b86f",
   "metadata": {
    "pycharm": {
     "name": "#%% md\n"
    }
   },
   "source": [
    "### catboost"
   ]
  },
  {
   "cell_type": "code",
   "execution_count": 41,
   "id": "1731d83b",
   "metadata": {
    "ExecuteTime": {
     "end_time": "2023-01-09T16:18:21.427569Z",
     "start_time": "2023-01-09T16:18:21.416594Z"
    },
    "pycharm": {
     "name": "#%%\n"
    }
   },
   "outputs": [],
   "source": [
    "pipeline_stages = []\n",
    "\n",
    "# pipeline_stages.append((\"imputer\", ArbitraryNumberImputer(arbitrary_number=-9999)))\n",
    "\n",
    "# pipeline_stages.append((\"encoder\", CountFrequencyEncoder(encoding_method='count')))\n",
    "# pipeline_stages.append((\"encoder\", MeanEncoder()))\n",
    "\n",
    "# pipeline_stages.append((\"imputer\", SimpleImputer(strategy='median')))\n",
    "\n",
    "# pipeline_stages.append((\"scaler\", MinMaxScaler()))\n",
    "# pipeline_stages.append((\"cluster\", cluster.KMeans(n_clusters = 5)))\n",
    "# pipeline_stages.append((\"poly_features\", PolynomialFeatures(degree=2, interaction_only=True)))\n",
    "\n",
    "pipeline_stages.append((\"model\", CatBoostClassifier(verbose=0, n_estimators=1000)))\n",
    "# pipeline_stages.append((\"model\", LogisticRegression()))\n",
    "# pipeline_stages.append((\"model\", IsolationForest()))\n",
    "\n",
    "\n",
    "# Собираем все шаги в пайплайн\n",
    "pipeline = Pipeline(pipeline_stages)"
   ]
  },
  {
   "cell_type": "code",
   "execution_count": 42,
   "id": "93b110b2",
   "metadata": {
    "ExecuteTime": {
     "end_time": "2023-01-09T16:18:21.863529Z",
     "start_time": "2023-01-09T16:18:21.854531Z"
    },
    "pycharm": {
     "name": "#%%\n"
    }
   },
   "outputs": [],
   "source": [
    "tscv = StratifiedKFold(n_splits=5)"
   ]
  },
  {
   "cell_type": "code",
   "execution_count": 43,
   "id": "61f37f0e",
   "metadata": {
    "ExecuteTime": {
     "end_time": "2023-01-09T16:19:47.487118Z",
     "start_time": "2023-01-09T16:18:22.194958Z"
    },
    "pycharm": {
     "name": "#%%\n"
    }
   },
   "outputs": [
    {
     "name": "stdout",
     "output_type": "stream",
     "text": [
      "0.8084513166493845\n",
      "0.8037686526496738\n",
      "0.8102737598461724\n",
      "0.8195899128450237\n",
      "0.8702991995870901\n",
      "0.822476568315469\n"
     ]
    }
   ],
   "source": [
    "metric_results = []\n",
    "for train_idx, valid_idx in tscv.split(features_train, target_train):\n",
    "    # разбиваем по фолдам\n",
    "    X_train, X_test = features_train.iloc[train_idx], features_train.iloc[valid_idx]\n",
    "    y_train, y_test = target_train.iloc[train_idx], target_train.iloc[valid_idx]\n",
    "    # обучаем модель и считаем метрики\n",
    "    pipeline.fit(X_train, y_train)\n",
    "    y_pred = pipeline.predict_proba(X_test)\n",
    "    metric_results.append(roc_auc_score(y_test, y_pred[:, 1]))\n",
    "    print(roc_auc_score(y_test, y_pred[:, 1]))\n",
    "print(np.mean(metric_results))"
   ]
  },
  {
   "cell_type": "markdown",
   "id": "5d793e8b",
   "metadata": {
    "pycharm": {
     "name": "#%% md\n"
    }
   },
   "source": [
    "### lgbm"
   ]
  },
  {
   "cell_type": "code",
   "execution_count": 47,
   "id": "8ef1d989",
   "metadata": {
    "ExecuteTime": {
     "end_time": "2023-01-09T16:20:20.897297Z",
     "start_time": "2023-01-09T16:20:20.881261Z"
    },
    "pycharm": {
     "name": "#%%\n"
    }
   },
   "outputs": [],
   "source": [
    "pipeline_stages = []\n",
    "\n",
    "# pipeline_stages.append((\"imputer\", ArbitraryNumberImputer(arbitrary_number=-9999)))\n",
    "\n",
    "# pipeline_stages.append((\"encoder\", CountFrequencyEncoder(encoding_method='count')))\n",
    "# pipeline_stages.append((\"encoder\", MeanEncoder()))\n",
    "\n",
    "pipeline_stages.append((\"imputer\", SimpleImputer(strategy='median')))\n",
    "\n",
    "# pipeline_stages.append((\"scaler\", MinMaxScaler()))\n",
    "# pipeline_stages.append((\"cluster\", cluster.KMeans(n_clusters = 5)))\n",
    "# pipeline_stages.append((\"poly_features\", PolynomialFeatures(degree=2, interaction_only=True)))\n",
    "\n",
    "pipeline_stages.append((\"model\", lgb.LGBMClassifier(n_estimators=500)))\n",
    "# pipeline_stages.append((\"model\", LogisticRegression()))\n",
    "# pipeline_stages.append((\"model\", IsolationForest()))\n",
    "\n",
    "\n",
    "# Собираем все шаги в пайплайн\n",
    "pipeline = Pipeline(pipeline_stages)"
   ]
  },
  {
   "cell_type": "code",
   "execution_count": 48,
   "id": "2344acd8",
   "metadata": {
    "ExecuteTime": {
     "end_time": "2023-01-09T16:20:21.303770Z",
     "start_time": "2023-01-09T16:20:21.298772Z"
    },
    "pycharm": {
     "name": "#%%\n"
    }
   },
   "outputs": [],
   "source": [
    "tscv = StratifiedKFold(n_splits=5)"
   ]
  },
  {
   "cell_type": "code",
   "execution_count": 49,
   "id": "3e721328",
   "metadata": {
    "ExecuteTime": {
     "end_time": "2023-01-09T16:20:41.934974Z",
     "start_time": "2023-01-09T16:20:21.694524Z"
    },
    "pycharm": {
     "name": "#%%\n"
    }
   },
   "outputs": [
    {
     "name": "stdout",
     "output_type": "stream",
     "text": [
      "0.8057378037661014\n",
      "0.800606861861904\n",
      "0.8070553235931814\n",
      "0.8152197243745387\n",
      "0.8671547048181483\n",
      "0.8191548836827748\n"
     ]
    }
   ],
   "source": [
    "metric_results = []\n",
    "for train_idx, valid_idx in tscv.split(features_train, target_train):\n",
    "    # разбиваем по фолдам\n",
    "    X_train, X_test = features_train.iloc[train_idx], features_train.iloc[valid_idx]\n",
    "    y_train, y_test = target_train.iloc[train_idx], target_train.iloc[valid_idx]\n",
    "    # обучаем модель и считаем метрики\n",
    "    pipeline.fit(X_train, y_train)\n",
    "    y_pred = pipeline.predict_proba(X_test)\n",
    "    metric_results.append(roc_auc_score(y_test, y_pred[:, 1]))\n",
    "    print(roc_auc_score(y_test, y_pred[:, 1]))\n",
    "print(np.mean(metric_results))"
   ]
  },
  {
   "cell_type": "markdown",
   "id": "106cf74a",
   "metadata": {
    "pycharm": {
     "name": "#%% md\n"
    }
   },
   "source": [
    "### voting models"
   ]
  },
  {
   "cell_type": "code",
   "execution_count": null,
   "id": "ea51b861",
   "metadata": {
    "pycharm": {
     "name": "#%%\n"
    }
   },
   "outputs": [],
   "source": [
    "estimator = [\n",
    "    ('m1', CatBoostClassifier()),\n",
    "    ('m2', RandomForestClassifier()),\n",
    "    ('m3', GradientBoostingClassifier()),\n",
    "    ('m4', (lgb.LGBMClassifier())),\n",
    "    ('m5', xgb.XGBClassifier()),\n",
    "    ('m6', LogisticRegression())\n",
    "]"
   ]
  },
  {
   "cell_type": "code",
   "execution_count": null,
   "id": "a61c4797",
   "metadata": {
    "pycharm": {
     "name": "#%%\n"
    }
   },
   "outputs": [],
   "source": [
    "pipeline_stages = []\n",
    "\n",
    "pipeline_stages.append((\"imputer\", ArbitraryNumberImputer(arbitrary_number=-9999)))\n",
    "pipeline_stages.append((\"encoder\", MeanEncoder()))\n",
    "pipeline_stages.append((\"scaler\", MinMaxScaler()))\n",
    "pipeline_stages.append(('model', VotingClassifier(estimators = estimator, voting='soft')))\n",
    "\n",
    "\n",
    "# Собираем все шаги в пайплайн\n",
    "pipeline = Pipeline(pipeline_stages)"
   ]
  },
  {
   "cell_type": "code",
   "execution_count": null,
   "id": "7162ae56",
   "metadata": {
    "pycharm": {
     "name": "#%%\n"
    }
   },
   "outputs": [],
   "source": [
    "tscv = StratifiedKFold(n_splits=5)"
   ]
  },
  {
   "cell_type": "code",
   "execution_count": null,
   "id": "7a51d1bd",
   "metadata": {
    "pycharm": {
     "name": "#%%\n"
    }
   },
   "outputs": [],
   "source": [
    "metric_results = []\n",
    "for train_idx, valid_idx in tscv.split(features_train, target_train):\n",
    "    # разбиваем по фолдам\n",
    "    X_train, X_test = features_train.iloc[train_idx], features_train.iloc[valid_idx]\n",
    "    y_train, y_test = target_train.iloc[train_idx], target_train.iloc[valid_idx]\n",
    "    # обучаем модель и считаем метрики\n",
    "    pipeline.fit(X_train, y_train)\n",
    "    y_pred = pipeline.predict_proba(X_test)\n",
    "    metric_results.append(roc_auc_score(y_test, y_pred[:, 1]))\n",
    "    print(roc_auc_score(y_test, y_pred[:, 1]))\n",
    "print(np.mean(metric_results))"
   ]
  },
  {
   "cell_type": "markdown",
   "id": "7176c07a",
   "metadata": {
    "pycharm": {
     "name": "#%% md\n"
    }
   },
   "source": [
    "## find best model"
   ]
  },
  {
   "cell_type": "code",
   "execution_count": null,
   "id": "584f41a1",
   "metadata": {
    "pycharm": {
     "name": "#%%\n"
    }
   },
   "outputs": [],
   "source": [
    "pipeline_stages = []\n",
    "\n",
    "pipeline_stages.append((\"imputer\", ArbitraryNumberImputer(arbitrary_number=-9999)))\n",
    "pipeline_stages.append((\"scaler\", StandardScaler()))\n",
    "pipeline_stages.append((\"model\", CatBoostClassifier(verbose=0)))\n",
    "\n",
    "pipeline = Pipeline(pipeline_stages)"
   ]
  },
  {
   "cell_type": "code",
   "execution_count": null,
   "id": "199018a6",
   "metadata": {
    "pycharm": {
     "name": "#%%\n"
    }
   },
   "outputs": [],
   "source": [
    "param_grid = [\n",
    "    {\n",
    "        \"imputer\": [SimpleImputer(strategy='median'), ArbitraryNumberImputer(arbitrary_number=-9999)],\n",
    "        \"model\": [CatBoostClassifier(random_state=42, verbose=0)],\n",
    "        \"model__n_estimators\": [500, 1000],\n",
    "        \"model__max_depth\": [6, 8, 10, 12],\n",
    "        'model__loss_function': ['Logloss', 'CrossEntropy'],\n",
    "        \"model__l2_leaf_reg\": [3, 4, 5], \n",
    "        \"model__min_data_in_leaf\": [1, 3, 5],\n",
    "        \"scaler\": [None]\n",
    "    },\n",
    "    {\n",
    "        \"imputer\": [SimpleImputer(strategy='median'), ArbitraryNumberImputer(arbitrary_number=-9999)],\n",
    "        \"model\": [LogisticRegression(random_state=42)],\n",
    "        \"model__C\": [0.001, 0.01, 0.1, 1, 10, 100],\n",
    "        \"model__penalty\":['none', 'elasticnet', 'l1', 'l2'],\n",
    "        \"model__solver\": ['newton-cg', 'lbfgs', 'liblinear', 'sag', 'saga'],\n",
    "        \"scaler\": [StandardScaler()]\n",
    "    },\n",
    "]"
   ]
  },
  {
   "cell_type": "code",
   "execution_count": null,
   "id": "74d6d3df",
   "metadata": {
    "pycharm": {
     "name": "#%%\n"
    }
   },
   "outputs": [],
   "source": [
    "tscv = StratifiedKFold(n_splits=5)"
   ]
  },
  {
   "cell_type": "code",
   "execution_count": null,
   "id": "b679af82",
   "metadata": {
    "pycharm": {
     "name": "#%%\n"
    }
   },
   "outputs": [],
   "source": [
    "grid = GridSearchCV(pipeline, param_grid=param_grid, scoring=\"roc_auc\", cv=tscv, verbose=2)"
   ]
  },
  {
   "cell_type": "code",
   "execution_count": null,
   "id": "600af01c",
   "metadata": {
    "pycharm": {
     "name": "#%%\n"
    }
   },
   "outputs": [],
   "source": [
    "grid.fit(features_train, target_train)"
   ]
  },
  {
   "cell_type": "code",
   "execution_count": null,
   "id": "fb8180ce",
   "metadata": {
    "pycharm": {
     "name": "#%%\n"
    }
   },
   "outputs": [],
   "source": [
    "grid.best_estimator_"
   ]
  },
  {
   "cell_type": "code",
   "execution_count": null,
   "id": "117ce449",
   "metadata": {
    "pycharm": {
     "name": "#%%\n"
    }
   },
   "outputs": [],
   "source": [
    "grid.best_score_"
   ]
  },
  {
   "cell_type": "code",
   "execution_count": null,
   "id": "eaaa1205",
   "metadata": {
    "pycharm": {
     "name": "#%%\n"
    }
   },
   "outputs": [],
   "source": [
    "grid.cv_results_"
   ]
  },
  {
   "cell_type": "code",
   "execution_count": null,
   "id": "5b4d5b46",
   "metadata": {
    "pycharm": {
     "name": "#%%\n"
    }
   },
   "outputs": [],
   "source": []
  },
  {
   "cell_type": "code",
   "execution_count": null,
   "id": "70dc8eb0",
   "metadata": {
    "pycharm": {
     "name": "#%%\n"
    }
   },
   "outputs": [],
   "source": []
  },
  {
   "cell_type": "code",
   "execution_count": null,
   "id": "22de0714",
   "metadata": {
    "pycharm": {
     "name": "#%%\n"
    }
   },
   "outputs": [],
   "source": [
    "calibrated_clf = CalibratedClassifierCV(base_clf, cv=3)"
   ]
  },
  {
   "cell_type": "code",
   "execution_count": null,
   "id": "9d056563",
   "metadata": {
    "pycharm": {
     "name": "#%%\n"
    }
   },
   "outputs": [],
   "source": []
  },
  {
   "cell_type": "code",
   "execution_count": null,
   "id": "412c8550",
   "metadata": {
    "pycharm": {
     "name": "#%%\n"
    }
   },
   "outputs": [],
   "source": []
  },
  {
   "cell_type": "code",
   "execution_count": null,
   "id": "f2e46388",
   "metadata": {
    "pycharm": {
     "name": "#%%\n"
    }
   },
   "outputs": [],
   "source": [
    "# predict probabilities\n",
    "probs = model.predic_proba(testX)[:,1]\n",
    "# reliability diagram\n",
    "fop, mpv = calibration_curve(testy, probs, n_bins=10)\n",
    "# plot perfectly calibrated\n",
    "pyplot.plot([0, 1], [0, 1], linestyle='--')\n",
    "# plot model reliability\n",
    "pyplot.plot(mpv, fop, marker='.')\n",
    "pyplot.show()"
   ]
  },
  {
   "cell_type": "code",
   "execution_count": null,
   "id": "1f086229",
   "metadata": {
    "pycharm": {
     "name": "#%%\n"
    }
   },
   "outputs": [],
   "source": []
  },
  {
   "cell_type": "markdown",
   "id": "789ad4ba",
   "metadata": {
    "pycharm": {
     "name": "#%% md\n"
    }
   },
   "source": [
    "# Make submission"
   ]
  },
  {
   "cell_type": "code",
   "execution_count": null,
   "id": "e7990e75",
   "metadata": {
    "pycharm": {
     "name": "#%%\n"
    }
   },
   "outputs": [],
   "source": [
    "# pipeline = grid.best_estimator_"
   ]
  },
  {
   "cell_type": "code",
   "execution_count": null,
   "id": "330c6e54",
   "metadata": {
    "pycharm": {
     "name": "#%%\n"
    }
   },
   "outputs": [],
   "source": [
    "calibrated_clf = CalibratedClassifierCV(base_clf, cv=3)"
   ]
  },
  {
   "cell_type": "code",
   "execution_count": null,
   "id": "b06db76d",
   "metadata": {
    "pycharm": {
     "name": "#%%\n"
    }
   },
   "outputs": [],
   "source": []
  },
  {
   "cell_type": "code",
   "execution_count": null,
   "id": "67f2b8dd",
   "metadata": {
    "pycharm": {
     "name": "#%%\n"
    }
   },
   "outputs": [],
   "source": []
  },
  {
   "cell_type": "code",
   "execution_count": null,
   "id": "999ef28f",
   "metadata": {
    "pycharm": {
     "name": "#%%\n"
    }
   },
   "outputs": [],
   "source": [
    "# predict probabilities\n",
    "probs = model.predic_proba(testX)[:,1]\n",
    "# reliability diagram\n",
    "fop, mpv = calibration_curve(testy, probs, n_bins=10)\n",
    "# plot perfectly calibrated\n",
    "pyplot.plot([0, 1], [0, 1], linestyle='--')\n",
    "# plot model reliability\n",
    "pyplot.plot(mpv, fop, marker='.')\n",
    "pyplot.show()"
   ]
  },
  {
   "cell_type": "code",
   "execution_count": null,
   "id": "1fc0eb35",
   "metadata": {
    "pycharm": {
     "name": "#%%\n"
    }
   },
   "outputs": [],
   "source": []
  },
  {
   "cell_type": "markdown",
   "id": "6f541201",
   "metadata": {
    "pycharm": {
     "name": "#%% md\n"
    }
   },
   "source": [
    "# Make submission"
   ]
  },
  {
   "cell_type": "code",
   "execution_count": 72,
   "id": "cdf97f73",
   "metadata": {
    "ExecuteTime": {
     "end_time": "2023-01-09T12:24:15.593065Z",
     "start_time": "2023-01-09T12:24:15.580028Z"
    },
    "pycharm": {
     "name": "#%%\n"
    }
   },
   "outputs": [],
   "source": [
    "# pipeline = grid.best_estimator_"
   ]
  },
  {
   "cell_type": "code",
   "execution_count": 93,
   "id": "0fca61c4",
   "metadata": {
    "ExecuteTime": {
     "end_time": "2023-01-09T12:54:51.022575Z",
     "start_time": "2023-01-09T12:48:55.188256Z"
    },
    "pycharm": {
     "name": "#%%\n"
    }
   },
   "outputs": [
    {
     "name": "stdout",
     "output_type": "stream",
     "text": [
      "Learning rate set to 0.075535\n",
      "0:\tlearn: 0.6364582\ttotal: 25.3ms\tremaining: 25.3s\n",
      "1:\tlearn: 0.5919468\ttotal: 49.3ms\tremaining: 24.6s\n",
      "2:\tlearn: 0.5566472\ttotal: 68.2ms\tremaining: 22.7s\n",
      "3:\tlearn: 0.5272320\ttotal: 103ms\tremaining: 25.6s\n",
      "4:\tlearn: 0.5020430\ttotal: 125ms\tremaining: 24.8s\n",
      "5:\tlearn: 0.4800299\ttotal: 144ms\tremaining: 23.9s\n",
      "6:\tlearn: 0.4629460\ttotal: 165ms\tremaining: 23.4s\n",
      "7:\tlearn: 0.4483619\ttotal: 188ms\tremaining: 23.3s\n",
      "8:\tlearn: 0.4357522\ttotal: 210ms\tremaining: 23.1s\n",
      "9:\tlearn: 0.4256047\ttotal: 234ms\tremaining: 23.1s\n",
      "10:\tlearn: 0.4170784\ttotal: 252ms\tremaining: 22.7s\n",
      "11:\tlearn: 0.4089711\ttotal: 274ms\tremaining: 22.5s\n",
      "12:\tlearn: 0.4025174\ttotal: 294ms\tremaining: 22.4s\n",
      "13:\tlearn: 0.3972532\ttotal: 313ms\tremaining: 22.1s\n",
      "14:\tlearn: 0.3918933\ttotal: 334ms\tremaining: 22s\n",
      "15:\tlearn: 0.3881027\ttotal: 352ms\tremaining: 21.6s\n",
      "16:\tlearn: 0.3838804\ttotal: 372ms\tremaining: 21.5s\n",
      "17:\tlearn: 0.3805968\ttotal: 393ms\tremaining: 21.4s\n",
      "18:\tlearn: 0.3779421\ttotal: 412ms\tremaining: 21.3s\n",
      "19:\tlearn: 0.3755578\ttotal: 432ms\tremaining: 21.2s\n",
      "20:\tlearn: 0.3737347\ttotal: 451ms\tremaining: 21s\n",
      "21:\tlearn: 0.3720940\ttotal: 472ms\tremaining: 21s\n",
      "22:\tlearn: 0.3704945\ttotal: 491ms\tremaining: 20.8s\n",
      "23:\tlearn: 0.3689606\ttotal: 509ms\tremaining: 20.7s\n",
      "24:\tlearn: 0.3677568\ttotal: 530ms\tremaining: 20.7s\n",
      "25:\tlearn: 0.3664040\ttotal: 547ms\tremaining: 20.5s\n",
      "26:\tlearn: 0.3651514\ttotal: 567ms\tremaining: 20.4s\n",
      "27:\tlearn: 0.3640556\ttotal: 587ms\tremaining: 20.4s\n",
      "28:\tlearn: 0.3626801\ttotal: 604ms\tremaining: 20.2s\n",
      "29:\tlearn: 0.3619289\ttotal: 623ms\tremaining: 20.1s\n",
      "30:\tlearn: 0.3609410\ttotal: 643ms\tremaining: 20.1s\n",
      "31:\tlearn: 0.3600467\ttotal: 663ms\tremaining: 20s\n",
      "32:\tlearn: 0.3589455\ttotal: 681ms\tremaining: 20s\n",
      "33:\tlearn: 0.3582372\ttotal: 698ms\tremaining: 19.8s\n",
      "34:\tlearn: 0.3574639\ttotal: 718ms\tremaining: 19.8s\n",
      "35:\tlearn: 0.3568901\ttotal: 739ms\tremaining: 19.8s\n",
      "36:\tlearn: 0.3562601\ttotal: 757ms\tremaining: 19.7s\n",
      "37:\tlearn: 0.3557514\ttotal: 778ms\tremaining: 19.7s\n",
      "38:\tlearn: 0.3551879\ttotal: 798ms\tremaining: 19.7s\n",
      "39:\tlearn: 0.3546251\ttotal: 819ms\tremaining: 19.7s\n",
      "40:\tlearn: 0.3541674\ttotal: 841ms\tremaining: 19.7s\n",
      "41:\tlearn: 0.3537664\ttotal: 864ms\tremaining: 19.7s\n",
      "42:\tlearn: 0.3529838\ttotal: 885ms\tremaining: 19.7s\n",
      "43:\tlearn: 0.3525612\ttotal: 903ms\tremaining: 19.6s\n",
      "44:\tlearn: 0.3520826\ttotal: 925ms\tremaining: 19.6s\n",
      "45:\tlearn: 0.3515606\ttotal: 944ms\tremaining: 19.6s\n",
      "46:\tlearn: 0.3511370\ttotal: 965ms\tremaining: 19.6s\n",
      "47:\tlearn: 0.3507956\ttotal: 985ms\tremaining: 19.5s\n",
      "48:\tlearn: 0.3504781\ttotal: 1s\tremaining: 19.5s\n",
      "49:\tlearn: 0.3501955\ttotal: 1.02s\tremaining: 19.5s\n",
      "50:\tlearn: 0.3499235\ttotal: 1.04s\tremaining: 19.4s\n",
      "51:\tlearn: 0.3495433\ttotal: 1.06s\tremaining: 19.3s\n",
      "52:\tlearn: 0.3493356\ttotal: 1.08s\tremaining: 19.3s\n",
      "53:\tlearn: 0.3489718\ttotal: 1.1s\tremaining: 19.3s\n",
      "54:\tlearn: 0.3487228\ttotal: 1.12s\tremaining: 19.2s\n",
      "55:\tlearn: 0.3484044\ttotal: 1.14s\tremaining: 19.2s\n",
      "56:\tlearn: 0.3480016\ttotal: 1.16s\tremaining: 19.1s\n",
      "57:\tlearn: 0.3476857\ttotal: 1.18s\tremaining: 19.1s\n",
      "58:\tlearn: 0.3474591\ttotal: 1.2s\tremaining: 19.1s\n",
      "59:\tlearn: 0.3472088\ttotal: 1.22s\tremaining: 19.1s\n",
      "60:\tlearn: 0.3469692\ttotal: 1.24s\tremaining: 19.1s\n",
      "61:\tlearn: 0.3467226\ttotal: 1.26s\tremaining: 19.1s\n",
      "62:\tlearn: 0.3464875\ttotal: 1.28s\tremaining: 19s\n",
      "63:\tlearn: 0.3462418\ttotal: 1.3s\tremaining: 19.1s\n",
      "64:\tlearn: 0.3459169\ttotal: 1.33s\tremaining: 19.1s\n",
      "65:\tlearn: 0.3457079\ttotal: 1.35s\tremaining: 19.1s\n",
      "66:\tlearn: 0.3455172\ttotal: 1.37s\tremaining: 19.1s\n",
      "67:\tlearn: 0.3453262\ttotal: 1.39s\tremaining: 19s\n",
      "68:\tlearn: 0.3451382\ttotal: 1.41s\tremaining: 19s\n",
      "69:\tlearn: 0.3449368\ttotal: 1.43s\tremaining: 19s\n",
      "70:\tlearn: 0.3447521\ttotal: 1.45s\tremaining: 19s\n",
      "71:\tlearn: 0.3445083\ttotal: 1.47s\tremaining: 19s\n",
      "72:\tlearn: 0.3443137\ttotal: 1.49s\tremaining: 18.9s\n",
      "73:\tlearn: 0.3439857\ttotal: 1.51s\tremaining: 18.9s\n",
      "74:\tlearn: 0.3437812\ttotal: 1.55s\tremaining: 19.1s\n",
      "75:\tlearn: 0.3435288\ttotal: 1.57s\tremaining: 19.1s\n",
      "76:\tlearn: 0.3432583\ttotal: 1.59s\tremaining: 19s\n",
      "77:\tlearn: 0.3430491\ttotal: 1.6s\tremaining: 19s\n",
      "78:\tlearn: 0.3427521\ttotal: 1.63s\tremaining: 19s\n",
      "79:\tlearn: 0.3423145\ttotal: 1.65s\tremaining: 19s\n",
      "80:\tlearn: 0.3419336\ttotal: 1.67s\tremaining: 18.9s\n",
      "81:\tlearn: 0.3417559\ttotal: 1.69s\tremaining: 18.9s\n",
      "82:\tlearn: 0.3415600\ttotal: 1.71s\tremaining: 18.9s\n",
      "83:\tlearn: 0.3413067\ttotal: 1.74s\tremaining: 19s\n",
      "84:\tlearn: 0.3411733\ttotal: 1.76s\tremaining: 19s\n",
      "85:\tlearn: 0.3410110\ttotal: 1.78s\tremaining: 19s\n",
      "86:\tlearn: 0.3407713\ttotal: 1.81s\tremaining: 19s\n",
      "87:\tlearn: 0.3405912\ttotal: 1.83s\tremaining: 19s\n",
      "88:\tlearn: 0.3404038\ttotal: 1.86s\tremaining: 19.1s\n",
      "89:\tlearn: 0.3400641\ttotal: 1.89s\tremaining: 19.1s\n",
      "90:\tlearn: 0.3399036\ttotal: 1.91s\tremaining: 19s\n",
      "91:\tlearn: 0.3397205\ttotal: 1.93s\tremaining: 19.1s\n",
      "92:\tlearn: 0.3396130\ttotal: 1.95s\tremaining: 19s\n",
      "93:\tlearn: 0.3393887\ttotal: 1.98s\tremaining: 19s\n",
      "94:\tlearn: 0.3392532\ttotal: 2s\tremaining: 19.1s\n",
      "95:\tlearn: 0.3390778\ttotal: 2.02s\tremaining: 19.1s\n",
      "96:\tlearn: 0.3388849\ttotal: 2.05s\tremaining: 19.1s\n",
      "97:\tlearn: 0.3386946\ttotal: 2.07s\tremaining: 19.1s\n",
      "98:\tlearn: 0.3385365\ttotal: 2.09s\tremaining: 19.1s\n",
      "99:\tlearn: 0.3383581\ttotal: 2.12s\tremaining: 19.1s\n",
      "100:\tlearn: 0.3382560\ttotal: 2.14s\tremaining: 19s\n",
      "101:\tlearn: 0.3381267\ttotal: 2.16s\tremaining: 19s\n",
      "102:\tlearn: 0.3380030\ttotal: 2.19s\tremaining: 19.1s\n",
      "103:\tlearn: 0.3378181\ttotal: 2.21s\tremaining: 19s\n",
      "104:\tlearn: 0.3376736\ttotal: 2.23s\tremaining: 19s\n",
      "105:\tlearn: 0.3375335\ttotal: 2.25s\tremaining: 19s\n",
      "106:\tlearn: 0.3373370\ttotal: 2.27s\tremaining: 19s\n",
      "107:\tlearn: 0.3371473\ttotal: 2.3s\tremaining: 19s\n",
      "108:\tlearn: 0.3370121\ttotal: 2.32s\tremaining: 19s\n",
      "109:\tlearn: 0.3369049\ttotal: 2.34s\tremaining: 18.9s\n",
      "110:\tlearn: 0.3367596\ttotal: 2.37s\tremaining: 19s\n",
      "111:\tlearn: 0.3366238\ttotal: 2.4s\tremaining: 19.1s\n",
      "112:\tlearn: 0.3364944\ttotal: 2.43s\tremaining: 19.1s\n",
      "113:\tlearn: 0.3363883\ttotal: 2.45s\tremaining: 19s\n",
      "114:\tlearn: 0.3362466\ttotal: 2.47s\tremaining: 19s\n",
      "115:\tlearn: 0.3360754\ttotal: 2.49s\tremaining: 19s\n",
      "116:\tlearn: 0.3359909\ttotal: 2.51s\tremaining: 18.9s\n",
      "117:\tlearn: 0.3358442\ttotal: 2.53s\tremaining: 18.9s\n",
      "118:\tlearn: 0.3357175\ttotal: 2.55s\tremaining: 18.9s\n",
      "119:\tlearn: 0.3356090\ttotal: 2.57s\tremaining: 18.9s\n",
      "120:\tlearn: 0.3354856\ttotal: 2.59s\tremaining: 18.8s\n",
      "121:\tlearn: 0.3353673\ttotal: 2.62s\tremaining: 18.8s\n",
      "122:\tlearn: 0.3352753\ttotal: 2.64s\tremaining: 18.8s\n",
      "123:\tlearn: 0.3351491\ttotal: 2.66s\tremaining: 18.8s\n",
      "124:\tlearn: 0.3350247\ttotal: 2.68s\tremaining: 18.8s\n",
      "125:\tlearn: 0.3349167\ttotal: 2.71s\tremaining: 18.8s\n",
      "126:\tlearn: 0.3348203\ttotal: 2.73s\tremaining: 18.7s\n",
      "127:\tlearn: 0.3347206\ttotal: 2.75s\tremaining: 18.7s\n",
      "128:\tlearn: 0.3345516\ttotal: 2.77s\tremaining: 18.7s\n",
      "129:\tlearn: 0.3344022\ttotal: 2.79s\tremaining: 18.7s\n",
      "130:\tlearn: 0.3342613\ttotal: 2.82s\tremaining: 18.7s\n",
      "131:\tlearn: 0.3341461\ttotal: 2.85s\tremaining: 18.7s\n",
      "132:\tlearn: 0.3339617\ttotal: 2.87s\tremaining: 18.7s\n",
      "133:\tlearn: 0.3336477\ttotal: 2.89s\tremaining: 18.7s\n",
      "134:\tlearn: 0.3335576\ttotal: 2.91s\tremaining: 18.7s\n",
      "135:\tlearn: 0.3334627\ttotal: 2.93s\tremaining: 18.6s\n",
      "136:\tlearn: 0.3333793\ttotal: 2.96s\tremaining: 18.6s\n",
      "137:\tlearn: 0.3333310\ttotal: 2.98s\tremaining: 18.6s\n",
      "138:\tlearn: 0.3332240\ttotal: 3s\tremaining: 18.6s\n",
      "139:\tlearn: 0.3331303\ttotal: 3.02s\tremaining: 18.5s\n",
      "140:\tlearn: 0.3330070\ttotal: 3.03s\tremaining: 18.5s\n",
      "141:\tlearn: 0.3327537\ttotal: 3.06s\tremaining: 18.5s\n",
      "142:\tlearn: 0.3326315\ttotal: 3.08s\tremaining: 18.4s\n",
      "143:\tlearn: 0.3324837\ttotal: 3.1s\tremaining: 18.4s\n",
      "144:\tlearn: 0.3323017\ttotal: 3.12s\tremaining: 18.4s\n",
      "145:\tlearn: 0.3320477\ttotal: 3.14s\tremaining: 18.4s\n",
      "146:\tlearn: 0.3318749\ttotal: 3.16s\tremaining: 18.4s\n",
      "147:\tlearn: 0.3317480\ttotal: 3.19s\tremaining: 18.3s\n",
      "148:\tlearn: 0.3316373\ttotal: 3.21s\tremaining: 18.3s\n",
      "149:\tlearn: 0.3315363\ttotal: 3.23s\tremaining: 18.3s\n",
      "150:\tlearn: 0.3313721\ttotal: 3.25s\tremaining: 18.3s\n",
      "151:\tlearn: 0.3313027\ttotal: 3.27s\tremaining: 18.3s\n",
      "152:\tlearn: 0.3311786\ttotal: 3.29s\tremaining: 18.2s\n",
      "153:\tlearn: 0.3310939\ttotal: 3.31s\tremaining: 18.2s\n",
      "154:\tlearn: 0.3309576\ttotal: 3.33s\tremaining: 18.2s\n",
      "155:\tlearn: 0.3308002\ttotal: 3.36s\tremaining: 18.2s\n",
      "156:\tlearn: 0.3306995\ttotal: 3.38s\tremaining: 18.1s\n",
      "157:\tlearn: 0.3306077\ttotal: 3.4s\tremaining: 18.1s\n",
      "158:\tlearn: 0.3304964\ttotal: 3.42s\tremaining: 18.1s\n",
      "159:\tlearn: 0.3303705\ttotal: 3.44s\tremaining: 18.1s\n",
      "160:\tlearn: 0.3301749\ttotal: 3.46s\tremaining: 18s\n",
      "161:\tlearn: 0.3300830\ttotal: 3.48s\tremaining: 18s\n",
      "162:\tlearn: 0.3299686\ttotal: 3.5s\tremaining: 18s\n",
      "163:\tlearn: 0.3298800\ttotal: 3.53s\tremaining: 18s\n",
      "164:\tlearn: 0.3297041\ttotal: 3.56s\tremaining: 18s\n",
      "165:\tlearn: 0.3296071\ttotal: 3.59s\tremaining: 18s\n",
      "166:\tlearn: 0.3294910\ttotal: 3.61s\tremaining: 18s\n",
      "167:\tlearn: 0.3293952\ttotal: 3.63s\tremaining: 18s\n",
      "168:\tlearn: 0.3292778\ttotal: 3.65s\tremaining: 18s\n"
     ]
    },
    {
     "name": "stdout",
     "output_type": "stream",
     "text": [
      "169:\tlearn: 0.3291964\ttotal: 3.67s\tremaining: 17.9s\n",
      "170:\tlearn: 0.3290313\ttotal: 3.71s\tremaining: 18s\n",
      "171:\tlearn: 0.3289290\ttotal: 3.74s\tremaining: 18s\n",
      "172:\tlearn: 0.3287925\ttotal: 3.77s\tremaining: 18s\n",
      "173:\tlearn: 0.3285479\ttotal: 3.79s\tremaining: 18s\n",
      "174:\tlearn: 0.3284196\ttotal: 3.82s\tremaining: 18s\n",
      "175:\tlearn: 0.3283055\ttotal: 3.87s\tremaining: 18.1s\n",
      "176:\tlearn: 0.3282299\ttotal: 3.89s\tremaining: 18.1s\n",
      "177:\tlearn: 0.3281096\ttotal: 3.91s\tremaining: 18.1s\n",
      "178:\tlearn: 0.3279820\ttotal: 3.94s\tremaining: 18s\n",
      "179:\tlearn: 0.3279052\ttotal: 3.96s\tremaining: 18s\n",
      "180:\tlearn: 0.3278013\ttotal: 3.98s\tremaining: 18s\n",
      "181:\tlearn: 0.3276979\ttotal: 4s\tremaining: 18s\n",
      "182:\tlearn: 0.3275371\ttotal: 4.02s\tremaining: 18s\n",
      "183:\tlearn: 0.3274416\ttotal: 4.04s\tremaining: 17.9s\n",
      "184:\tlearn: 0.3273372\ttotal: 4.07s\tremaining: 17.9s\n",
      "185:\tlearn: 0.3271951\ttotal: 4.08s\tremaining: 17.9s\n",
      "186:\tlearn: 0.3271101\ttotal: 4.11s\tremaining: 17.9s\n",
      "187:\tlearn: 0.3269828\ttotal: 4.13s\tremaining: 17.8s\n",
      "188:\tlearn: 0.3268779\ttotal: 4.15s\tremaining: 17.8s\n",
      "189:\tlearn: 0.3267424\ttotal: 4.17s\tremaining: 17.8s\n",
      "190:\tlearn: 0.3266287\ttotal: 4.19s\tremaining: 17.7s\n",
      "191:\tlearn: 0.3265162\ttotal: 4.21s\tremaining: 17.7s\n",
      "192:\tlearn: 0.3264404\ttotal: 4.24s\tremaining: 17.7s\n",
      "193:\tlearn: 0.3263525\ttotal: 4.26s\tremaining: 17.7s\n",
      "194:\tlearn: 0.3262450\ttotal: 4.28s\tremaining: 17.7s\n",
      "195:\tlearn: 0.3261621\ttotal: 4.31s\tremaining: 17.7s\n",
      "196:\tlearn: 0.3260819\ttotal: 4.34s\tremaining: 17.7s\n",
      "197:\tlearn: 0.3259798\ttotal: 4.36s\tremaining: 17.7s\n",
      "198:\tlearn: 0.3258749\ttotal: 4.38s\tremaining: 17.6s\n",
      "199:\tlearn: 0.3258131\ttotal: 4.41s\tremaining: 17.6s\n",
      "200:\tlearn: 0.3256822\ttotal: 4.43s\tremaining: 17.6s\n",
      "201:\tlearn: 0.3256092\ttotal: 4.45s\tremaining: 17.6s\n",
      "202:\tlearn: 0.3254192\ttotal: 4.47s\tremaining: 17.6s\n",
      "203:\tlearn: 0.3252896\ttotal: 4.49s\tremaining: 17.5s\n",
      "204:\tlearn: 0.3251702\ttotal: 4.52s\tremaining: 17.5s\n",
      "205:\tlearn: 0.3250450\ttotal: 4.54s\tremaining: 17.5s\n",
      "206:\tlearn: 0.3249411\ttotal: 4.57s\tremaining: 17.5s\n",
      "207:\tlearn: 0.3248126\ttotal: 4.59s\tremaining: 17.5s\n",
      "208:\tlearn: 0.3246795\ttotal: 4.61s\tremaining: 17.4s\n",
      "209:\tlearn: 0.3246027\ttotal: 4.63s\tremaining: 17.4s\n",
      "210:\tlearn: 0.3244952\ttotal: 4.65s\tremaining: 17.4s\n",
      "211:\tlearn: 0.3244099\ttotal: 4.67s\tremaining: 17.4s\n",
      "212:\tlearn: 0.3243371\ttotal: 4.69s\tremaining: 17.3s\n",
      "213:\tlearn: 0.3242061\ttotal: 4.71s\tremaining: 17.3s\n",
      "214:\tlearn: 0.3240866\ttotal: 4.73s\tremaining: 17.3s\n",
      "215:\tlearn: 0.3239676\ttotal: 4.75s\tremaining: 17.2s\n",
      "216:\tlearn: 0.3238551\ttotal: 4.77s\tremaining: 17.2s\n",
      "217:\tlearn: 0.3237583\ttotal: 4.79s\tremaining: 17.2s\n",
      "218:\tlearn: 0.3236702\ttotal: 4.81s\tremaining: 17.1s\n",
      "219:\tlearn: 0.3235520\ttotal: 4.83s\tremaining: 17.1s\n",
      "220:\tlearn: 0.3234181\ttotal: 4.85s\tremaining: 17.1s\n",
      "221:\tlearn: 0.3232618\ttotal: 4.87s\tremaining: 17.1s\n",
      "222:\tlearn: 0.3231833\ttotal: 4.89s\tremaining: 17s\n",
      "223:\tlearn: 0.3230886\ttotal: 4.91s\tremaining: 17s\n",
      "224:\tlearn: 0.3229620\ttotal: 4.93s\tremaining: 17s\n",
      "225:\tlearn: 0.3228708\ttotal: 4.95s\tremaining: 16.9s\n",
      "226:\tlearn: 0.3228169\ttotal: 4.97s\tremaining: 16.9s\n",
      "227:\tlearn: 0.3227316\ttotal: 4.99s\tremaining: 16.9s\n",
      "228:\tlearn: 0.3226439\ttotal: 5.01s\tremaining: 16.9s\n",
      "229:\tlearn: 0.3225947\ttotal: 5.02s\tremaining: 16.8s\n",
      "230:\tlearn: 0.3224957\ttotal: 5.04s\tremaining: 16.8s\n",
      "231:\tlearn: 0.3224296\ttotal: 5.06s\tremaining: 16.8s\n",
      "232:\tlearn: 0.3223823\ttotal: 5.08s\tremaining: 16.7s\n",
      "233:\tlearn: 0.3223158\ttotal: 5.1s\tremaining: 16.7s\n",
      "234:\tlearn: 0.3222391\ttotal: 5.12s\tremaining: 16.7s\n",
      "235:\tlearn: 0.3221463\ttotal: 5.14s\tremaining: 16.6s\n",
      "236:\tlearn: 0.3220142\ttotal: 5.16s\tremaining: 16.6s\n",
      "237:\tlearn: 0.3219528\ttotal: 5.18s\tremaining: 16.6s\n",
      "238:\tlearn: 0.3218968\ttotal: 5.2s\tremaining: 16.5s\n",
      "239:\tlearn: 0.3217927\ttotal: 5.21s\tremaining: 16.5s\n",
      "240:\tlearn: 0.3216743\ttotal: 5.23s\tremaining: 16.5s\n",
      "241:\tlearn: 0.3215904\ttotal: 5.25s\tremaining: 16.4s\n",
      "242:\tlearn: 0.3214941\ttotal: 5.27s\tremaining: 16.4s\n",
      "243:\tlearn: 0.3213975\ttotal: 5.29s\tremaining: 16.4s\n",
      "244:\tlearn: 0.3212896\ttotal: 5.31s\tremaining: 16.4s\n",
      "245:\tlearn: 0.3211852\ttotal: 5.33s\tremaining: 16.3s\n",
      "246:\tlearn: 0.3210753\ttotal: 5.35s\tremaining: 16.3s\n",
      "247:\tlearn: 0.3209651\ttotal: 5.37s\tremaining: 16.3s\n",
      "248:\tlearn: 0.3208598\ttotal: 5.39s\tremaining: 16.3s\n",
      "249:\tlearn: 0.3207171\ttotal: 5.41s\tremaining: 16.2s\n",
      "250:\tlearn: 0.3205846\ttotal: 5.43s\tremaining: 16.2s\n",
      "251:\tlearn: 0.3204898\ttotal: 5.46s\tremaining: 16.2s\n",
      "252:\tlearn: 0.3203822\ttotal: 5.48s\tremaining: 16.2s\n",
      "253:\tlearn: 0.3203010\ttotal: 5.5s\tremaining: 16.1s\n",
      "254:\tlearn: 0.3202248\ttotal: 5.52s\tremaining: 16.1s\n",
      "255:\tlearn: 0.3201464\ttotal: 5.54s\tremaining: 16.1s\n",
      "256:\tlearn: 0.3200994\ttotal: 5.58s\tremaining: 16.1s\n",
      "257:\tlearn: 0.3199696\ttotal: 5.62s\tremaining: 16.2s\n",
      "258:\tlearn: 0.3198428\ttotal: 5.64s\tremaining: 16.1s\n",
      "259:\tlearn: 0.3197704\ttotal: 5.67s\tremaining: 16.1s\n",
      "260:\tlearn: 0.3196670\ttotal: 5.69s\tremaining: 16.1s\n",
      "261:\tlearn: 0.3195103\ttotal: 5.71s\tremaining: 16.1s\n",
      "262:\tlearn: 0.3194129\ttotal: 5.73s\tremaining: 16.1s\n",
      "263:\tlearn: 0.3192995\ttotal: 5.76s\tremaining: 16s\n",
      "264:\tlearn: 0.3192103\ttotal: 5.78s\tremaining: 16s\n",
      "265:\tlearn: 0.3191187\ttotal: 5.79s\tremaining: 16s\n",
      "266:\tlearn: 0.3190366\ttotal: 5.82s\tremaining: 16s\n",
      "267:\tlearn: 0.3189586\ttotal: 5.84s\tremaining: 16s\n",
      "268:\tlearn: 0.3188605\ttotal: 5.86s\tremaining: 15.9s\n",
      "269:\tlearn: 0.3187645\ttotal: 5.88s\tremaining: 15.9s\n",
      "270:\tlearn: 0.3186655\ttotal: 5.9s\tremaining: 15.9s\n",
      "271:\tlearn: 0.3185182\ttotal: 5.92s\tremaining: 15.9s\n",
      "272:\tlearn: 0.3184218\ttotal: 5.94s\tremaining: 15.8s\n",
      "273:\tlearn: 0.3183213\ttotal: 5.96s\tremaining: 15.8s\n",
      "274:\tlearn: 0.3182127\ttotal: 5.99s\tremaining: 15.8s\n",
      "275:\tlearn: 0.3181108\ttotal: 6.01s\tremaining: 15.8s\n",
      "276:\tlearn: 0.3179993\ttotal: 6.03s\tremaining: 15.7s\n",
      "277:\tlearn: 0.3178980\ttotal: 6.05s\tremaining: 15.7s\n",
      "278:\tlearn: 0.3178369\ttotal: 6.07s\tremaining: 15.7s\n",
      "279:\tlearn: 0.3178012\ttotal: 6.09s\tremaining: 15.7s\n",
      "280:\tlearn: 0.3177504\ttotal: 6.11s\tremaining: 15.6s\n",
      "281:\tlearn: 0.3176073\ttotal: 6.13s\tremaining: 15.6s\n",
      "282:\tlearn: 0.3175036\ttotal: 6.15s\tremaining: 15.6s\n",
      "283:\tlearn: 0.3173890\ttotal: 6.17s\tremaining: 15.6s\n",
      "284:\tlearn: 0.3172385\ttotal: 6.2s\tremaining: 15.5s\n",
      "285:\tlearn: 0.3171359\ttotal: 6.21s\tremaining: 15.5s\n",
      "286:\tlearn: 0.3170384\ttotal: 6.23s\tremaining: 15.5s\n",
      "287:\tlearn: 0.3169815\ttotal: 6.25s\tremaining: 15.5s\n",
      "288:\tlearn: 0.3168642\ttotal: 6.27s\tremaining: 15.4s\n",
      "289:\tlearn: 0.3167321\ttotal: 6.29s\tremaining: 15.4s\n",
      "290:\tlearn: 0.3166479\ttotal: 6.32s\tremaining: 15.4s\n",
      "291:\tlearn: 0.3165521\ttotal: 6.34s\tremaining: 15.4s\n",
      "292:\tlearn: 0.3164639\ttotal: 6.36s\tremaining: 15.3s\n",
      "293:\tlearn: 0.3163577\ttotal: 6.38s\tremaining: 15.3s\n",
      "294:\tlearn: 0.3162617\ttotal: 6.41s\tremaining: 15.3s\n",
      "295:\tlearn: 0.3161345\ttotal: 6.43s\tremaining: 15.3s\n",
      "296:\tlearn: 0.3160418\ttotal: 6.45s\tremaining: 15.3s\n",
      "297:\tlearn: 0.3159456\ttotal: 6.47s\tremaining: 15.2s\n",
      "298:\tlearn: 0.3158663\ttotal: 6.49s\tremaining: 15.2s\n",
      "299:\tlearn: 0.3157540\ttotal: 6.51s\tremaining: 15.2s\n",
      "300:\tlearn: 0.3156578\ttotal: 6.53s\tremaining: 15.2s\n",
      "301:\tlearn: 0.3155355\ttotal: 6.55s\tremaining: 15.1s\n",
      "302:\tlearn: 0.3154716\ttotal: 6.57s\tremaining: 15.1s\n",
      "303:\tlearn: 0.3153710\ttotal: 6.59s\tremaining: 15.1s\n",
      "304:\tlearn: 0.3152447\ttotal: 6.61s\tremaining: 15.1s\n",
      "305:\tlearn: 0.3151347\ttotal: 6.63s\tremaining: 15s\n",
      "306:\tlearn: 0.3149877\ttotal: 6.65s\tremaining: 15s\n",
      "307:\tlearn: 0.3149235\ttotal: 6.67s\tremaining: 15s\n",
      "308:\tlearn: 0.3148591\ttotal: 6.69s\tremaining: 15s\n",
      "309:\tlearn: 0.3147215\ttotal: 6.71s\tremaining: 14.9s\n",
      "310:\tlearn: 0.3146384\ttotal: 6.73s\tremaining: 14.9s\n",
      "311:\tlearn: 0.3145217\ttotal: 6.75s\tremaining: 14.9s\n",
      "312:\tlearn: 0.3144592\ttotal: 6.77s\tremaining: 14.9s\n",
      "313:\tlearn: 0.3144040\ttotal: 6.79s\tremaining: 14.8s\n",
      "314:\tlearn: 0.3143045\ttotal: 6.81s\tremaining: 14.8s\n",
      "315:\tlearn: 0.3141964\ttotal: 6.83s\tremaining: 14.8s\n",
      "316:\tlearn: 0.3141333\ttotal: 6.84s\tremaining: 14.7s\n",
      "317:\tlearn: 0.3140841\ttotal: 6.86s\tremaining: 14.7s\n",
      "318:\tlearn: 0.3139558\ttotal: 6.88s\tremaining: 14.7s\n",
      "319:\tlearn: 0.3138457\ttotal: 6.9s\tremaining: 14.7s\n",
      "320:\tlearn: 0.3137732\ttotal: 6.92s\tremaining: 14.6s\n",
      "321:\tlearn: 0.3137087\ttotal: 6.94s\tremaining: 14.6s\n",
      "322:\tlearn: 0.3136447\ttotal: 6.96s\tremaining: 14.6s\n",
      "323:\tlearn: 0.3135657\ttotal: 6.98s\tremaining: 14.6s\n",
      "324:\tlearn: 0.3135014\ttotal: 7s\tremaining: 14.5s\n",
      "325:\tlearn: 0.3134288\ttotal: 7.02s\tremaining: 14.5s\n",
      "326:\tlearn: 0.3133702\ttotal: 7.03s\tremaining: 14.5s\n",
      "327:\tlearn: 0.3132561\ttotal: 7.05s\tremaining: 14.4s\n",
      "328:\tlearn: 0.3131670\ttotal: 7.07s\tremaining: 14.4s\n",
      "329:\tlearn: 0.3130621\ttotal: 7.09s\tremaining: 14.4s\n",
      "330:\tlearn: 0.3129659\ttotal: 7.11s\tremaining: 14.4s\n",
      "331:\tlearn: 0.3129024\ttotal: 7.13s\tremaining: 14.4s\n"
     ]
    },
    {
     "name": "stdout",
     "output_type": "stream",
     "text": [
      "332:\tlearn: 0.3128156\ttotal: 7.15s\tremaining: 14.3s\n",
      "333:\tlearn: 0.3127259\ttotal: 7.17s\tremaining: 14.3s\n",
      "334:\tlearn: 0.3125841\ttotal: 7.19s\tremaining: 14.3s\n",
      "335:\tlearn: 0.3124938\ttotal: 7.21s\tremaining: 14.2s\n",
      "336:\tlearn: 0.3124195\ttotal: 7.23s\tremaining: 14.2s\n",
      "337:\tlearn: 0.3123433\ttotal: 7.25s\tremaining: 14.2s\n",
      "338:\tlearn: 0.3122902\ttotal: 7.27s\tremaining: 14.2s\n",
      "339:\tlearn: 0.3121976\ttotal: 7.29s\tremaining: 14.1s\n",
      "340:\tlearn: 0.3121296\ttotal: 7.3s\tremaining: 14.1s\n",
      "341:\tlearn: 0.3120274\ttotal: 7.33s\tremaining: 14.1s\n",
      "342:\tlearn: 0.3119441\ttotal: 7.35s\tremaining: 14.1s\n",
      "343:\tlearn: 0.3118807\ttotal: 7.37s\tremaining: 14s\n",
      "344:\tlearn: 0.3118260\ttotal: 7.39s\tremaining: 14s\n",
      "345:\tlearn: 0.3117176\ttotal: 7.41s\tremaining: 14s\n",
      "346:\tlearn: 0.3116236\ttotal: 7.43s\tremaining: 14s\n",
      "347:\tlearn: 0.3115330\ttotal: 7.45s\tremaining: 14s\n",
      "348:\tlearn: 0.3114851\ttotal: 7.47s\tremaining: 13.9s\n",
      "349:\tlearn: 0.3113883\ttotal: 7.49s\tremaining: 13.9s\n",
      "350:\tlearn: 0.3112942\ttotal: 7.5s\tremaining: 13.9s\n",
      "351:\tlearn: 0.3112314\ttotal: 7.52s\tremaining: 13.9s\n",
      "352:\tlearn: 0.3111194\ttotal: 7.55s\tremaining: 13.8s\n",
      "353:\tlearn: 0.3110566\ttotal: 7.57s\tremaining: 13.8s\n",
      "354:\tlearn: 0.3109461\ttotal: 7.59s\tremaining: 13.8s\n",
      "355:\tlearn: 0.3108653\ttotal: 7.61s\tremaining: 13.8s\n",
      "356:\tlearn: 0.3108024\ttotal: 7.63s\tremaining: 13.7s\n",
      "357:\tlearn: 0.3107303\ttotal: 7.65s\tremaining: 13.7s\n",
      "358:\tlearn: 0.3106453\ttotal: 7.68s\tremaining: 13.7s\n",
      "359:\tlearn: 0.3105740\ttotal: 7.7s\tremaining: 13.7s\n",
      "360:\tlearn: 0.3104581\ttotal: 7.72s\tremaining: 13.7s\n",
      "361:\tlearn: 0.3103982\ttotal: 7.74s\tremaining: 13.6s\n",
      "362:\tlearn: 0.3103304\ttotal: 7.76s\tremaining: 13.6s\n",
      "363:\tlearn: 0.3102312\ttotal: 7.78s\tremaining: 13.6s\n",
      "364:\tlearn: 0.3101768\ttotal: 7.8s\tremaining: 13.6s\n",
      "365:\tlearn: 0.3100902\ttotal: 7.83s\tremaining: 13.6s\n",
      "366:\tlearn: 0.3100206\ttotal: 7.85s\tremaining: 13.5s\n",
      "367:\tlearn: 0.3099153\ttotal: 7.87s\tremaining: 13.5s\n",
      "368:\tlearn: 0.3098176\ttotal: 7.89s\tremaining: 13.5s\n",
      "369:\tlearn: 0.3097235\ttotal: 7.91s\tremaining: 13.5s\n",
      "370:\tlearn: 0.3096560\ttotal: 7.93s\tremaining: 13.4s\n",
      "371:\tlearn: 0.3095653\ttotal: 7.95s\tremaining: 13.4s\n",
      "372:\tlearn: 0.3094740\ttotal: 7.98s\tremaining: 13.4s\n",
      "373:\tlearn: 0.3093613\ttotal: 8s\tremaining: 13.4s\n",
      "374:\tlearn: 0.3092490\ttotal: 8.02s\tremaining: 13.4s\n",
      "375:\tlearn: 0.3091750\ttotal: 8.04s\tremaining: 13.3s\n",
      "376:\tlearn: 0.3091129\ttotal: 8.06s\tremaining: 13.3s\n",
      "377:\tlearn: 0.3090287\ttotal: 8.08s\tremaining: 13.3s\n",
      "378:\tlearn: 0.3089568\ttotal: 8.1s\tremaining: 13.3s\n",
      "379:\tlearn: 0.3088395\ttotal: 8.12s\tremaining: 13.2s\n",
      "380:\tlearn: 0.3087427\ttotal: 8.14s\tremaining: 13.2s\n",
      "381:\tlearn: 0.3086841\ttotal: 8.16s\tremaining: 13.2s\n",
      "382:\tlearn: 0.3085914\ttotal: 8.18s\tremaining: 13.2s\n",
      "383:\tlearn: 0.3085122\ttotal: 8.2s\tremaining: 13.2s\n",
      "384:\tlearn: 0.3084399\ttotal: 8.22s\tremaining: 13.1s\n",
      "385:\tlearn: 0.3083530\ttotal: 8.24s\tremaining: 13.1s\n",
      "386:\tlearn: 0.3082736\ttotal: 8.26s\tremaining: 13.1s\n",
      "387:\tlearn: 0.3082071\ttotal: 8.28s\tremaining: 13.1s\n",
      "388:\tlearn: 0.3081404\ttotal: 8.3s\tremaining: 13s\n",
      "389:\tlearn: 0.3080573\ttotal: 8.32s\tremaining: 13s\n",
      "390:\tlearn: 0.3079852\ttotal: 8.34s\tremaining: 13s\n",
      "391:\tlearn: 0.3079238\ttotal: 8.36s\tremaining: 13s\n",
      "392:\tlearn: 0.3078301\ttotal: 8.38s\tremaining: 12.9s\n",
      "393:\tlearn: 0.3077713\ttotal: 8.39s\tremaining: 12.9s\n",
      "394:\tlearn: 0.3076754\ttotal: 8.42s\tremaining: 12.9s\n",
      "395:\tlearn: 0.3076086\ttotal: 8.44s\tremaining: 12.9s\n",
      "396:\tlearn: 0.3075043\ttotal: 8.46s\tremaining: 12.8s\n",
      "397:\tlearn: 0.3074153\ttotal: 8.48s\tremaining: 12.8s\n",
      "398:\tlearn: 0.3073427\ttotal: 8.5s\tremaining: 12.8s\n",
      "399:\tlearn: 0.3072538\ttotal: 8.52s\tremaining: 12.8s\n",
      "400:\tlearn: 0.3071634\ttotal: 8.54s\tremaining: 12.8s\n",
      "401:\tlearn: 0.3070805\ttotal: 8.56s\tremaining: 12.7s\n",
      "402:\tlearn: 0.3069987\ttotal: 8.57s\tremaining: 12.7s\n",
      "403:\tlearn: 0.3068952\ttotal: 8.6s\tremaining: 12.7s\n",
      "404:\tlearn: 0.3067905\ttotal: 8.61s\tremaining: 12.7s\n",
      "405:\tlearn: 0.3067335\ttotal: 8.63s\tremaining: 12.6s\n",
      "406:\tlearn: 0.3066362\ttotal: 8.65s\tremaining: 12.6s\n",
      "407:\tlearn: 0.3065440\ttotal: 8.67s\tremaining: 12.6s\n",
      "408:\tlearn: 0.3064577\ttotal: 8.69s\tremaining: 12.6s\n",
      "409:\tlearn: 0.3063622\ttotal: 8.71s\tremaining: 12.5s\n",
      "410:\tlearn: 0.3062951\ttotal: 8.73s\tremaining: 12.5s\n",
      "411:\tlearn: 0.3062168\ttotal: 8.75s\tremaining: 12.5s\n",
      "412:\tlearn: 0.3061390\ttotal: 8.77s\tremaining: 12.5s\n",
      "413:\tlearn: 0.3060591\ttotal: 8.79s\tremaining: 12.4s\n",
      "414:\tlearn: 0.3059690\ttotal: 8.81s\tremaining: 12.4s\n",
      "415:\tlearn: 0.3058737\ttotal: 8.83s\tremaining: 12.4s\n",
      "416:\tlearn: 0.3057903\ttotal: 8.85s\tremaining: 12.4s\n",
      "417:\tlearn: 0.3057189\ttotal: 8.87s\tremaining: 12.3s\n",
      "418:\tlearn: 0.3056341\ttotal: 8.89s\tremaining: 12.3s\n",
      "419:\tlearn: 0.3055770\ttotal: 8.9s\tremaining: 12.3s\n",
      "420:\tlearn: 0.3054897\ttotal: 8.92s\tremaining: 12.3s\n",
      "421:\tlearn: 0.3054120\ttotal: 8.94s\tremaining: 12.2s\n",
      "422:\tlearn: 0.3053422\ttotal: 8.96s\tremaining: 12.2s\n",
      "423:\tlearn: 0.3052595\ttotal: 8.98s\tremaining: 12.2s\n",
      "424:\tlearn: 0.3052043\ttotal: 9s\tremaining: 12.2s\n",
      "425:\tlearn: 0.3051447\ttotal: 9.02s\tremaining: 12.1s\n",
      "426:\tlearn: 0.3050373\ttotal: 9.03s\tremaining: 12.1s\n",
      "427:\tlearn: 0.3049785\ttotal: 9.05s\tremaining: 12.1s\n",
      "428:\tlearn: 0.3049056\ttotal: 9.07s\tremaining: 12.1s\n",
      "429:\tlearn: 0.3048183\ttotal: 9.09s\tremaining: 12s\n",
      "430:\tlearn: 0.3047448\ttotal: 9.11s\tremaining: 12s\n",
      "431:\tlearn: 0.3046790\ttotal: 9.14s\tremaining: 12s\n",
      "432:\tlearn: 0.3046207\ttotal: 9.16s\tremaining: 12s\n",
      "433:\tlearn: 0.3045257\ttotal: 9.18s\tremaining: 12s\n",
      "434:\tlearn: 0.3044424\ttotal: 9.2s\tremaining: 11.9s\n",
      "435:\tlearn: 0.3043473\ttotal: 9.22s\tremaining: 11.9s\n",
      "436:\tlearn: 0.3042845\ttotal: 9.24s\tremaining: 11.9s\n",
      "437:\tlearn: 0.3042074\ttotal: 9.26s\tremaining: 11.9s\n",
      "438:\tlearn: 0.3041334\ttotal: 9.27s\tremaining: 11.9s\n",
      "439:\tlearn: 0.3040585\ttotal: 9.29s\tremaining: 11.8s\n",
      "440:\tlearn: 0.3039743\ttotal: 9.31s\tremaining: 11.8s\n",
      "441:\tlearn: 0.3038990\ttotal: 9.33s\tremaining: 11.8s\n",
      "442:\tlearn: 0.3038523\ttotal: 9.35s\tremaining: 11.8s\n",
      "443:\tlearn: 0.3037915\ttotal: 9.37s\tremaining: 11.7s\n",
      "444:\tlearn: 0.3036593\ttotal: 9.39s\tremaining: 11.7s\n",
      "445:\tlearn: 0.3035379\ttotal: 9.41s\tremaining: 11.7s\n",
      "446:\tlearn: 0.3034561\ttotal: 9.43s\tremaining: 11.7s\n",
      "447:\tlearn: 0.3033796\ttotal: 9.45s\tremaining: 11.6s\n",
      "448:\tlearn: 0.3032715\ttotal: 9.47s\tremaining: 11.6s\n",
      "449:\tlearn: 0.3031774\ttotal: 9.49s\tremaining: 11.6s\n",
      "450:\tlearn: 0.3030759\ttotal: 9.51s\tremaining: 11.6s\n",
      "451:\tlearn: 0.3029919\ttotal: 9.53s\tremaining: 11.6s\n",
      "452:\tlearn: 0.3029207\ttotal: 9.55s\tremaining: 11.5s\n",
      "453:\tlearn: 0.3028182\ttotal: 9.57s\tremaining: 11.5s\n",
      "454:\tlearn: 0.3027470\ttotal: 9.59s\tremaining: 11.5s\n",
      "455:\tlearn: 0.3026608\ttotal: 9.61s\tremaining: 11.5s\n",
      "456:\tlearn: 0.3025771\ttotal: 9.63s\tremaining: 11.4s\n",
      "457:\tlearn: 0.3025038\ttotal: 9.65s\tremaining: 11.4s\n",
      "458:\tlearn: 0.3024197\ttotal: 9.67s\tremaining: 11.4s\n",
      "459:\tlearn: 0.3023431\ttotal: 9.69s\tremaining: 11.4s\n",
      "460:\tlearn: 0.3022842\ttotal: 9.71s\tremaining: 11.4s\n",
      "461:\tlearn: 0.3022073\ttotal: 9.73s\tremaining: 11.3s\n",
      "462:\tlearn: 0.3020906\ttotal: 9.75s\tremaining: 11.3s\n",
      "463:\tlearn: 0.3019915\ttotal: 9.77s\tremaining: 11.3s\n",
      "464:\tlearn: 0.3019253\ttotal: 9.81s\tremaining: 11.3s\n",
      "465:\tlearn: 0.3018444\ttotal: 9.83s\tremaining: 11.3s\n",
      "466:\tlearn: 0.3017589\ttotal: 9.85s\tremaining: 11.2s\n",
      "467:\tlearn: 0.3016891\ttotal: 9.87s\tremaining: 11.2s\n",
      "468:\tlearn: 0.3016384\ttotal: 9.89s\tremaining: 11.2s\n",
      "469:\tlearn: 0.3015827\ttotal: 9.91s\tremaining: 11.2s\n",
      "470:\tlearn: 0.3014742\ttotal: 9.93s\tremaining: 11.2s\n",
      "471:\tlearn: 0.3014143\ttotal: 9.95s\tremaining: 11.1s\n",
      "472:\tlearn: 0.3013168\ttotal: 9.97s\tremaining: 11.1s\n",
      "473:\tlearn: 0.3012067\ttotal: 9.99s\tremaining: 11.1s\n",
      "474:\tlearn: 0.3011165\ttotal: 10s\tremaining: 11.1s\n",
      "475:\tlearn: 0.3010339\ttotal: 10s\tremaining: 11s\n",
      "476:\tlearn: 0.3009641\ttotal: 10s\tremaining: 11s\n",
      "477:\tlearn: 0.3009012\ttotal: 10.1s\tremaining: 11s\n",
      "478:\tlearn: 0.3007867\ttotal: 10.1s\tremaining: 11s\n",
      "479:\tlearn: 0.3007120\ttotal: 10.1s\tremaining: 11s\n",
      "480:\tlearn: 0.3006690\ttotal: 10.1s\tremaining: 10.9s\n",
      "481:\tlearn: 0.3005654\ttotal: 10.2s\tremaining: 10.9s\n",
      "482:\tlearn: 0.3004963\ttotal: 10.2s\tremaining: 10.9s\n",
      "483:\tlearn: 0.3004353\ttotal: 10.2s\tremaining: 10.9s\n",
      "484:\tlearn: 0.3003520\ttotal: 10.2s\tremaining: 10.8s\n",
      "485:\tlearn: 0.3002889\ttotal: 10.2s\tremaining: 10.8s\n",
      "486:\tlearn: 0.3001859\ttotal: 10.2s\tremaining: 10.8s\n",
      "487:\tlearn: 0.3001189\ttotal: 10.3s\tremaining: 10.8s\n",
      "488:\tlearn: 0.3000319\ttotal: 10.3s\tremaining: 10.7s\n",
      "489:\tlearn: 0.2999948\ttotal: 10.3s\tremaining: 10.7s\n",
      "490:\tlearn: 0.2999307\ttotal: 10.3s\tremaining: 10.7s\n",
      "491:\tlearn: 0.2998425\ttotal: 10.3s\tremaining: 10.7s\n",
      "492:\tlearn: 0.2998178\ttotal: 10.4s\tremaining: 10.7s\n",
      "493:\tlearn: 0.2997522\ttotal: 10.4s\tremaining: 10.6s\n",
      "494:\tlearn: 0.2996882\ttotal: 10.4s\tremaining: 10.6s\n"
     ]
    },
    {
     "name": "stdout",
     "output_type": "stream",
     "text": [
      "495:\tlearn: 0.2995918\ttotal: 10.4s\tremaining: 10.6s\n",
      "496:\tlearn: 0.2995160\ttotal: 10.4s\tremaining: 10.6s\n",
      "497:\tlearn: 0.2994438\ttotal: 10.5s\tremaining: 10.5s\n",
      "498:\tlearn: 0.2993725\ttotal: 10.5s\tremaining: 10.5s\n",
      "499:\tlearn: 0.2992903\ttotal: 10.5s\tremaining: 10.5s\n",
      "500:\tlearn: 0.2992316\ttotal: 10.5s\tremaining: 10.5s\n",
      "501:\tlearn: 0.2991414\ttotal: 10.5s\tremaining: 10.4s\n",
      "502:\tlearn: 0.2990803\ttotal: 10.6s\tremaining: 10.4s\n",
      "503:\tlearn: 0.2990129\ttotal: 10.6s\tremaining: 10.4s\n",
      "504:\tlearn: 0.2989461\ttotal: 10.6s\tremaining: 10.4s\n",
      "505:\tlearn: 0.2988820\ttotal: 10.6s\tremaining: 10.4s\n",
      "506:\tlearn: 0.2988194\ttotal: 10.6s\tremaining: 10.3s\n",
      "507:\tlearn: 0.2987445\ttotal: 10.6s\tremaining: 10.3s\n",
      "508:\tlearn: 0.2986681\ttotal: 10.7s\tremaining: 10.3s\n",
      "509:\tlearn: 0.2985692\ttotal: 10.7s\tremaining: 10.3s\n",
      "510:\tlearn: 0.2984809\ttotal: 10.7s\tremaining: 10.2s\n",
      "511:\tlearn: 0.2984207\ttotal: 10.7s\tremaining: 10.2s\n",
      "512:\tlearn: 0.2983763\ttotal: 10.7s\tremaining: 10.2s\n",
      "513:\tlearn: 0.2982893\ttotal: 10.8s\tremaining: 10.2s\n",
      "514:\tlearn: 0.2982279\ttotal: 10.8s\tremaining: 10.2s\n",
      "515:\tlearn: 0.2981755\ttotal: 10.8s\tremaining: 10.1s\n",
      "516:\tlearn: 0.2980713\ttotal: 10.8s\tremaining: 10.1s\n",
      "517:\tlearn: 0.2980143\ttotal: 10.8s\tremaining: 10.1s\n",
      "518:\tlearn: 0.2979592\ttotal: 10.9s\tremaining: 10.1s\n",
      "519:\tlearn: 0.2978830\ttotal: 10.9s\tremaining: 10s\n",
      "520:\tlearn: 0.2977893\ttotal: 10.9s\tremaining: 10s\n",
      "521:\tlearn: 0.2977262\ttotal: 10.9s\tremaining: 9.99s\n",
      "522:\tlearn: 0.2976426\ttotal: 10.9s\tremaining: 9.97s\n",
      "523:\tlearn: 0.2975851\ttotal: 11s\tremaining: 9.95s\n",
      "524:\tlearn: 0.2975211\ttotal: 11s\tremaining: 9.93s\n",
      "525:\tlearn: 0.2974505\ttotal: 11s\tremaining: 9.9s\n",
      "526:\tlearn: 0.2973627\ttotal: 11s\tremaining: 9.88s\n",
      "527:\tlearn: 0.2972951\ttotal: 11s\tremaining: 9.86s\n",
      "528:\tlearn: 0.2972041\ttotal: 11s\tremaining: 9.84s\n",
      "529:\tlearn: 0.2971282\ttotal: 11.1s\tremaining: 9.81s\n",
      "530:\tlearn: 0.2970519\ttotal: 11.1s\tremaining: 9.79s\n",
      "531:\tlearn: 0.2969857\ttotal: 11.1s\tremaining: 9.77s\n",
      "532:\tlearn: 0.2969019\ttotal: 11.1s\tremaining: 9.75s\n",
      "533:\tlearn: 0.2968609\ttotal: 11.1s\tremaining: 9.73s\n",
      "534:\tlearn: 0.2967984\ttotal: 11.2s\tremaining: 9.7s\n",
      "535:\tlearn: 0.2967287\ttotal: 11.2s\tremaining: 9.68s\n",
      "536:\tlearn: 0.2966522\ttotal: 11.2s\tremaining: 9.66s\n",
      "537:\tlearn: 0.2965891\ttotal: 11.2s\tremaining: 9.64s\n",
      "538:\tlearn: 0.2965080\ttotal: 11.2s\tremaining: 9.61s\n",
      "539:\tlearn: 0.2964271\ttotal: 11.3s\tremaining: 9.59s\n",
      "540:\tlearn: 0.2963389\ttotal: 11.3s\tremaining: 9.57s\n",
      "541:\tlearn: 0.2962669\ttotal: 11.3s\tremaining: 9.55s\n",
      "542:\tlearn: 0.2961913\ttotal: 11.3s\tremaining: 9.53s\n",
      "543:\tlearn: 0.2961072\ttotal: 11.3s\tremaining: 9.51s\n",
      "544:\tlearn: 0.2960163\ttotal: 11.4s\tremaining: 9.48s\n",
      "545:\tlearn: 0.2959293\ttotal: 11.4s\tremaining: 9.46s\n",
      "546:\tlearn: 0.2958774\ttotal: 11.4s\tremaining: 9.44s\n",
      "547:\tlearn: 0.2958063\ttotal: 11.4s\tremaining: 9.42s\n",
      "548:\tlearn: 0.2957376\ttotal: 11.4s\tremaining: 9.4s\n",
      "549:\tlearn: 0.2956738\ttotal: 11.5s\tremaining: 9.38s\n",
      "550:\tlearn: 0.2956033\ttotal: 11.5s\tremaining: 9.36s\n",
      "551:\tlearn: 0.2955372\ttotal: 11.5s\tremaining: 9.34s\n",
      "552:\tlearn: 0.2954536\ttotal: 11.5s\tremaining: 9.32s\n",
      "553:\tlearn: 0.2953529\ttotal: 11.6s\tremaining: 9.3s\n",
      "554:\tlearn: 0.2952873\ttotal: 11.6s\tremaining: 9.28s\n",
      "555:\tlearn: 0.2952280\ttotal: 11.6s\tremaining: 9.26s\n",
      "556:\tlearn: 0.2951437\ttotal: 11.6s\tremaining: 9.23s\n",
      "557:\tlearn: 0.2950633\ttotal: 11.6s\tremaining: 9.21s\n",
      "558:\tlearn: 0.2950010\ttotal: 11.7s\tremaining: 9.19s\n",
      "559:\tlearn: 0.2949335\ttotal: 11.7s\tremaining: 9.17s\n",
      "560:\tlearn: 0.2948858\ttotal: 11.7s\tremaining: 9.15s\n",
      "561:\tlearn: 0.2948201\ttotal: 11.7s\tremaining: 9.12s\n",
      "562:\tlearn: 0.2947603\ttotal: 11.7s\tremaining: 9.1s\n",
      "563:\tlearn: 0.2947063\ttotal: 11.7s\tremaining: 9.08s\n",
      "564:\tlearn: 0.2946238\ttotal: 11.8s\tremaining: 9.06s\n",
      "565:\tlearn: 0.2945345\ttotal: 11.8s\tremaining: 9.04s\n",
      "566:\tlearn: 0.2944671\ttotal: 11.8s\tremaining: 9.02s\n",
      "567:\tlearn: 0.2944030\ttotal: 11.8s\tremaining: 9s\n",
      "568:\tlearn: 0.2943486\ttotal: 11.8s\tremaining: 8.97s\n",
      "569:\tlearn: 0.2942701\ttotal: 11.9s\tremaining: 8.95s\n",
      "570:\tlearn: 0.2941848\ttotal: 11.9s\tremaining: 8.93s\n",
      "571:\tlearn: 0.2940660\ttotal: 11.9s\tremaining: 8.91s\n",
      "572:\tlearn: 0.2939733\ttotal: 11.9s\tremaining: 8.89s\n",
      "573:\tlearn: 0.2939249\ttotal: 11.9s\tremaining: 8.87s\n",
      "574:\tlearn: 0.2938562\ttotal: 12s\tremaining: 8.85s\n",
      "575:\tlearn: 0.2937980\ttotal: 12s\tremaining: 8.82s\n",
      "576:\tlearn: 0.2937577\ttotal: 12s\tremaining: 8.8s\n",
      "577:\tlearn: 0.2936914\ttotal: 12s\tremaining: 8.78s\n",
      "578:\tlearn: 0.2935874\ttotal: 12s\tremaining: 8.76s\n",
      "579:\tlearn: 0.2935293\ttotal: 12.1s\tremaining: 8.74s\n",
      "580:\tlearn: 0.2934576\ttotal: 12.1s\tremaining: 8.71s\n",
      "581:\tlearn: 0.2933930\ttotal: 12.1s\tremaining: 8.7s\n",
      "582:\tlearn: 0.2933142\ttotal: 12.1s\tremaining: 8.67s\n",
      "583:\tlearn: 0.2932592\ttotal: 12.1s\tremaining: 8.65s\n",
      "584:\tlearn: 0.2931808\ttotal: 12.2s\tremaining: 8.63s\n",
      "585:\tlearn: 0.2930999\ttotal: 12.2s\tremaining: 8.61s\n",
      "586:\tlearn: 0.2930440\ttotal: 12.2s\tremaining: 8.59s\n",
      "587:\tlearn: 0.2929633\ttotal: 12.2s\tremaining: 8.56s\n",
      "588:\tlearn: 0.2928890\ttotal: 12.2s\tremaining: 8.54s\n",
      "589:\tlearn: 0.2928325\ttotal: 12.3s\tremaining: 8.52s\n",
      "590:\tlearn: 0.2927621\ttotal: 12.3s\tremaining: 8.5s\n",
      "591:\tlearn: 0.2927100\ttotal: 12.3s\tremaining: 8.48s\n",
      "592:\tlearn: 0.2926357\ttotal: 12.3s\tremaining: 8.46s\n",
      "593:\tlearn: 0.2925696\ttotal: 12.3s\tremaining: 8.43s\n",
      "594:\tlearn: 0.2924868\ttotal: 12.4s\tremaining: 8.41s\n",
      "595:\tlearn: 0.2924208\ttotal: 12.4s\tremaining: 8.39s\n",
      "596:\tlearn: 0.2923223\ttotal: 12.4s\tremaining: 8.37s\n",
      "597:\tlearn: 0.2922575\ttotal: 12.4s\tremaining: 8.34s\n",
      "598:\tlearn: 0.2921768\ttotal: 12.4s\tremaining: 8.32s\n",
      "599:\tlearn: 0.2921207\ttotal: 12.4s\tremaining: 8.3s\n",
      "600:\tlearn: 0.2920497\ttotal: 12.5s\tremaining: 8.28s\n",
      "601:\tlearn: 0.2919833\ttotal: 12.5s\tremaining: 8.26s\n",
      "602:\tlearn: 0.2919271\ttotal: 12.5s\tremaining: 8.23s\n",
      "603:\tlearn: 0.2918431\ttotal: 12.5s\tremaining: 8.21s\n",
      "604:\tlearn: 0.2917561\ttotal: 12.5s\tremaining: 8.19s\n",
      "605:\tlearn: 0.2916856\ttotal: 12.6s\tremaining: 8.17s\n",
      "606:\tlearn: 0.2916198\ttotal: 12.6s\tremaining: 8.15s\n",
      "607:\tlearn: 0.2915500\ttotal: 12.6s\tremaining: 8.13s\n",
      "608:\tlearn: 0.2914691\ttotal: 12.6s\tremaining: 8.1s\n",
      "609:\tlearn: 0.2914073\ttotal: 12.6s\tremaining: 8.08s\n",
      "610:\tlearn: 0.2913147\ttotal: 12.7s\tremaining: 8.06s\n",
      "611:\tlearn: 0.2912697\ttotal: 12.7s\tremaining: 8.04s\n",
      "612:\tlearn: 0.2911929\ttotal: 12.7s\tremaining: 8.02s\n",
      "613:\tlearn: 0.2911143\ttotal: 12.7s\tremaining: 7.99s\n",
      "614:\tlearn: 0.2910525\ttotal: 12.7s\tremaining: 7.97s\n",
      "615:\tlearn: 0.2909942\ttotal: 12.8s\tremaining: 7.95s\n",
      "616:\tlearn: 0.2909157\ttotal: 12.8s\tremaining: 7.93s\n",
      "617:\tlearn: 0.2908732\ttotal: 12.8s\tremaining: 7.91s\n",
      "618:\tlearn: 0.2907954\ttotal: 12.8s\tremaining: 7.89s\n",
      "619:\tlearn: 0.2907216\ttotal: 12.8s\tremaining: 7.86s\n",
      "620:\tlearn: 0.2906374\ttotal: 12.9s\tremaining: 7.84s\n",
      "621:\tlearn: 0.2905590\ttotal: 12.9s\tremaining: 7.82s\n",
      "622:\tlearn: 0.2904824\ttotal: 12.9s\tremaining: 7.8s\n",
      "623:\tlearn: 0.2903992\ttotal: 12.9s\tremaining: 7.78s\n",
      "624:\tlearn: 0.2903577\ttotal: 12.9s\tremaining: 7.76s\n",
      "625:\tlearn: 0.2902917\ttotal: 12.9s\tremaining: 7.74s\n",
      "626:\tlearn: 0.2902411\ttotal: 13s\tremaining: 7.71s\n",
      "627:\tlearn: 0.2901489\ttotal: 13s\tremaining: 7.69s\n",
      "628:\tlearn: 0.2900934\ttotal: 13s\tremaining: 7.67s\n",
      "629:\tlearn: 0.2900428\ttotal: 13s\tremaining: 7.65s\n",
      "630:\tlearn: 0.2899792\ttotal: 13s\tremaining: 7.63s\n",
      "631:\tlearn: 0.2899008\ttotal: 13.1s\tremaining: 7.6s\n",
      "632:\tlearn: 0.2898327\ttotal: 13.1s\tremaining: 7.58s\n",
      "633:\tlearn: 0.2897659\ttotal: 13.1s\tremaining: 7.56s\n",
      "634:\tlearn: 0.2897057\ttotal: 13.1s\tremaining: 7.54s\n",
      "635:\tlearn: 0.2896338\ttotal: 13.1s\tremaining: 7.52s\n",
      "636:\tlearn: 0.2895488\ttotal: 13.2s\tremaining: 7.5s\n",
      "637:\tlearn: 0.2894697\ttotal: 13.2s\tremaining: 7.47s\n",
      "638:\tlearn: 0.2893828\ttotal: 13.2s\tremaining: 7.45s\n",
      "639:\tlearn: 0.2893096\ttotal: 13.2s\tremaining: 7.43s\n",
      "640:\tlearn: 0.2892537\ttotal: 13.2s\tremaining: 7.41s\n",
      "641:\tlearn: 0.2891847\ttotal: 13.3s\tremaining: 7.39s\n",
      "642:\tlearn: 0.2891035\ttotal: 13.3s\tremaining: 7.37s\n",
      "643:\tlearn: 0.2890709\ttotal: 13.3s\tremaining: 7.34s\n",
      "644:\tlearn: 0.2889901\ttotal: 13.3s\tremaining: 7.32s\n",
      "645:\tlearn: 0.2889146\ttotal: 13.3s\tremaining: 7.3s\n",
      "646:\tlearn: 0.2888427\ttotal: 13.3s\tremaining: 7.28s\n",
      "647:\tlearn: 0.2887732\ttotal: 13.4s\tremaining: 7.26s\n",
      "648:\tlearn: 0.2887138\ttotal: 13.4s\tremaining: 7.24s\n",
      "649:\tlearn: 0.2886463\ttotal: 13.4s\tremaining: 7.22s\n",
      "650:\tlearn: 0.2885970\ttotal: 13.4s\tremaining: 7.2s\n",
      "651:\tlearn: 0.2885338\ttotal: 13.4s\tremaining: 7.17s\n",
      "652:\tlearn: 0.2884871\ttotal: 13.5s\tremaining: 7.15s\n",
      "653:\tlearn: 0.2884093\ttotal: 13.5s\tremaining: 7.13s\n",
      "654:\tlearn: 0.2883384\ttotal: 13.5s\tremaining: 7.11s\n",
      "655:\tlearn: 0.2882862\ttotal: 13.5s\tremaining: 7.09s\n",
      "656:\tlearn: 0.2882289\ttotal: 13.5s\tremaining: 7.07s\n",
      "657:\tlearn: 0.2881715\ttotal: 13.6s\tremaining: 7.05s\n",
      "658:\tlearn: 0.2880911\ttotal: 13.6s\tremaining: 7.03s\n",
      "659:\tlearn: 0.2880304\ttotal: 13.6s\tremaining: 7s\n",
      "660:\tlearn: 0.2879368\ttotal: 13.6s\tremaining: 6.98s\n",
      "661:\tlearn: 0.2878576\ttotal: 13.6s\tremaining: 6.96s\n",
      "662:\tlearn: 0.2877863\ttotal: 13.7s\tremaining: 6.94s\n"
     ]
    },
    {
     "name": "stdout",
     "output_type": "stream",
     "text": [
      "663:\tlearn: 0.2876990\ttotal: 13.7s\tremaining: 6.92s\n",
      "664:\tlearn: 0.2876277\ttotal: 13.7s\tremaining: 6.9s\n",
      "665:\tlearn: 0.2875516\ttotal: 13.7s\tremaining: 6.88s\n",
      "666:\tlearn: 0.2874653\ttotal: 13.7s\tremaining: 6.86s\n",
      "667:\tlearn: 0.2874085\ttotal: 13.8s\tremaining: 6.84s\n",
      "668:\tlearn: 0.2873366\ttotal: 13.8s\tremaining: 6.83s\n",
      "669:\tlearn: 0.2872880\ttotal: 13.8s\tremaining: 6.8s\n",
      "670:\tlearn: 0.2872434\ttotal: 13.8s\tremaining: 6.78s\n",
      "671:\tlearn: 0.2871641\ttotal: 13.9s\tremaining: 6.76s\n",
      "672:\tlearn: 0.2870932\ttotal: 13.9s\tremaining: 6.74s\n",
      "673:\tlearn: 0.2870211\ttotal: 13.9s\tremaining: 6.72s\n",
      "674:\tlearn: 0.2869583\ttotal: 13.9s\tremaining: 6.7s\n",
      "675:\tlearn: 0.2868715\ttotal: 13.9s\tremaining: 6.68s\n",
      "676:\tlearn: 0.2868103\ttotal: 14s\tremaining: 6.66s\n",
      "677:\tlearn: 0.2867604\ttotal: 14s\tremaining: 6.64s\n",
      "678:\tlearn: 0.2867009\ttotal: 14s\tremaining: 6.62s\n",
      "679:\tlearn: 0.2866363\ttotal: 14s\tremaining: 6.6s\n",
      "680:\tlearn: 0.2865727\ttotal: 14s\tremaining: 6.58s\n",
      "681:\tlearn: 0.2864885\ttotal: 14.1s\tremaining: 6.55s\n",
      "682:\tlearn: 0.2864181\ttotal: 14.1s\tremaining: 6.54s\n",
      "683:\tlearn: 0.2863401\ttotal: 14.1s\tremaining: 6.51s\n",
      "684:\tlearn: 0.2862625\ttotal: 14.1s\tremaining: 6.5s\n",
      "685:\tlearn: 0.2861926\ttotal: 14.1s\tremaining: 6.47s\n",
      "686:\tlearn: 0.2861197\ttotal: 14.2s\tremaining: 6.45s\n",
      "687:\tlearn: 0.2860535\ttotal: 14.2s\tremaining: 6.43s\n",
      "688:\tlearn: 0.2859895\ttotal: 14.2s\tremaining: 6.41s\n",
      "689:\tlearn: 0.2859439\ttotal: 14.2s\tremaining: 6.39s\n",
      "690:\tlearn: 0.2858649\ttotal: 14.2s\tremaining: 6.37s\n",
      "691:\tlearn: 0.2857944\ttotal: 14.3s\tremaining: 6.35s\n",
      "692:\tlearn: 0.2857161\ttotal: 14.3s\tremaining: 6.33s\n",
      "693:\tlearn: 0.2856504\ttotal: 14.3s\tremaining: 6.31s\n",
      "694:\tlearn: 0.2855861\ttotal: 14.3s\tremaining: 6.29s\n",
      "695:\tlearn: 0.2854965\ttotal: 14.3s\tremaining: 6.26s\n",
      "696:\tlearn: 0.2854599\ttotal: 14.4s\tremaining: 6.24s\n",
      "697:\tlearn: 0.2853950\ttotal: 14.4s\tremaining: 6.22s\n",
      "698:\tlearn: 0.2853282\ttotal: 14.4s\tremaining: 6.2s\n",
      "699:\tlearn: 0.2852516\ttotal: 14.4s\tremaining: 6.18s\n",
      "700:\tlearn: 0.2852240\ttotal: 14.4s\tremaining: 6.16s\n",
      "701:\tlearn: 0.2851536\ttotal: 14.5s\tremaining: 6.13s\n",
      "702:\tlearn: 0.2850737\ttotal: 14.5s\tremaining: 6.11s\n",
      "703:\tlearn: 0.2850024\ttotal: 14.5s\tremaining: 6.09s\n",
      "704:\tlearn: 0.2849550\ttotal: 14.5s\tremaining: 6.07s\n",
      "705:\tlearn: 0.2848723\ttotal: 14.5s\tremaining: 6.05s\n",
      "706:\tlearn: 0.2848223\ttotal: 14.5s\tremaining: 6.03s\n",
      "707:\tlearn: 0.2847854\ttotal: 14.6s\tremaining: 6.01s\n",
      "708:\tlearn: 0.2846930\ttotal: 14.6s\tremaining: 5.99s\n",
      "709:\tlearn: 0.2846160\ttotal: 14.6s\tremaining: 5.96s\n",
      "710:\tlearn: 0.2845506\ttotal: 14.6s\tremaining: 5.95s\n",
      "711:\tlearn: 0.2844766\ttotal: 14.6s\tremaining: 5.92s\n",
      "712:\tlearn: 0.2844142\ttotal: 14.7s\tremaining: 5.9s\n",
      "713:\tlearn: 0.2843647\ttotal: 14.7s\tremaining: 5.88s\n",
      "714:\tlearn: 0.2842799\ttotal: 14.7s\tremaining: 5.86s\n",
      "715:\tlearn: 0.2842126\ttotal: 14.7s\tremaining: 5.84s\n",
      "716:\tlearn: 0.2841274\ttotal: 14.7s\tremaining: 5.82s\n",
      "717:\tlearn: 0.2840725\ttotal: 14.8s\tremaining: 5.8s\n",
      "718:\tlearn: 0.2840012\ttotal: 14.8s\tremaining: 5.78s\n",
      "719:\tlearn: 0.2839332\ttotal: 14.8s\tremaining: 5.76s\n",
      "720:\tlearn: 0.2838610\ttotal: 14.8s\tremaining: 5.74s\n",
      "721:\tlearn: 0.2837852\ttotal: 14.8s\tremaining: 5.71s\n",
      "722:\tlearn: 0.2837213\ttotal: 14.9s\tremaining: 5.69s\n",
      "723:\tlearn: 0.2836594\ttotal: 14.9s\tremaining: 5.67s\n",
      "724:\tlearn: 0.2835764\ttotal: 14.9s\tremaining: 5.65s\n",
      "725:\tlearn: 0.2835247\ttotal: 14.9s\tremaining: 5.63s\n",
      "726:\tlearn: 0.2834754\ttotal: 14.9s\tremaining: 5.61s\n",
      "727:\tlearn: 0.2834606\ttotal: 15s\tremaining: 5.59s\n",
      "728:\tlearn: 0.2834305\ttotal: 15s\tremaining: 5.57s\n",
      "729:\tlearn: 0.2833774\ttotal: 15s\tremaining: 5.54s\n",
      "730:\tlearn: 0.2833106\ttotal: 15s\tremaining: 5.52s\n",
      "731:\tlearn: 0.2832455\ttotal: 15s\tremaining: 5.5s\n",
      "732:\tlearn: 0.2832073\ttotal: 15s\tremaining: 5.48s\n",
      "733:\tlearn: 0.2831442\ttotal: 15.1s\tremaining: 5.46s\n",
      "734:\tlearn: 0.2830760\ttotal: 15.1s\tremaining: 5.44s\n",
      "735:\tlearn: 0.2830116\ttotal: 15.1s\tremaining: 5.42s\n",
      "736:\tlearn: 0.2829626\ttotal: 15.1s\tremaining: 5.4s\n",
      "737:\tlearn: 0.2828962\ttotal: 15.1s\tremaining: 5.38s\n",
      "738:\tlearn: 0.2828559\ttotal: 15.2s\tremaining: 5.35s\n",
      "739:\tlearn: 0.2827973\ttotal: 15.2s\tremaining: 5.33s\n",
      "740:\tlearn: 0.2827281\ttotal: 15.2s\tremaining: 5.31s\n",
      "741:\tlearn: 0.2826584\ttotal: 15.2s\tremaining: 5.29s\n",
      "742:\tlearn: 0.2826188\ttotal: 15.2s\tremaining: 5.27s\n",
      "743:\tlearn: 0.2825467\ttotal: 15.3s\tremaining: 5.25s\n",
      "744:\tlearn: 0.2824723\ttotal: 15.3s\tremaining: 5.23s\n",
      "745:\tlearn: 0.2824246\ttotal: 15.3s\tremaining: 5.21s\n",
      "746:\tlearn: 0.2823426\ttotal: 15.3s\tremaining: 5.19s\n",
      "747:\tlearn: 0.2823011\ttotal: 15.3s\tremaining: 5.17s\n",
      "748:\tlearn: 0.2822480\ttotal: 15.3s\tremaining: 5.14s\n",
      "749:\tlearn: 0.2821961\ttotal: 15.4s\tremaining: 5.12s\n",
      "750:\tlearn: 0.2821287\ttotal: 15.4s\tremaining: 5.1s\n",
      "751:\tlearn: 0.2820477\ttotal: 15.4s\tremaining: 5.08s\n",
      "752:\tlearn: 0.2819770\ttotal: 15.4s\tremaining: 5.06s\n",
      "753:\tlearn: 0.2819260\ttotal: 15.5s\tremaining: 5.04s\n",
      "754:\tlearn: 0.2818563\ttotal: 15.5s\tremaining: 5.02s\n",
      "755:\tlearn: 0.2818041\ttotal: 15.5s\tremaining: 5s\n",
      "756:\tlearn: 0.2817391\ttotal: 15.5s\tremaining: 4.98s\n",
      "757:\tlearn: 0.2816910\ttotal: 15.5s\tremaining: 4.96s\n",
      "758:\tlearn: 0.2816187\ttotal: 15.6s\tremaining: 4.94s\n",
      "759:\tlearn: 0.2815593\ttotal: 15.6s\tremaining: 4.92s\n",
      "760:\tlearn: 0.2814755\ttotal: 15.6s\tremaining: 4.9s\n",
      "761:\tlearn: 0.2814220\ttotal: 15.6s\tremaining: 4.88s\n",
      "762:\tlearn: 0.2813700\ttotal: 15.6s\tremaining: 4.86s\n",
      "763:\tlearn: 0.2812906\ttotal: 15.7s\tremaining: 4.84s\n",
      "764:\tlearn: 0.2812585\ttotal: 15.7s\tremaining: 4.82s\n",
      "765:\tlearn: 0.2811996\ttotal: 15.7s\tremaining: 4.79s\n",
      "766:\tlearn: 0.2811667\ttotal: 15.7s\tremaining: 4.77s\n",
      "767:\tlearn: 0.2811144\ttotal: 15.7s\tremaining: 4.75s\n",
      "768:\tlearn: 0.2810435\ttotal: 15.8s\tremaining: 4.73s\n",
      "769:\tlearn: 0.2809831\ttotal: 15.8s\tremaining: 4.71s\n",
      "770:\tlearn: 0.2809412\ttotal: 15.8s\tremaining: 4.69s\n",
      "771:\tlearn: 0.2808827\ttotal: 15.8s\tremaining: 4.67s\n",
      "772:\tlearn: 0.2808096\ttotal: 15.8s\tremaining: 4.65s\n",
      "773:\tlearn: 0.2807283\ttotal: 15.9s\tremaining: 4.63s\n",
      "774:\tlearn: 0.2806792\ttotal: 15.9s\tremaining: 4.61s\n",
      "775:\tlearn: 0.2806226\ttotal: 15.9s\tremaining: 4.59s\n",
      "776:\tlearn: 0.2805777\ttotal: 15.9s\tremaining: 4.57s\n",
      "777:\tlearn: 0.2805249\ttotal: 15.9s\tremaining: 4.55s\n",
      "778:\tlearn: 0.2804610\ttotal: 16s\tremaining: 4.53s\n",
      "779:\tlearn: 0.2803920\ttotal: 16s\tremaining: 4.5s\n",
      "780:\tlearn: 0.2803325\ttotal: 16s\tremaining: 4.48s\n",
      "781:\tlearn: 0.2802710\ttotal: 16s\tremaining: 4.46s\n",
      "782:\tlearn: 0.2802045\ttotal: 16s\tremaining: 4.44s\n",
      "783:\tlearn: 0.2801424\ttotal: 16.1s\tremaining: 4.42s\n",
      "784:\tlearn: 0.2800718\ttotal: 16.1s\tremaining: 4.4s\n",
      "785:\tlearn: 0.2800095\ttotal: 16.1s\tremaining: 4.38s\n",
      "786:\tlearn: 0.2799537\ttotal: 16.1s\tremaining: 4.36s\n",
      "787:\tlearn: 0.2798681\ttotal: 16.1s\tremaining: 4.34s\n",
      "788:\tlearn: 0.2798155\ttotal: 16.2s\tremaining: 4.32s\n",
      "789:\tlearn: 0.2797364\ttotal: 16.2s\tremaining: 4.3s\n",
      "790:\tlearn: 0.2796926\ttotal: 16.2s\tremaining: 4.28s\n",
      "791:\tlearn: 0.2796459\ttotal: 16.2s\tremaining: 4.26s\n",
      "792:\tlearn: 0.2795834\ttotal: 16.2s\tremaining: 4.24s\n",
      "793:\tlearn: 0.2794999\ttotal: 16.3s\tremaining: 4.22s\n",
      "794:\tlearn: 0.2794314\ttotal: 16.3s\tremaining: 4.2s\n",
      "795:\tlearn: 0.2793515\ttotal: 16.3s\tremaining: 4.17s\n",
      "796:\tlearn: 0.2792799\ttotal: 16.3s\tremaining: 4.15s\n",
      "797:\tlearn: 0.2792004\ttotal: 16.3s\tremaining: 4.13s\n",
      "798:\tlearn: 0.2791417\ttotal: 16.3s\tremaining: 4.11s\n",
      "799:\tlearn: 0.2790822\ttotal: 16.4s\tremaining: 4.09s\n",
      "800:\tlearn: 0.2790321\ttotal: 16.4s\tremaining: 4.07s\n",
      "801:\tlearn: 0.2789595\ttotal: 16.4s\tremaining: 4.05s\n",
      "802:\tlearn: 0.2788922\ttotal: 16.4s\tremaining: 4.03s\n",
      "803:\tlearn: 0.2788691\ttotal: 16.4s\tremaining: 4.01s\n",
      "804:\tlearn: 0.2788050\ttotal: 16.5s\tremaining: 3.99s\n",
      "805:\tlearn: 0.2787614\ttotal: 16.5s\tremaining: 3.97s\n",
      "806:\tlearn: 0.2787069\ttotal: 16.5s\tremaining: 3.95s\n",
      "807:\tlearn: 0.2786445\ttotal: 16.5s\tremaining: 3.93s\n",
      "808:\tlearn: 0.2786013\ttotal: 16.5s\tremaining: 3.9s\n",
      "809:\tlearn: 0.2785230\ttotal: 16.6s\tremaining: 3.88s\n",
      "810:\tlearn: 0.2784389\ttotal: 16.6s\tremaining: 3.86s\n",
      "811:\tlearn: 0.2783533\ttotal: 16.6s\tremaining: 3.84s\n",
      "812:\tlearn: 0.2783075\ttotal: 16.6s\tremaining: 3.82s\n",
      "813:\tlearn: 0.2783067\ttotal: 16.6s\tremaining: 3.8s\n",
      "814:\tlearn: 0.2782315\ttotal: 16.7s\tremaining: 3.78s\n",
      "815:\tlearn: 0.2781743\ttotal: 16.7s\tremaining: 3.76s\n",
      "816:\tlearn: 0.2780940\ttotal: 16.7s\tremaining: 3.74s\n",
      "817:\tlearn: 0.2780507\ttotal: 16.7s\tremaining: 3.72s\n",
      "818:\tlearn: 0.2779831\ttotal: 16.7s\tremaining: 3.7s\n",
      "819:\tlearn: 0.2779144\ttotal: 16.8s\tremaining: 3.68s\n",
      "820:\tlearn: 0.2778454\ttotal: 16.8s\tremaining: 3.66s\n",
      "821:\tlearn: 0.2777959\ttotal: 16.8s\tremaining: 3.63s\n",
      "822:\tlearn: 0.2777305\ttotal: 16.8s\tremaining: 3.61s\n",
      "823:\tlearn: 0.2776441\ttotal: 16.8s\tremaining: 3.59s\n",
      "824:\tlearn: 0.2775958\ttotal: 16.8s\tremaining: 3.57s\n",
      "825:\tlearn: 0.2775355\ttotal: 16.9s\tremaining: 3.55s\n",
      "826:\tlearn: 0.2774817\ttotal: 16.9s\tremaining: 3.53s\n",
      "827:\tlearn: 0.2774568\ttotal: 16.9s\tremaining: 3.51s\n",
      "828:\tlearn: 0.2773962\ttotal: 16.9s\tremaining: 3.49s\n",
      "829:\tlearn: 0.2773553\ttotal: 16.9s\tremaining: 3.47s\n"
     ]
    },
    {
     "name": "stdout",
     "output_type": "stream",
     "text": [
      "830:\tlearn: 0.2773043\ttotal: 17s\tremaining: 3.45s\n",
      "831:\tlearn: 0.2772432\ttotal: 17s\tremaining: 3.43s\n",
      "832:\tlearn: 0.2771874\ttotal: 17s\tremaining: 3.41s\n",
      "833:\tlearn: 0.2771155\ttotal: 17s\tremaining: 3.39s\n",
      "834:\tlearn: 0.2770572\ttotal: 17s\tremaining: 3.37s\n",
      "835:\tlearn: 0.2769967\ttotal: 17.1s\tremaining: 3.35s\n",
      "836:\tlearn: 0.2769331\ttotal: 17.1s\tremaining: 3.33s\n",
      "837:\tlearn: 0.2769005\ttotal: 17.1s\tremaining: 3.3s\n",
      "838:\tlearn: 0.2768264\ttotal: 17.1s\tremaining: 3.28s\n",
      "839:\tlearn: 0.2767647\ttotal: 17.1s\tremaining: 3.26s\n",
      "840:\tlearn: 0.2767070\ttotal: 17.1s\tremaining: 3.24s\n",
      "841:\tlearn: 0.2766493\ttotal: 17.2s\tremaining: 3.22s\n",
      "842:\tlearn: 0.2765902\ttotal: 17.2s\tremaining: 3.2s\n",
      "843:\tlearn: 0.2765202\ttotal: 17.2s\tremaining: 3.18s\n",
      "844:\tlearn: 0.2764676\ttotal: 17.2s\tremaining: 3.16s\n",
      "845:\tlearn: 0.2763817\ttotal: 17.2s\tremaining: 3.14s\n",
      "846:\tlearn: 0.2763191\ttotal: 17.3s\tremaining: 3.12s\n",
      "847:\tlearn: 0.2762648\ttotal: 17.3s\tremaining: 3.1s\n",
      "848:\tlearn: 0.2761859\ttotal: 17.3s\tremaining: 3.08s\n",
      "849:\tlearn: 0.2761281\ttotal: 17.3s\tremaining: 3.06s\n",
      "850:\tlearn: 0.2760715\ttotal: 17.3s\tremaining: 3.04s\n",
      "851:\tlearn: 0.2760342\ttotal: 17.4s\tremaining: 3.02s\n",
      "852:\tlearn: 0.2759866\ttotal: 17.4s\tremaining: 2.99s\n",
      "853:\tlearn: 0.2759231\ttotal: 17.4s\tremaining: 2.97s\n",
      "854:\tlearn: 0.2758421\ttotal: 17.4s\tremaining: 2.95s\n",
      "855:\tlearn: 0.2757533\ttotal: 17.4s\tremaining: 2.93s\n",
      "856:\tlearn: 0.2756856\ttotal: 17.5s\tremaining: 2.91s\n",
      "857:\tlearn: 0.2756722\ttotal: 17.5s\tremaining: 2.89s\n",
      "858:\tlearn: 0.2756087\ttotal: 17.5s\tremaining: 2.87s\n",
      "859:\tlearn: 0.2755469\ttotal: 17.5s\tremaining: 2.85s\n",
      "860:\tlearn: 0.2754598\ttotal: 17.5s\tremaining: 2.83s\n",
      "861:\tlearn: 0.2754017\ttotal: 17.6s\tremaining: 2.81s\n",
      "862:\tlearn: 0.2753626\ttotal: 17.6s\tremaining: 2.79s\n",
      "863:\tlearn: 0.2753479\ttotal: 17.6s\tremaining: 2.77s\n",
      "864:\tlearn: 0.2752753\ttotal: 17.6s\tremaining: 2.75s\n",
      "865:\tlearn: 0.2751955\ttotal: 17.6s\tremaining: 2.73s\n",
      "866:\tlearn: 0.2751549\ttotal: 17.7s\tremaining: 2.71s\n",
      "867:\tlearn: 0.2750949\ttotal: 17.7s\tremaining: 2.69s\n",
      "868:\tlearn: 0.2750426\ttotal: 17.7s\tremaining: 2.67s\n",
      "869:\tlearn: 0.2749846\ttotal: 17.8s\tremaining: 2.65s\n",
      "870:\tlearn: 0.2749389\ttotal: 17.8s\tremaining: 2.63s\n",
      "871:\tlearn: 0.2748921\ttotal: 17.8s\tremaining: 2.61s\n",
      "872:\tlearn: 0.2748347\ttotal: 17.8s\tremaining: 2.59s\n",
      "873:\tlearn: 0.2747802\ttotal: 17.8s\tremaining: 2.57s\n",
      "874:\tlearn: 0.2747125\ttotal: 17.9s\tremaining: 2.55s\n",
      "875:\tlearn: 0.2746360\ttotal: 17.9s\tremaining: 2.53s\n",
      "876:\tlearn: 0.2745646\ttotal: 17.9s\tremaining: 2.51s\n",
      "877:\tlearn: 0.2744824\ttotal: 17.9s\tremaining: 2.49s\n",
      "878:\tlearn: 0.2744122\ttotal: 17.9s\tremaining: 2.47s\n",
      "879:\tlearn: 0.2743400\ttotal: 18s\tremaining: 2.45s\n",
      "880:\tlearn: 0.2742743\ttotal: 18s\tremaining: 2.43s\n",
      "881:\tlearn: 0.2741981\ttotal: 18s\tremaining: 2.41s\n",
      "882:\tlearn: 0.2741689\ttotal: 18s\tremaining: 2.39s\n",
      "883:\tlearn: 0.2741107\ttotal: 18s\tremaining: 2.37s\n",
      "884:\tlearn: 0.2740526\ttotal: 18.1s\tremaining: 2.35s\n",
      "885:\tlearn: 0.2739799\ttotal: 18.1s\tremaining: 2.33s\n",
      "886:\tlearn: 0.2739122\ttotal: 18.1s\tremaining: 2.31s\n",
      "887:\tlearn: 0.2738333\ttotal: 18.1s\tremaining: 2.29s\n",
      "888:\tlearn: 0.2737761\ttotal: 18.2s\tremaining: 2.27s\n",
      "889:\tlearn: 0.2737008\ttotal: 18.2s\tremaining: 2.25s\n",
      "890:\tlearn: 0.2736363\ttotal: 18.2s\tremaining: 2.23s\n",
      "891:\tlearn: 0.2735646\ttotal: 18.2s\tremaining: 2.21s\n",
      "892:\tlearn: 0.2734957\ttotal: 18.2s\tremaining: 2.19s\n",
      "893:\tlearn: 0.2734430\ttotal: 18.3s\tremaining: 2.17s\n",
      "894:\tlearn: 0.2733695\ttotal: 18.3s\tremaining: 2.14s\n",
      "895:\tlearn: 0.2733221\ttotal: 18.3s\tremaining: 2.12s\n",
      "896:\tlearn: 0.2732708\ttotal: 18.3s\tremaining: 2.1s\n",
      "897:\tlearn: 0.2731969\ttotal: 18.3s\tremaining: 2.08s\n",
      "898:\tlearn: 0.2731484\ttotal: 18.4s\tremaining: 2.06s\n",
      "899:\tlearn: 0.2730700\ttotal: 18.4s\tremaining: 2.04s\n",
      "900:\tlearn: 0.2729803\ttotal: 18.4s\tremaining: 2.02s\n",
      "901:\tlearn: 0.2729226\ttotal: 18.4s\tremaining: 2s\n",
      "902:\tlearn: 0.2728363\ttotal: 18.4s\tremaining: 1.98s\n",
      "903:\tlearn: 0.2727637\ttotal: 18.5s\tremaining: 1.96s\n",
      "904:\tlearn: 0.2726988\ttotal: 18.5s\tremaining: 1.94s\n",
      "905:\tlearn: 0.2726352\ttotal: 18.5s\tremaining: 1.92s\n",
      "906:\tlearn: 0.2725869\ttotal: 18.5s\tremaining: 1.9s\n",
      "907:\tlearn: 0.2725240\ttotal: 18.5s\tremaining: 1.88s\n",
      "908:\tlearn: 0.2724704\ttotal: 18.5s\tremaining: 1.86s\n",
      "909:\tlearn: 0.2724053\ttotal: 18.6s\tremaining: 1.84s\n",
      "910:\tlearn: 0.2723053\ttotal: 18.6s\tremaining: 1.82s\n",
      "911:\tlearn: 0.2722307\ttotal: 18.6s\tremaining: 1.79s\n",
      "912:\tlearn: 0.2721659\ttotal: 18.6s\tremaining: 1.77s\n",
      "913:\tlearn: 0.2720898\ttotal: 18.6s\tremaining: 1.75s\n",
      "914:\tlearn: 0.2720149\ttotal: 18.7s\tremaining: 1.73s\n",
      "915:\tlearn: 0.2719543\ttotal: 18.7s\tremaining: 1.71s\n",
      "916:\tlearn: 0.2718824\ttotal: 18.7s\tremaining: 1.69s\n",
      "917:\tlearn: 0.2718326\ttotal: 18.7s\tremaining: 1.67s\n",
      "918:\tlearn: 0.2717952\ttotal: 18.7s\tremaining: 1.65s\n",
      "919:\tlearn: 0.2717634\ttotal: 18.8s\tremaining: 1.63s\n",
      "920:\tlearn: 0.2717049\ttotal: 18.8s\tremaining: 1.61s\n",
      "921:\tlearn: 0.2716676\ttotal: 18.8s\tremaining: 1.59s\n",
      "922:\tlearn: 0.2715963\ttotal: 18.8s\tremaining: 1.57s\n",
      "923:\tlearn: 0.2715448\ttotal: 18.8s\tremaining: 1.55s\n",
      "924:\tlearn: 0.2714899\ttotal: 18.9s\tremaining: 1.53s\n",
      "925:\tlearn: 0.2714080\ttotal: 18.9s\tremaining: 1.51s\n",
      "926:\tlearn: 0.2713718\ttotal: 18.9s\tremaining: 1.49s\n",
      "927:\tlearn: 0.2713333\ttotal: 18.9s\tremaining: 1.47s\n",
      "928:\tlearn: 0.2712795\ttotal: 18.9s\tremaining: 1.45s\n",
      "929:\tlearn: 0.2712032\ttotal: 18.9s\tremaining: 1.43s\n",
      "930:\tlearn: 0.2711321\ttotal: 19s\tremaining: 1.41s\n",
      "931:\tlearn: 0.2710607\ttotal: 19s\tremaining: 1.39s\n",
      "932:\tlearn: 0.2709828\ttotal: 19s\tremaining: 1.36s\n",
      "933:\tlearn: 0.2709828\ttotal: 19s\tremaining: 1.34s\n",
      "934:\tlearn: 0.2709250\ttotal: 19s\tremaining: 1.32s\n",
      "935:\tlearn: 0.2709048\ttotal: 19.1s\tremaining: 1.3s\n",
      "936:\tlearn: 0.2708416\ttotal: 19.1s\tremaining: 1.28s\n",
      "937:\tlearn: 0.2707933\ttotal: 19.1s\tremaining: 1.26s\n",
      "938:\tlearn: 0.2707275\ttotal: 19.1s\tremaining: 1.24s\n",
      "939:\tlearn: 0.2706870\ttotal: 19.1s\tremaining: 1.22s\n",
      "940:\tlearn: 0.2706033\ttotal: 19.1s\tremaining: 1.2s\n",
      "941:\tlearn: 0.2705421\ttotal: 19.2s\tremaining: 1.18s\n",
      "942:\tlearn: 0.2704855\ttotal: 19.2s\tremaining: 1.16s\n",
      "943:\tlearn: 0.2704431\ttotal: 19.2s\tremaining: 1.14s\n",
      "944:\tlearn: 0.2703971\ttotal: 19.2s\tremaining: 1.12s\n",
      "945:\tlearn: 0.2703330\ttotal: 19.2s\tremaining: 1.1s\n",
      "946:\tlearn: 0.2702659\ttotal: 19.3s\tremaining: 1.08s\n",
      "947:\tlearn: 0.2702013\ttotal: 19.3s\tremaining: 1.06s\n",
      "948:\tlearn: 0.2701411\ttotal: 19.3s\tremaining: 1.04s\n",
      "949:\tlearn: 0.2701060\ttotal: 19.3s\tremaining: 1.02s\n",
      "950:\tlearn: 0.2700583\ttotal: 19.3s\tremaining: 997ms\n",
      "951:\tlearn: 0.2699836\ttotal: 19.4s\tremaining: 976ms\n",
      "952:\tlearn: 0.2699306\ttotal: 19.4s\tremaining: 956ms\n",
      "953:\tlearn: 0.2698945\ttotal: 19.4s\tremaining: 936ms\n",
      "954:\tlearn: 0.2698603\ttotal: 19.4s\tremaining: 915ms\n",
      "955:\tlearn: 0.2698349\ttotal: 19.4s\tremaining: 895ms\n",
      "956:\tlearn: 0.2697759\ttotal: 19.5s\tremaining: 874ms\n",
      "957:\tlearn: 0.2697187\ttotal: 19.5s\tremaining: 854ms\n",
      "958:\tlearn: 0.2696690\ttotal: 19.5s\tremaining: 833ms\n",
      "959:\tlearn: 0.2696073\ttotal: 19.5s\tremaining: 813ms\n",
      "960:\tlearn: 0.2695314\ttotal: 19.5s\tremaining: 793ms\n",
      "961:\tlearn: 0.2694780\ttotal: 19.6s\tremaining: 772ms\n",
      "962:\tlearn: 0.2694070\ttotal: 19.6s\tremaining: 752ms\n",
      "963:\tlearn: 0.2693430\ttotal: 19.6s\tremaining: 732ms\n",
      "964:\tlearn: 0.2692817\ttotal: 19.6s\tremaining: 711ms\n",
      "965:\tlearn: 0.2692319\ttotal: 19.6s\tremaining: 691ms\n",
      "966:\tlearn: 0.2691722\ttotal: 19.7s\tremaining: 671ms\n",
      "967:\tlearn: 0.2691290\ttotal: 19.7s\tremaining: 650ms\n",
      "968:\tlearn: 0.2690787\ttotal: 19.7s\tremaining: 630ms\n",
      "969:\tlearn: 0.2690375\ttotal: 19.7s\tremaining: 610ms\n",
      "970:\tlearn: 0.2689916\ttotal: 19.7s\tremaining: 589ms\n",
      "971:\tlearn: 0.2689367\ttotal: 19.8s\tremaining: 569ms\n",
      "972:\tlearn: 0.2688764\ttotal: 19.8s\tremaining: 549ms\n",
      "973:\tlearn: 0.2688138\ttotal: 19.8s\tremaining: 528ms\n",
      "974:\tlearn: 0.2687579\ttotal: 19.8s\tremaining: 508ms\n",
      "975:\tlearn: 0.2686887\ttotal: 19.8s\tremaining: 488ms\n",
      "976:\tlearn: 0.2686347\ttotal: 19.9s\tremaining: 467ms\n",
      "977:\tlearn: 0.2685930\ttotal: 19.9s\tremaining: 447ms\n",
      "978:\tlearn: 0.2685585\ttotal: 19.9s\tremaining: 427ms\n",
      "979:\tlearn: 0.2685269\ttotal: 19.9s\tremaining: 406ms\n",
      "980:\tlearn: 0.2684502\ttotal: 19.9s\tremaining: 386ms\n",
      "981:\tlearn: 0.2684105\ttotal: 19.9s\tremaining: 366ms\n",
      "982:\tlearn: 0.2683501\ttotal: 20s\tremaining: 345ms\n",
      "983:\tlearn: 0.2682850\ttotal: 20s\tremaining: 325ms\n",
      "984:\tlearn: 0.2682286\ttotal: 20s\tremaining: 305ms\n",
      "985:\tlearn: 0.2681769\ttotal: 20s\tremaining: 284ms\n",
      "986:\tlearn: 0.2681175\ttotal: 20.1s\tremaining: 264ms\n",
      "987:\tlearn: 0.2680741\ttotal: 20.1s\tremaining: 244ms\n",
      "988:\tlearn: 0.2680102\ttotal: 20.1s\tremaining: 224ms\n",
      "989:\tlearn: 0.2679482\ttotal: 20.1s\tremaining: 203ms\n",
      "990:\tlearn: 0.2679325\ttotal: 20.1s\tremaining: 183ms\n",
      "991:\tlearn: 0.2678588\ttotal: 20.2s\tremaining: 163ms\n",
      "992:\tlearn: 0.2678051\ttotal: 20.2s\tremaining: 142ms\n"
     ]
    },
    {
     "name": "stdout",
     "output_type": "stream",
     "text": [
      "993:\tlearn: 0.2677754\ttotal: 20.2s\tremaining: 122ms\n",
      "994:\tlearn: 0.2677176\ttotal: 20.2s\tremaining: 102ms\n",
      "995:\tlearn: 0.2676826\ttotal: 20.2s\tremaining: 81.2ms\n",
      "996:\tlearn: 0.2676276\ttotal: 20.2s\tremaining: 60.9ms\n",
      "997:\tlearn: 0.2675801\ttotal: 20.3s\tremaining: 40.6ms\n",
      "998:\tlearn: 0.2674946\ttotal: 20.3s\tremaining: 20.3ms\n",
      "999:\tlearn: 0.2674357\ttotal: 20.3s\tremaining: 0us\n"
     ]
    },
    {
     "data": {
      "text/plain": [
       "Pipeline(steps=[('imputer', ArbitraryNumberImputer(arbitrary_number=-9999)),\n",
       "                ('encoder', MeanEncoder()), ('scaler', MinMaxScaler()),\n",
       "                ('model',\n",
       "                 VotingClassifier(estimators=[('m1',\n",
       "                                               <catboost.core.CatBoostClassifier object at 0x000001C9C8E4CB88>),\n",
       "                                              ('m2', RandomForestClassifier()),\n",
       "                                              ('m3',\n",
       "                                               GradientBoostingClassifier()),\n",
       "                                              ('m4', LGBMClassifier()),\n",
       "                                              ('m5',\n",
       "                                               XGBClassifier(base_...\n",
       "                                                             interaction_constraints=None,\n",
       "                                                             learning_rate=None,\n",
       "                                                             max_bin=None,\n",
       "                                                             max_cat_to_onehot=None,\n",
       "                                                             max_delta_step=None,\n",
       "                                                             max_depth=None,\n",
       "                                                             max_leaves=None,\n",
       "                                                             min_child_weight=None,\n",
       "                                                             missing=nan,\n",
       "                                                             monotone_constraints=None,\n",
       "                                                             n_estimators=100,\n",
       "                                                             n_jobs=None,\n",
       "                                                             num_parallel_tree=None,\n",
       "                                                             predictor=None,\n",
       "                                                             random_state=None,\n",
       "                                                             reg_alpha=None,\n",
       "                                                             reg_lambda=None, ...)),\n",
       "                                              ('m6', LogisticRegression())],\n",
       "                                  voting='soft'))])"
      ]
     },
     "execution_count": 93,
     "metadata": {},
     "output_type": "execute_result"
    }
   ],
   "source": [
    "pipeline.fit(features_train, target_train)"
   ]
  },
  {
   "cell_type": "code",
   "execution_count": 94,
   "id": "cc0b6b81",
   "metadata": {
    "ExecuteTime": {
     "end_time": "2023-01-09T12:56:19.808905Z",
     "start_time": "2023-01-09T12:56:19.001898Z"
    },
    "pycharm": {
     "name": "#%%\n"
    }
   },
   "outputs": [],
   "source": [
    "y_pred = pipeline.predict_proba(features_test)"
   ]
  },
  {
   "cell_type": "code",
   "execution_count": 95,
   "id": "8247a010",
   "metadata": {
    "ExecuteTime": {
     "end_time": "2023-01-09T12:56:22.804907Z",
     "start_time": "2023-01-09T12:56:22.796906Z"
    },
    "pycharm": {
     "name": "#%%\n"
    }
   },
   "outputs": [],
   "source": [
    "y_pred = y_pred[:, 1]"
   ]
  },
  {
   "cell_type": "code",
   "execution_count": 96,
   "id": "5772bced",
   "metadata": {
    "ExecuteTime": {
     "end_time": "2023-01-09T12:56:26.735076Z",
     "start_time": "2023-01-09T12:56:26.722067Z"
    },
    "pycharm": {
     "name": "#%%\n"
    }
   },
   "outputs": [
    {
     "data": {
      "text/plain": [
       "(26824, 22566.91333981701)"
      ]
     },
     "execution_count": 96,
     "metadata": {},
     "output_type": "execute_result"
    }
   ],
   "source": [
    "len(y_pred), sum(y_pred)"
   ]
  },
  {
   "cell_type": "code",
   "execution_count": 97,
   "id": "369fea66",
   "metadata": {
    "ExecuteTime": {
     "end_time": "2023-01-09T12:56:32.733203Z",
     "start_time": "2023-01-09T12:56:32.718203Z"
    },
    "pycharm": {
     "name": "#%%\n"
    }
   },
   "outputs": [],
   "source": [
    "submit_data = pd.DataFrame(data=y_pred, columns=['Predicted'])"
   ]
  },
  {
   "cell_type": "code",
   "execution_count": 98,
   "id": "99cc5294",
   "metadata": {
    "ExecuteTime": {
     "end_time": "2023-01-09T12:56:33.941353Z",
     "start_time": "2023-01-09T12:56:33.884274Z"
    },
    "pycharm": {
     "name": "#%%\n"
    }
   },
   "outputs": [],
   "source": [
    "submit_data.to_csv(f'{PATH_TO_PREPARED_DATA}/submit.csv', index_label='Id', sep=\",\")"
   ]
  },
  {
   "cell_type": "code",
   "execution_count": 143,
   "id": "1ad06314",
   "metadata": {
    "ExecuteTime": {
     "end_time": "2022-12-28T11:42:16.282876Z",
     "start_time": "2022-12-28T11:42:16.270841Z"
    },
    "pycharm": {
     "name": "#%%\n"
    }
   },
   "outputs": [
    {
     "data": {
      "text/html": [
       "<div>\n",
       "<style scoped>\n",
       "    .dataframe tbody tr th:only-of-type {\n",
       "        vertical-align: middle;\n",
       "    }\n",
       "\n",
       "    .dataframe tbody tr th {\n",
       "        vertical-align: top;\n",
       "    }\n",
       "\n",
       "    .dataframe thead th {\n",
       "        text-align: right;\n",
       "    }\n",
       "</style>\n",
       "<table border=\"1\" class=\"dataframe\">\n",
       "  <thead>\n",
       "    <tr style=\"text-align: right;\">\n",
       "      <th></th>\n",
       "      <th>Predicted</th>\n",
       "    </tr>\n",
       "  </thead>\n",
       "  <tbody>\n",
       "  </tbody>\n",
       "</table>\n",
       "</div>"
      ],
      "text/plain": [
       "Empty DataFrame\n",
       "Columns: [Predicted]\n",
       "Index: []"
      ]
     },
     "execution_count": 143,
     "metadata": {},
     "output_type": "execute_result"
    }
   ],
   "source": [
    "submit_data[submit_data['Predicted']==0]"
   ]
  }
 ],
 "metadata": {
  "kernelspec": {
   "display_name": "Python 3 (ipykernel)",
   "language": "python",
   "name": "python3"
  },
  "language_info": {
   "codemirror_mode": {
    "name": "ipython",
    "version": 3
   },
   "file_extension": ".py",
   "mimetype": "text/x-python",
   "name": "python",
   "nbconvert_exporter": "python",
   "pygments_lexer": "ipython3",
   "version": "3.7.6"
  },
  "toc": {
   "base_numbering": 1,
   "nav_menu": {
    "height": "156.997px",
    "width": "204.983px"
   },
   "number_sections": true,
   "sideBar": true,
   "skip_h1_title": false,
   "title_cell": "Table of Contents",
   "title_sidebar": "Contents",
   "toc_cell": false,
   "toc_position": {
    "height": "calc(100% - 180px)",
    "left": "10px",
    "top": "150px",
    "width": "285.391px"
   },
   "toc_section_display": true,
   "toc_window_display": true
  },
  "varInspector": {
   "cols": {
    "lenName": 16,
    "lenType": 16,
    "lenVar": 40
   },
   "kernels_config": {
    "python": {
     "delete_cmd_postfix": "",
     "delete_cmd_prefix": "del ",
     "library": "var_list.py",
     "varRefreshCmd": "print(var_dic_list())"
    },
    "r": {
     "delete_cmd_postfix": ") ",
     "delete_cmd_prefix": "rm(",
     "library": "var_list.r",
     "varRefreshCmd": "cat(var_dic_list()) "
    }
   },
   "types_to_exclude": [
    "module",
    "function",
    "builtin_function_or_method",
    "instance",
    "_Feature"
   ],
   "window_display": false
  }
 },
 "nbformat": 4,
 "nbformat_minor": 5
}